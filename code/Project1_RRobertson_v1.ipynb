{
 "cells": [
  {
   "cell_type": "markdown",
   "metadata": {},
   "source": [
    "<img src=\"http://imgur.com/1ZcRyrc.png\" style=\"float: left; margin: 20px; height: 55px\">\n",
    "\n",
    "# Project 1:  Standardized Test Analysis"
   ]
  },
  {
   "cell_type": "markdown",
   "metadata": {},
   "source": [
    "# Part 1 - Prep\n",
    "---"
   ]
  },
  {
   "cell_type": "markdown",
   "metadata": {},
   "source": [
    "## To-Do List"
   ]
  },
  {
   "cell_type": "markdown",
   "metadata": {},
   "source": [
    "#### <span style=\"color:green\">1 **[ X ]** Research and Initial Data Exploration"
   ]
  },
  {
   "cell_type": "markdown",
   "metadata": {},
   "source": [
    "#### <span style=\"color:orange\">2 **[  ]** Refine Problem Statement"
   ]
  },
  {
   "cell_type": "markdown",
   "metadata": {
    "ExecuteTime": {
     "end_time": "2021-03-30T12:12:29.700406Z",
     "start_time": "2021-03-30T12:12:29.697203Z"
    }
   },
   "source": [
    "#### <span style=\"color:orange\">3 **[  ]** Add Additional Background Info and Outside Research"
   ]
  },
  {
   "cell_type": "markdown",
   "metadata": {},
   "source": [
    "#### <span style=\"color:green\"> 4 **[ X ]** Select Data"
   ]
  },
  {
   "cell_type": "markdown",
   "metadata": {},
   "source": [
    "#### <span style=\"color:orange\">5 **[   ]** Outside Research - Collect and Catalog"
   ]
  },
  {
   "cell_type": "markdown",
   "metadata": {},
   "source": [
    "#### <span style=\"color:green\"> 6 **[ X ]** Create Functions"
   ]
  },
  {
   "cell_type": "markdown",
   "metadata": {},
   "source": [
    "#### <span style=\"color:green\">7 **[ X ]** Import and Clean Data"
   ]
  },
  {
   "cell_type": "markdown",
   "metadata": {},
   "source": [
    "#### <span style=\"color:red\">8 **[ ]** Create Data Dictionary"
   ]
  },
  {
   "cell_type": "markdown",
   "metadata": {},
   "source": [
    "#### <span style=\"color:red\">9 **[  ]** Create Visualizations"
   ]
  },
  {
   "cell_type": "markdown",
   "metadata": {
    "ExecuteTime": {
     "end_time": "2021-03-30T12:07:06.799787Z",
     "start_time": "2021-03-30T12:07:06.796478Z"
    }
   },
   "source": [
    "#### <span style=\"color:red\">10 **[  ]** Write conclusions and recommendations"
   ]
  },
  {
   "cell_type": "markdown",
   "metadata": {},
   "source": [
    "#### <span style=\"color:red\">11 **[  ]** Create README.md \n",
    "Include problem statement, data dictionary, brief summary of your analysis, conclusions / recommendations, and citations"
   ]
  },
  {
   "cell_type": "markdown",
   "metadata": {},
   "source": [
    "#### <span style=\"color:red\">12 **[  ]** Create Short Presentation for Friday"
   ]
  },
  {
   "cell_type": "markdown",
   "metadata": {},
   "source": [
    "## Contents"
   ]
  },
  {
   "cell_type": "markdown",
   "metadata": {
    "ExecuteTime": {
     "end_time": "2021-03-30T11:57:38.558879Z",
     "start_time": "2021-03-30T11:57:38.555348Z"
    }
   },
   "source": [
    "**Part 1**\n",
    "- [Problem Statement](#Problem-Statement)\n",
    "- [Background](#Background)\n",
    "- [Custom Functions](#-Custom-Functions)\n",
    "\n",
    "**Part 2**\n",
    "- [Library Imports](#Library-Imports)\n",
    "- [Data Import & Cleaning](#Data-Import-and-Cleaning)\n",
    "- [Exploratory Data Analysis](#Exploratory-Data-Analysis)\n",
    "- [Data Visualization](#Visualize-the-Data)\n",
    "- [Conclusions and Recommendations](#Conclusions-and-Recommendations)"
   ]
  },
  {
   "cell_type": "markdown",
   "metadata": {},
   "source": [
    "## <span style=\"color:orange\"> Problem Statement</span>"
   ]
  },
  {
   "cell_type": "markdown",
   "metadata": {},
   "source": [
    "High School students across the country take the SAT, the ACT, or both as they prepare for their lives after graduation. I want to look at the relationship between average scores and participation rates by state to find correlations and understand the data.   "
   ]
  },
  {
   "cell_type": "markdown",
   "metadata": {},
   "source": [
    "## <span style=\"color:orange\">Background</span>"
   ]
  },
  {
   "cell_type": "markdown",
   "metadata": {},
   "source": [
    "The SAT and ACT are standardized tests that many colleges and universities in the United States require for their admissions process. This score is used along with other materials such as grade point average (GPA) and essay responses to determine whether or not a potential student will be accepted to the university.\n",
    "\n",
    "The SAT has two sections of the test: Evidence-Based Reading and Writing and Math ([*source*](https://www.princetonreview.com/college/sat-sections)). The ACT has 4 sections: English, Mathematics, Reading, and Science, with an additional optional writing section ([*source*](https://www.act.org/content/act/en/products-and-services/the-act/scores/understanding-your-scores.html)). They have different score ranges, which you can read more about on their websites or additional outside sources (a quick Google search will help you understand the scores for each test):\n",
    "* [SAT](https://collegereadiness.collegeboard.org/sat)\n",
    "* [ACT](https://www.act.org/content/act/en.html)\n",
    "\n",
    "Standardized tests have long been a controversial topic for students, administrators, and legislators. Since the 1940's, an increasing number of colleges have been using scores from sudents' performances on tests like the SAT and the ACT as a measure for college readiness and aptitude ([*source*](https://www.minotdailynews.com/news/local-news/2017/04/a-brief-history-of-the-sat-and-act/)). Supporters of these tests argue that these scores can be used as an objective measure to determine college admittance. Opponents of these tests claim that these tests are not accurate measures of students potential or ability and serve as an inequitable barrier to entry. Lately, more and more schools are opting to drop the SAT/ACT requirement for their Fall 2021 applications ([*read more about this here*](https://www.cnn.com/2020/04/14/us/coronavirus-colleges-sat-act-test-trnd/index.html))."
   ]
  },
  {
   "cell_type": "markdown",
   "metadata": {},
   "source": [
    "<span style=\"color:red\">**To-Do:**</span>  \n",
    "*Fill out this cell (or edit the above cell) with any other background or information that is necessary for your problem statement.*"
   ]
  },
  {
   "cell_type": "markdown",
   "metadata": {
    "heading_collapsed": true
   },
   "source": [
    "## <span style=\"color:teal\"> Data </span>"
   ]
  },
  {
   "cell_type": "markdown",
   "metadata": {
    "hidden": true
   },
   "source": [
    "I've chosen to work with the 7 datasets below in order to compare participation rates and overall average test scores for each State. \n",
    "\n",
    "The last dataset contains 2 letter state codes and regional information from the US Census Bureau that will allow me to organize states according to their geographical regions.\n",
    "\n",
    "**ACT scores and participation by state:**\n",
    "    \n",
    "> [`act_2017.csv`](./data/act_2017.csv)  \n",
    "> [`sat_2017.csv`](./data/sat_2017.csv)  \n",
    "> [`act_2018.csv`](./data/act_2018.csv)  \n",
    "\n",
    "**SAT scores and participation by state:**\n",
    "> [`sat_2018.csv`](./data/sat_2018.csv)  \n",
    "> [`act_2019.csv`](./data/act_2019.csv)  \n",
    "> [`sat_2019.csv`](./data/sat_2019.csv)  \n",
    "\n",
    "**State regional designations used by the US Census Bureau:**\n",
    "> [`census_regions.csv`](./data/census_regions.csv)\n",
    ">\n",
    "> Source: [GitHub user Chris Halpert (cphalpert)](https://github.com/cphalpert/census-regions/blob/master/us%20census%20bureau%20regions%20and%20divisions.csv)  \n",
    "Chris sited his source, a file in cenus.gov's document library: [reg_div.txt](https://www2.census.gov/geo/docs/maps-data/maps/reg_div.txt)  \n",
    "I found corroboration from another census.gov document ([all-geocodes-v2016.xlsx](https://https://www2.census.gov/programs-surveys/popest/geographies/2016/all-geocodes-v2016.xlsx)) and on NOAA.gov ([U.S. Census Divisions](https://www.ncdc.noaa.gov/monitoring-references/maps/us-census-divisions.php))"
   ]
  },
  {
   "cell_type": "markdown",
   "metadata": {
    "heading_collapsed": true,
    "hidden": true
   },
   "source": [
    "### Imports and assignments"
   ]
  },
  {
   "cell_type": "code",
   "execution_count": 1,
   "metadata": {
    "ExecuteTime": {
     "end_time": "2021-04-01T12:53:36.499471Z",
     "start_time": "2021-04-01T12:53:36.109473Z"
    },
    "hidden": true
   },
   "outputs": [],
   "source": [
    "import pandas as pd\n",
    "\n",
    "# Source dataframes for quick reference later on if needed\n",
    "\n",
    "act_17_source = pd.read_csv('data/act_2017.csv')\n",
    "act_18_source = pd.read_csv('data/act_2018.csv')\n",
    "act_19_source = pd.read_csv('data/act_2019.csv')\n",
    "sat_17_source = pd.read_csv('data/sat_2017.csv')\n",
    "sat_18_source = pd.read_csv('data/sat_2018.csv')\n",
    "sat_19_source = pd.read_csv('data/sat_2019.csv')\n",
    "states_source = pd.read_csv('data/census_regions.csv')\n",
    "\n",
    "dfs_source = {'ACT 2017': act_17_source, \n",
    "       'ACT 2018': act_18_source, \n",
    "       'ACT 2019': act_19_source,\n",
    "       'SAT 2017': sat_17_source,\n",
    "       'SAT 2018': sat_18_source,\n",
    "       'SAT 2019': sat_19_source,\n",
    "       'States Info': states_source,\n",
    "      }"
   ]
  },
  {
   "cell_type": "code",
   "execution_count": 2,
   "metadata": {
    "ExecuteTime": {
     "end_time": "2021-04-01T12:53:36.518029Z",
     "start_time": "2021-04-01T12:53:36.501512Z"
    },
    "hidden": true
   },
   "outputs": [],
   "source": [
    "# Working dataframes for cleaning, processing, and analysis\n",
    "\n",
    "act_17 = pd.read_csv('data/act_2017.csv')\n",
    "act_18 = pd.read_csv('data/act_2018.csv')\n",
    "act_19 = pd.read_csv('data/act_2019.csv')\n",
    "sat_17 = pd.read_csv('data/sat_2017.csv')\n",
    "sat_18 = pd.read_csv('data/sat_2018.csv')\n",
    "sat_19 = pd.read_csv('data/sat_2019.csv')\n",
    "states = pd.read_csv('data/census_regions.csv')\n",
    "\n",
    "dfs = {'ACT 2017': act_17, \n",
    "       'ACT 2018': act_18, \n",
    "       'ACT 2019': act_19,\n",
    "       'SAT 2017': sat_17,\n",
    "       'SAT 2018': sat_18,\n",
    "       'SAT 2019': sat_19,\n",
    "       'States Info': states,\n",
    "      }"
   ]
  },
  {
   "cell_type": "markdown",
   "metadata": {
    "heading_collapsed": true
   },
   "source": [
    "## <span style=\"color:red\">Outside Research</span>"
   ]
  },
  {
   "cell_type": "markdown",
   "metadata": {
    "hidden": true
   },
   "source": [
    "Based on your problem statement and your chosen datasets, spend some time doing outside research on state policies or additional information that might be relevant. Summarize your findings below. If you bring in any outside tables or charts, make sure you are explicit about having borrowed them. If you quote any text, make sure that it renders as being quoted. **Make sure that you cite your sources.**"
   ]
  },
  {
   "cell_type": "markdown",
   "metadata": {
    "hidden": true
   },
   "source": [
    "<span style=\"color:red\">**To-Do:**</span>  \n",
    "*Fill out this cell with outside research or any additional background information that will support your analysis.*"
   ]
  },
  {
   "cell_type": "markdown",
   "metadata": {
    "ExecuteTime": {
     "end_time": "2021-03-30T11:39:30.700912Z",
     "start_time": "2021-03-30T11:39:30.698787Z"
    },
    "heading_collapsed": true
   },
   "source": [
    "## <span style=\"color:teal\"> Custom Functions</span>"
   ]
  },
  {
   "cell_type": "markdown",
   "metadata": {
    "hidden": true
   },
   "source": [
    "**Mean Function**"
   ]
  },
  {
   "cell_type": "code",
   "execution_count": 3,
   "metadata": {
    "ExecuteTime": {
     "end_time": "2021-04-01T12:53:37.682790Z",
     "start_time": "2021-04-01T12:53:37.680570Z"
    },
    "hidden": true
   },
   "outputs": [],
   "source": [
    "def find_mean(numbers):\n",
    "    return sum(numbers)/len(numbers)"
   ]
  },
  {
   "cell_type": "code",
   "execution_count": 4,
   "metadata": {
    "ExecuteTime": {
     "end_time": "2021-04-01T12:53:37.706105Z",
     "start_time": "2021-04-01T12:53:37.703364Z"
    },
    "hidden": true
   },
   "outputs": [],
   "source": [
    "# test_list0 = [5, 6, 7]\n",
    "# test_list1 = [1, 2, 3, 4, 5, 6, 7 ,8 , 9]\n",
    "# test_list2 = [73, 40, 53, 90, 57, 3, 5]\n",
    "\n",
    "# print(f'test_list0: {find_mean(test_list0)}')\n",
    "# print(f'test_list1: {find_mean(test_list1)}')\n",
    "# print(f'test_list2: {find_mean(test_list2)}')"
   ]
  },
  {
   "cell_type": "markdown",
   "metadata": {
    "hidden": true
   },
   "source": [
    "---"
   ]
  },
  {
   "cell_type": "markdown",
   "metadata": {
    "hidden": true
   },
   "source": [
    "**Standard Deviation Function**"
   ]
  },
  {
   "cell_type": "markdown",
   "metadata": {
    "hidden": true
   },
   "source": [
    " $\\sigma = \\sqrt{\\frac{1}{n}\\sum_{i=1}^n(x_i - \\mu)^2}$$"
   ]
  },
  {
   "cell_type": "code",
   "execution_count": 5,
   "metadata": {
    "ExecuteTime": {
     "end_time": "2021-04-01T12:53:38.627181Z",
     "start_time": "2021-04-01T12:53:38.624253Z"
    },
    "hidden": true
   },
   "outputs": [],
   "source": [
    "def find_stdv(data):\n",
    "    avg = find_mean(data)\n",
    "    n = len(data)\n",
    "    t = 0\n",
    "    \n",
    "    for i in data:\n",
    "        t += ((i - avg) ** 2)\n",
    "    \n",
    "    return ((t/(n-1)) ** .5)"
   ]
  },
  {
   "cell_type": "code",
   "execution_count": 6,
   "metadata": {
    "ExecuteTime": {
     "end_time": "2021-04-01T12:53:38.647378Z",
     "start_time": "2021-04-01T12:53:38.644866Z"
    },
    "hidden": true
   },
   "outputs": [],
   "source": [
    "# test_list0 = [5, 6, 7]                                #I tested these against\n",
    "# test_list1 = [1, 2, 3, 4, 5, 6, 7 ,8 , 9]\n",
    "# test_list2 = [73, 40, 53, 90, 57, 3, 5]\n",
    "\n",
    "# print(f'test_list0: {find_stdv(test_list0)}')            \n",
    "# print(f'test_list1: {find_stdv(test_list1)}')\n",
    "# print(f'test_list2: {find_stdv(test_list2)}')"
   ]
  },
  {
   "cell_type": "markdown",
   "metadata": {
    "hidden": true
   },
   "source": [
    "---"
   ]
  },
  {
   "cell_type": "markdown",
   "metadata": {
    "hidden": true
   },
   "source": [
    "**Data Cleaning Function**"
   ]
  },
  {
   "cell_type": "code",
   "execution_count": 7,
   "metadata": {
    "ExecuteTime": {
     "end_time": "2021-04-01T12:53:39.238498Z",
     "start_time": "2021-04-01T12:53:39.235574Z"
    },
    "hidden": true
   },
   "outputs": [],
   "source": [
    "def percent_to_float(percent):\n",
    "    number = percent[:-1]\n",
    "    temp = float(number)\n",
    "    return temp / 100"
   ]
  },
  {
   "cell_type": "code",
   "execution_count": 8,
   "metadata": {
    "ExecuteTime": {
     "end_time": "2021-04-01T12:53:39.260856Z",
     "start_time": "2021-04-01T12:53:39.258618Z"
    },
    "hidden": true
   },
   "outputs": [],
   "source": [
    "# print(f\"test1: {percent_to_float('50%')}\")\n",
    "# print(f\"test1: {percent_to_float('30.5%')}\")\n",
    "# print(f\"test2: {percent_to_float('41.2671%')}\")"
   ]
  },
  {
   "cell_type": "markdown",
   "metadata": {
    "hidden": true
   },
   "source": [
    "---"
   ]
  },
  {
   "cell_type": "markdown",
   "metadata": {
    "hidden": true
   },
   "source": [
    "**Miscellaneous Code**"
   ]
  },
  {
   "cell_type": "markdown",
   "metadata": {
    "hidden": true
   },
   "source": [
    "For table formatting in markdown cells:"
   ]
  },
  {
   "cell_type": "code",
   "execution_count": 9,
   "metadata": {
    "ExecuteTime": {
     "end_time": "2021-04-01T12:53:40.146355Z",
     "start_time": "2021-04-01T12:53:40.137276Z"
    },
    "hidden": true
   },
   "outputs": [
    {
     "data": {
      "text/html": [
       "<style> \n",
       "table {align:left;display:block}      # setting markdown tables to align left rather than center on the page\n",
       "\n",
       "</style>\n"
      ],
      "text/plain": [
       "<IPython.core.display.HTML object>"
      ]
     },
     "metadata": {},
     "output_type": "display_data"
    }
   ],
   "source": [
    "%%html\n",
    "<style> \n",
    "table {align:left;display:block}      # setting markdown tables to align left rather than center on the page\n",
    "\n",
    "</style>"
   ]
  },
  {
   "cell_type": "markdown",
   "metadata": {
    "hidden": true
   },
   "source": [
    "For simultaneously displaying multiple data frames with Pandas' table formatting:"
   ]
  },
  {
   "cell_type": "code",
   "execution_count": 10,
   "metadata": {
    "ExecuteTime": {
     "end_time": "2021-04-01T12:53:40.448689Z",
     "start_time": "2021-04-01T12:53:40.445807Z"
    },
    "hidden": true
   },
   "outputs": [],
   "source": [
    "from IPython.core import display as ICD           # See citation below"
   ]
  },
  {
   "cell_type": "code",
   "execution_count": 11,
   "metadata": {
    "ExecuteTime": {
     "end_time": "2021-04-01T12:53:40.474355Z",
     "start_time": "2021-04-01T12:53:40.466812Z"
    },
    "hidden": true
   },
   "outputs": [],
   "source": [
    "# for returning a single dataframe preview with a formatted caption above to serve as a table title \n",
    "\n",
    "def titled_df(dataframe, title):\n",
    "    return ICD.display(dataframe.head().style.set_caption(title).set_table_styles([{\n",
    "            'selector': 'caption',\n",
    "            'props': [('color', 'black'), ('font-size', '14px'), ('weight', 'bold')]}]))  "
   ]
  },
  {
   "cell_type": "code",
   "execution_count": 12,
   "metadata": {
    "ExecuteTime": {
     "end_time": "2021-04-01T12:53:40.491160Z",
     "start_time": "2021-04-01T12:53:40.485379Z"
    },
    "hidden": true
   },
   "outputs": [],
   "source": [
    "# for returning multiple dataframe previews with titles    \n",
    "\n",
    "def df_previews(dataframe_dict):                     # Assuming dictionary input where:\n",
    "    tables = []                                      # key = title_string   and   value = dataframe object\n",
    "    for key, df in dataframe_dict.items():           # loops through dicitonary\n",
    "        tables.append(titled_df(df, key));           # appends titled tables to list\n",
    "            \n",
    "    return tables                                    # returns list of tables"
   ]
  },
  {
   "cell_type": "markdown",
   "metadata": {
    "ExecuteTime": {
     "end_time": "2021-04-01T07:35:59.052014Z",
     "start_time": "2021-04-01T07:35:59.046911Z"
    },
    "hidden": true
   },
   "source": [
    "HUGE thanks to Amanda Khairunnisa for help figuring out these formulas!\n",
    "\n",
    "We found code and the necessary package in these threads:  \n",
    "https://stackoverflow.com/questions/59535426/can-you-change-the-caption-font-size-using-pandas-styling  \n",
    "https://stackoverflow.com/questions/58864672/how-can-i-set-the-font-of-the-caption-of-a-pandas-datafrane"
   ]
  },
  {
   "cell_type": "markdown",
   "metadata": {
    "hidden": true
   },
   "source": [
    "For quickly displaying `.info()` for all 7 dataframes simultaneously:"
   ]
  },
  {
   "cell_type": "code",
   "execution_count": 13,
   "metadata": {
    "ExecuteTime": {
     "end_time": "2021-04-01T12:53:41.096391Z",
     "start_time": "2021-04-01T12:53:41.093448Z"
    },
    "hidden": true
   },
   "outputs": [],
   "source": [
    "def df_infos(dataframe_dict):                  \n",
    "     for key, df in dataframe_dict.items():\n",
    "            print(key)\n",
    "            print(df.info())\n",
    "            print()\n",
    "            print()"
   ]
  },
  {
   "cell_type": "markdown",
   "metadata": {},
   "source": [
    "# Part 2 - Analysis\n",
    "\n",
    "---"
   ]
  },
  {
   "cell_type": "markdown",
   "metadata": {
    "ExecuteTime": {
     "end_time": "2021-03-30T11:59:41.541378Z",
     "start_time": "2021-03-30T11:59:41.539208Z"
    },
    "heading_collapsed": true
   },
   "source": [
    "## Imports"
   ]
  },
  {
   "cell_type": "code",
   "execution_count": 14,
   "metadata": {
    "ExecuteTime": {
     "end_time": "2021-04-01T12:53:42.278536Z",
     "start_time": "2021-04-01T12:53:41.713218Z"
    },
    "hidden": true
   },
   "outputs": [],
   "source": [
    "import pandas as pd\n",
    "import numpy as np\n",
    "import matplotlib.pyplot as plt\n",
    "import seaborn as sns\n",
    "from IPython.core import display as ICD    # see [Custom Functions > 4. Misc Code] for purpose and citation \n",
    "\n",
    "# Data imports handled in [Part 1 > Data] section above"
   ]
  },
  {
   "cell_type": "markdown",
   "metadata": {},
   "source": [
    "## <span style=\"color:teal\">Data Cleaning</span>"
   ]
  },
  {
   "cell_type": "markdown",
   "metadata": {
    "heading_collapsed": true
   },
   "source": [
    "### Dataframe Previews"
   ]
  },
  {
   "cell_type": "code",
   "execution_count": 15,
   "metadata": {
    "ExecuteTime": {
     "end_time": "2021-04-01T12:53:42.709962Z",
     "start_time": "2021-04-01T12:53:42.444397Z"
    },
    "code_folding": [],
    "hidden": true
   },
   "outputs": [
    {
     "data": {
      "text/html": [
       "<style  type=\"text/css\" >\n",
       "    #T_49b9a1e2_92e9_11eb_833d_38c9861155e7 caption {\n",
       "          color: black;\n",
       "          font-size: 14px;\n",
       "          weight: bold;\n",
       "    }</style><table id=\"T_49b9a1e2_92e9_11eb_833d_38c9861155e7\" ><caption>ACT 2017</caption><thead>    <tr>        <th class=\"blank level0\" ></th>        <th class=\"col_heading level0 col0\" >State</th>        <th class=\"col_heading level0 col1\" >Participation</th>        <th class=\"col_heading level0 col2\" >English</th>        <th class=\"col_heading level0 col3\" >Math</th>        <th class=\"col_heading level0 col4\" >Reading</th>        <th class=\"col_heading level0 col5\" >Science</th>        <th class=\"col_heading level0 col6\" >Composite</th>    </tr></thead><tbody>\n",
       "                <tr>\n",
       "                        <th id=\"T_49b9a1e2_92e9_11eb_833d_38c9861155e7level0_row0\" class=\"row_heading level0 row0\" >0</th>\n",
       "                        <td id=\"T_49b9a1e2_92e9_11eb_833d_38c9861155e7row0_col0\" class=\"data row0 col0\" >National</td>\n",
       "                        <td id=\"T_49b9a1e2_92e9_11eb_833d_38c9861155e7row0_col1\" class=\"data row0 col1\" > 60%</td>\n",
       "                        <td id=\"T_49b9a1e2_92e9_11eb_833d_38c9861155e7row0_col2\" class=\"data row0 col2\" >20.300000</td>\n",
       "                        <td id=\"T_49b9a1e2_92e9_11eb_833d_38c9861155e7row0_col3\" class=\"data row0 col3\" >20.700000</td>\n",
       "                        <td id=\"T_49b9a1e2_92e9_11eb_833d_38c9861155e7row0_col4\" class=\"data row0 col4\" >21.400000</td>\n",
       "                        <td id=\"T_49b9a1e2_92e9_11eb_833d_38c9861155e7row0_col5\" class=\"data row0 col5\" >21.000000</td>\n",
       "                        <td id=\"T_49b9a1e2_92e9_11eb_833d_38c9861155e7row0_col6\" class=\"data row0 col6\" >21.0</td>\n",
       "            </tr>\n",
       "            <tr>\n",
       "                        <th id=\"T_49b9a1e2_92e9_11eb_833d_38c9861155e7level0_row1\" class=\"row_heading level0 row1\" >1</th>\n",
       "                        <td id=\"T_49b9a1e2_92e9_11eb_833d_38c9861155e7row1_col0\" class=\"data row1 col0\" >Alabama</td>\n",
       "                        <td id=\"T_49b9a1e2_92e9_11eb_833d_38c9861155e7row1_col1\" class=\"data row1 col1\" >100%</td>\n",
       "                        <td id=\"T_49b9a1e2_92e9_11eb_833d_38c9861155e7row1_col2\" class=\"data row1 col2\" >18.900000</td>\n",
       "                        <td id=\"T_49b9a1e2_92e9_11eb_833d_38c9861155e7row1_col3\" class=\"data row1 col3\" >18.400000</td>\n",
       "                        <td id=\"T_49b9a1e2_92e9_11eb_833d_38c9861155e7row1_col4\" class=\"data row1 col4\" >19.700000</td>\n",
       "                        <td id=\"T_49b9a1e2_92e9_11eb_833d_38c9861155e7row1_col5\" class=\"data row1 col5\" >19.400000</td>\n",
       "                        <td id=\"T_49b9a1e2_92e9_11eb_833d_38c9861155e7row1_col6\" class=\"data row1 col6\" >19.2</td>\n",
       "            </tr>\n",
       "            <tr>\n",
       "                        <th id=\"T_49b9a1e2_92e9_11eb_833d_38c9861155e7level0_row2\" class=\"row_heading level0 row2\" >2</th>\n",
       "                        <td id=\"T_49b9a1e2_92e9_11eb_833d_38c9861155e7row2_col0\" class=\"data row2 col0\" >Alaska</td>\n",
       "                        <td id=\"T_49b9a1e2_92e9_11eb_833d_38c9861155e7row2_col1\" class=\"data row2 col1\" >65%</td>\n",
       "                        <td id=\"T_49b9a1e2_92e9_11eb_833d_38c9861155e7row2_col2\" class=\"data row2 col2\" >18.700000</td>\n",
       "                        <td id=\"T_49b9a1e2_92e9_11eb_833d_38c9861155e7row2_col3\" class=\"data row2 col3\" >19.800000</td>\n",
       "                        <td id=\"T_49b9a1e2_92e9_11eb_833d_38c9861155e7row2_col4\" class=\"data row2 col4\" >20.400000</td>\n",
       "                        <td id=\"T_49b9a1e2_92e9_11eb_833d_38c9861155e7row2_col5\" class=\"data row2 col5\" >19.900000</td>\n",
       "                        <td id=\"T_49b9a1e2_92e9_11eb_833d_38c9861155e7row2_col6\" class=\"data row2 col6\" >19.8</td>\n",
       "            </tr>\n",
       "            <tr>\n",
       "                        <th id=\"T_49b9a1e2_92e9_11eb_833d_38c9861155e7level0_row3\" class=\"row_heading level0 row3\" >3</th>\n",
       "                        <td id=\"T_49b9a1e2_92e9_11eb_833d_38c9861155e7row3_col0\" class=\"data row3 col0\" >Arizona</td>\n",
       "                        <td id=\"T_49b9a1e2_92e9_11eb_833d_38c9861155e7row3_col1\" class=\"data row3 col1\" >62%</td>\n",
       "                        <td id=\"T_49b9a1e2_92e9_11eb_833d_38c9861155e7row3_col2\" class=\"data row3 col2\" >18.600000</td>\n",
       "                        <td id=\"T_49b9a1e2_92e9_11eb_833d_38c9861155e7row3_col3\" class=\"data row3 col3\" >19.800000</td>\n",
       "                        <td id=\"T_49b9a1e2_92e9_11eb_833d_38c9861155e7row3_col4\" class=\"data row3 col4\" >20.100000</td>\n",
       "                        <td id=\"T_49b9a1e2_92e9_11eb_833d_38c9861155e7row3_col5\" class=\"data row3 col5\" >19.800000</td>\n",
       "                        <td id=\"T_49b9a1e2_92e9_11eb_833d_38c9861155e7row3_col6\" class=\"data row3 col6\" >19.7</td>\n",
       "            </tr>\n",
       "            <tr>\n",
       "                        <th id=\"T_49b9a1e2_92e9_11eb_833d_38c9861155e7level0_row4\" class=\"row_heading level0 row4\" >4</th>\n",
       "                        <td id=\"T_49b9a1e2_92e9_11eb_833d_38c9861155e7row4_col0\" class=\"data row4 col0\" >Arkansas</td>\n",
       "                        <td id=\"T_49b9a1e2_92e9_11eb_833d_38c9861155e7row4_col1\" class=\"data row4 col1\" >100%</td>\n",
       "                        <td id=\"T_49b9a1e2_92e9_11eb_833d_38c9861155e7row4_col2\" class=\"data row4 col2\" >18.900000</td>\n",
       "                        <td id=\"T_49b9a1e2_92e9_11eb_833d_38c9861155e7row4_col3\" class=\"data row4 col3\" >19.000000</td>\n",
       "                        <td id=\"T_49b9a1e2_92e9_11eb_833d_38c9861155e7row4_col4\" class=\"data row4 col4\" >19.700000</td>\n",
       "                        <td id=\"T_49b9a1e2_92e9_11eb_833d_38c9861155e7row4_col5\" class=\"data row4 col5\" >19.500000</td>\n",
       "                        <td id=\"T_49b9a1e2_92e9_11eb_833d_38c9861155e7row4_col6\" class=\"data row4 col6\" >19.4</td>\n",
       "            </tr>\n",
       "    </tbody></table>"
      ],
      "text/plain": [
       "<pandas.io.formats.style.Styler at 0x7ff5806ccfd0>"
      ]
     },
     "metadata": {},
     "output_type": "display_data"
    },
    {
     "data": {
      "text/html": [
       "<style  type=\"text/css\" >\n",
       "    #T_49ba24aa_92e9_11eb_833d_38c9861155e7 caption {\n",
       "          color: black;\n",
       "          font-size: 14px;\n",
       "          weight: bold;\n",
       "    }</style><table id=\"T_49ba24aa_92e9_11eb_833d_38c9861155e7\" ><caption>ACT 2018</caption><thead>    <tr>        <th class=\"blank level0\" ></th>        <th class=\"col_heading level0 col0\" >State</th>        <th class=\"col_heading level0 col1\" >Participation</th>        <th class=\"col_heading level0 col2\" >Composite</th>    </tr></thead><tbody>\n",
       "                <tr>\n",
       "                        <th id=\"T_49ba24aa_92e9_11eb_833d_38c9861155e7level0_row0\" class=\"row_heading level0 row0\" >0</th>\n",
       "                        <td id=\"T_49ba24aa_92e9_11eb_833d_38c9861155e7row0_col0\" class=\"data row0 col0\" >Alabama</td>\n",
       "                        <td id=\"T_49ba24aa_92e9_11eb_833d_38c9861155e7row0_col1\" class=\"data row0 col1\" >100%</td>\n",
       "                        <td id=\"T_49ba24aa_92e9_11eb_833d_38c9861155e7row0_col2\" class=\"data row0 col2\" >19.100000</td>\n",
       "            </tr>\n",
       "            <tr>\n",
       "                        <th id=\"T_49ba24aa_92e9_11eb_833d_38c9861155e7level0_row1\" class=\"row_heading level0 row1\" >1</th>\n",
       "                        <td id=\"T_49ba24aa_92e9_11eb_833d_38c9861155e7row1_col0\" class=\"data row1 col0\" >Alaska</td>\n",
       "                        <td id=\"T_49ba24aa_92e9_11eb_833d_38c9861155e7row1_col1\" class=\"data row1 col1\" >33%</td>\n",
       "                        <td id=\"T_49ba24aa_92e9_11eb_833d_38c9861155e7row1_col2\" class=\"data row1 col2\" >20.800000</td>\n",
       "            </tr>\n",
       "            <tr>\n",
       "                        <th id=\"T_49ba24aa_92e9_11eb_833d_38c9861155e7level0_row2\" class=\"row_heading level0 row2\" >2</th>\n",
       "                        <td id=\"T_49ba24aa_92e9_11eb_833d_38c9861155e7row2_col0\" class=\"data row2 col0\" >Arizona</td>\n",
       "                        <td id=\"T_49ba24aa_92e9_11eb_833d_38c9861155e7row2_col1\" class=\"data row2 col1\" >66%</td>\n",
       "                        <td id=\"T_49ba24aa_92e9_11eb_833d_38c9861155e7row2_col2\" class=\"data row2 col2\" >19.200000</td>\n",
       "            </tr>\n",
       "            <tr>\n",
       "                        <th id=\"T_49ba24aa_92e9_11eb_833d_38c9861155e7level0_row3\" class=\"row_heading level0 row3\" >3</th>\n",
       "                        <td id=\"T_49ba24aa_92e9_11eb_833d_38c9861155e7row3_col0\" class=\"data row3 col0\" >Arkansas</td>\n",
       "                        <td id=\"T_49ba24aa_92e9_11eb_833d_38c9861155e7row3_col1\" class=\"data row3 col1\" >100%</td>\n",
       "                        <td id=\"T_49ba24aa_92e9_11eb_833d_38c9861155e7row3_col2\" class=\"data row3 col2\" >19.400000</td>\n",
       "            </tr>\n",
       "            <tr>\n",
       "                        <th id=\"T_49ba24aa_92e9_11eb_833d_38c9861155e7level0_row4\" class=\"row_heading level0 row4\" >4</th>\n",
       "                        <td id=\"T_49ba24aa_92e9_11eb_833d_38c9861155e7row4_col0\" class=\"data row4 col0\" >California</td>\n",
       "                        <td id=\"T_49ba24aa_92e9_11eb_833d_38c9861155e7row4_col1\" class=\"data row4 col1\" >27%</td>\n",
       "                        <td id=\"T_49ba24aa_92e9_11eb_833d_38c9861155e7row4_col2\" class=\"data row4 col2\" >22.700000</td>\n",
       "            </tr>\n",
       "    </tbody></table>"
      ],
      "text/plain": [
       "<pandas.io.formats.style.Styler at 0x7ff5a0569cd0>"
      ]
     },
     "metadata": {},
     "output_type": "display_data"
    },
    {
     "data": {
      "text/html": [
       "<style  type=\"text/css\" >\n",
       "    #T_49ba8a62_92e9_11eb_833d_38c9861155e7 caption {\n",
       "          color: black;\n",
       "          font-size: 14px;\n",
       "          weight: bold;\n",
       "    }</style><table id=\"T_49ba8a62_92e9_11eb_833d_38c9861155e7\" ><caption>ACT 2019</caption><thead>    <tr>        <th class=\"blank level0\" ></th>        <th class=\"col_heading level0 col0\" >State</th>        <th class=\"col_heading level0 col1\" >Participation</th>        <th class=\"col_heading level0 col2\" >Composite</th>    </tr></thead><tbody>\n",
       "                <tr>\n",
       "                        <th id=\"T_49ba8a62_92e9_11eb_833d_38c9861155e7level0_row0\" class=\"row_heading level0 row0\" >0</th>\n",
       "                        <td id=\"T_49ba8a62_92e9_11eb_833d_38c9861155e7row0_col0\" class=\"data row0 col0\" >Alabama</td>\n",
       "                        <td id=\"T_49ba8a62_92e9_11eb_833d_38c9861155e7row0_col1\" class=\"data row0 col1\" >100%</td>\n",
       "                        <td id=\"T_49ba8a62_92e9_11eb_833d_38c9861155e7row0_col2\" class=\"data row0 col2\" >18.900000</td>\n",
       "            </tr>\n",
       "            <tr>\n",
       "                        <th id=\"T_49ba8a62_92e9_11eb_833d_38c9861155e7level0_row1\" class=\"row_heading level0 row1\" >1</th>\n",
       "                        <td id=\"T_49ba8a62_92e9_11eb_833d_38c9861155e7row1_col0\" class=\"data row1 col0\" >Alaska</td>\n",
       "                        <td id=\"T_49ba8a62_92e9_11eb_833d_38c9861155e7row1_col1\" class=\"data row1 col1\" >38%</td>\n",
       "                        <td id=\"T_49ba8a62_92e9_11eb_833d_38c9861155e7row1_col2\" class=\"data row1 col2\" >20.100000</td>\n",
       "            </tr>\n",
       "            <tr>\n",
       "                        <th id=\"T_49ba8a62_92e9_11eb_833d_38c9861155e7level0_row2\" class=\"row_heading level0 row2\" >2</th>\n",
       "                        <td id=\"T_49ba8a62_92e9_11eb_833d_38c9861155e7row2_col0\" class=\"data row2 col0\" >Arizona</td>\n",
       "                        <td id=\"T_49ba8a62_92e9_11eb_833d_38c9861155e7row2_col1\" class=\"data row2 col1\" >73%</td>\n",
       "                        <td id=\"T_49ba8a62_92e9_11eb_833d_38c9861155e7row2_col2\" class=\"data row2 col2\" >19.000000</td>\n",
       "            </tr>\n",
       "            <tr>\n",
       "                        <th id=\"T_49ba8a62_92e9_11eb_833d_38c9861155e7level0_row3\" class=\"row_heading level0 row3\" >3</th>\n",
       "                        <td id=\"T_49ba8a62_92e9_11eb_833d_38c9861155e7row3_col0\" class=\"data row3 col0\" >Arkansas</td>\n",
       "                        <td id=\"T_49ba8a62_92e9_11eb_833d_38c9861155e7row3_col1\" class=\"data row3 col1\" >100%</td>\n",
       "                        <td id=\"T_49ba8a62_92e9_11eb_833d_38c9861155e7row3_col2\" class=\"data row3 col2\" >19.300000</td>\n",
       "            </tr>\n",
       "            <tr>\n",
       "                        <th id=\"T_49ba8a62_92e9_11eb_833d_38c9861155e7level0_row4\" class=\"row_heading level0 row4\" >4</th>\n",
       "                        <td id=\"T_49ba8a62_92e9_11eb_833d_38c9861155e7row4_col0\" class=\"data row4 col0\" >California</td>\n",
       "                        <td id=\"T_49ba8a62_92e9_11eb_833d_38c9861155e7row4_col1\" class=\"data row4 col1\" >23%</td>\n",
       "                        <td id=\"T_49ba8a62_92e9_11eb_833d_38c9861155e7row4_col2\" class=\"data row4 col2\" >22.600000</td>\n",
       "            </tr>\n",
       "    </tbody></table>"
      ],
      "text/plain": [
       "<pandas.io.formats.style.Styler at 0x7ff591187e80>"
      ]
     },
     "metadata": {},
     "output_type": "display_data"
    },
    {
     "data": {
      "text/html": [
       "<style  type=\"text/css\" >\n",
       "    #T_49bb0bcc_92e9_11eb_833d_38c9861155e7 caption {\n",
       "          color: black;\n",
       "          font-size: 14px;\n",
       "          weight: bold;\n",
       "    }</style><table id=\"T_49bb0bcc_92e9_11eb_833d_38c9861155e7\" ><caption>SAT 2017</caption><thead>    <tr>        <th class=\"blank level0\" ></th>        <th class=\"col_heading level0 col0\" >State</th>        <th class=\"col_heading level0 col1\" >Participation</th>        <th class=\"col_heading level0 col2\" >Evidence-Based Reading and Writing</th>        <th class=\"col_heading level0 col3\" >Math</th>        <th class=\"col_heading level0 col4\" >Total</th>    </tr></thead><tbody>\n",
       "                <tr>\n",
       "                        <th id=\"T_49bb0bcc_92e9_11eb_833d_38c9861155e7level0_row0\" class=\"row_heading level0 row0\" >0</th>\n",
       "                        <td id=\"T_49bb0bcc_92e9_11eb_833d_38c9861155e7row0_col0\" class=\"data row0 col0\" >Alabama</td>\n",
       "                        <td id=\"T_49bb0bcc_92e9_11eb_833d_38c9861155e7row0_col1\" class=\"data row0 col1\" >5%</td>\n",
       "                        <td id=\"T_49bb0bcc_92e9_11eb_833d_38c9861155e7row0_col2\" class=\"data row0 col2\" >593</td>\n",
       "                        <td id=\"T_49bb0bcc_92e9_11eb_833d_38c9861155e7row0_col3\" class=\"data row0 col3\" >572</td>\n",
       "                        <td id=\"T_49bb0bcc_92e9_11eb_833d_38c9861155e7row0_col4\" class=\"data row0 col4\" >1165</td>\n",
       "            </tr>\n",
       "            <tr>\n",
       "                        <th id=\"T_49bb0bcc_92e9_11eb_833d_38c9861155e7level0_row1\" class=\"row_heading level0 row1\" >1</th>\n",
       "                        <td id=\"T_49bb0bcc_92e9_11eb_833d_38c9861155e7row1_col0\" class=\"data row1 col0\" >Alaska</td>\n",
       "                        <td id=\"T_49bb0bcc_92e9_11eb_833d_38c9861155e7row1_col1\" class=\"data row1 col1\" >38%</td>\n",
       "                        <td id=\"T_49bb0bcc_92e9_11eb_833d_38c9861155e7row1_col2\" class=\"data row1 col2\" >547</td>\n",
       "                        <td id=\"T_49bb0bcc_92e9_11eb_833d_38c9861155e7row1_col3\" class=\"data row1 col3\" >533</td>\n",
       "                        <td id=\"T_49bb0bcc_92e9_11eb_833d_38c9861155e7row1_col4\" class=\"data row1 col4\" >1080</td>\n",
       "            </tr>\n",
       "            <tr>\n",
       "                        <th id=\"T_49bb0bcc_92e9_11eb_833d_38c9861155e7level0_row2\" class=\"row_heading level0 row2\" >2</th>\n",
       "                        <td id=\"T_49bb0bcc_92e9_11eb_833d_38c9861155e7row2_col0\" class=\"data row2 col0\" >Arizona</td>\n",
       "                        <td id=\"T_49bb0bcc_92e9_11eb_833d_38c9861155e7row2_col1\" class=\"data row2 col1\" >30%</td>\n",
       "                        <td id=\"T_49bb0bcc_92e9_11eb_833d_38c9861155e7row2_col2\" class=\"data row2 col2\" >563</td>\n",
       "                        <td id=\"T_49bb0bcc_92e9_11eb_833d_38c9861155e7row2_col3\" class=\"data row2 col3\" >553</td>\n",
       "                        <td id=\"T_49bb0bcc_92e9_11eb_833d_38c9861155e7row2_col4\" class=\"data row2 col4\" >1116</td>\n",
       "            </tr>\n",
       "            <tr>\n",
       "                        <th id=\"T_49bb0bcc_92e9_11eb_833d_38c9861155e7level0_row3\" class=\"row_heading level0 row3\" >3</th>\n",
       "                        <td id=\"T_49bb0bcc_92e9_11eb_833d_38c9861155e7row3_col0\" class=\"data row3 col0\" >Arkansas</td>\n",
       "                        <td id=\"T_49bb0bcc_92e9_11eb_833d_38c9861155e7row3_col1\" class=\"data row3 col1\" >3%</td>\n",
       "                        <td id=\"T_49bb0bcc_92e9_11eb_833d_38c9861155e7row3_col2\" class=\"data row3 col2\" >614</td>\n",
       "                        <td id=\"T_49bb0bcc_92e9_11eb_833d_38c9861155e7row3_col3\" class=\"data row3 col3\" >594</td>\n",
       "                        <td id=\"T_49bb0bcc_92e9_11eb_833d_38c9861155e7row3_col4\" class=\"data row3 col4\" >1208</td>\n",
       "            </tr>\n",
       "            <tr>\n",
       "                        <th id=\"T_49bb0bcc_92e9_11eb_833d_38c9861155e7level0_row4\" class=\"row_heading level0 row4\" >4</th>\n",
       "                        <td id=\"T_49bb0bcc_92e9_11eb_833d_38c9861155e7row4_col0\" class=\"data row4 col0\" >California</td>\n",
       "                        <td id=\"T_49bb0bcc_92e9_11eb_833d_38c9861155e7row4_col1\" class=\"data row4 col1\" >53%</td>\n",
       "                        <td id=\"T_49bb0bcc_92e9_11eb_833d_38c9861155e7row4_col2\" class=\"data row4 col2\" >531</td>\n",
       "                        <td id=\"T_49bb0bcc_92e9_11eb_833d_38c9861155e7row4_col3\" class=\"data row4 col3\" >524</td>\n",
       "                        <td id=\"T_49bb0bcc_92e9_11eb_833d_38c9861155e7row4_col4\" class=\"data row4 col4\" >1055</td>\n",
       "            </tr>\n",
       "    </tbody></table>"
      ],
      "text/plain": [
       "<pandas.io.formats.style.Styler at 0x7ff591187f40>"
      ]
     },
     "metadata": {},
     "output_type": "display_data"
    },
    {
     "data": {
      "text/html": [
       "<style  type=\"text/css\" >\n",
       "    #T_49bb7bd4_92e9_11eb_833d_38c9861155e7 caption {\n",
       "          color: black;\n",
       "          font-size: 14px;\n",
       "          weight: bold;\n",
       "    }</style><table id=\"T_49bb7bd4_92e9_11eb_833d_38c9861155e7\" ><caption>SAT 2018</caption><thead>    <tr>        <th class=\"blank level0\" ></th>        <th class=\"col_heading level0 col0\" >State</th>        <th class=\"col_heading level0 col1\" >Participation</th>        <th class=\"col_heading level0 col2\" >Evidence-Based Reading and Writing</th>        <th class=\"col_heading level0 col3\" >Math</th>        <th class=\"col_heading level0 col4\" >Total</th>    </tr></thead><tbody>\n",
       "                <tr>\n",
       "                        <th id=\"T_49bb7bd4_92e9_11eb_833d_38c9861155e7level0_row0\" class=\"row_heading level0 row0\" >0</th>\n",
       "                        <td id=\"T_49bb7bd4_92e9_11eb_833d_38c9861155e7row0_col0\" class=\"data row0 col0\" >Alabama</td>\n",
       "                        <td id=\"T_49bb7bd4_92e9_11eb_833d_38c9861155e7row0_col1\" class=\"data row0 col1\" >6%</td>\n",
       "                        <td id=\"T_49bb7bd4_92e9_11eb_833d_38c9861155e7row0_col2\" class=\"data row0 col2\" >595</td>\n",
       "                        <td id=\"T_49bb7bd4_92e9_11eb_833d_38c9861155e7row0_col3\" class=\"data row0 col3\" >571</td>\n",
       "                        <td id=\"T_49bb7bd4_92e9_11eb_833d_38c9861155e7row0_col4\" class=\"data row0 col4\" >1166</td>\n",
       "            </tr>\n",
       "            <tr>\n",
       "                        <th id=\"T_49bb7bd4_92e9_11eb_833d_38c9861155e7level0_row1\" class=\"row_heading level0 row1\" >1</th>\n",
       "                        <td id=\"T_49bb7bd4_92e9_11eb_833d_38c9861155e7row1_col0\" class=\"data row1 col0\" >Alaska</td>\n",
       "                        <td id=\"T_49bb7bd4_92e9_11eb_833d_38c9861155e7row1_col1\" class=\"data row1 col1\" >43%</td>\n",
       "                        <td id=\"T_49bb7bd4_92e9_11eb_833d_38c9861155e7row1_col2\" class=\"data row1 col2\" >562</td>\n",
       "                        <td id=\"T_49bb7bd4_92e9_11eb_833d_38c9861155e7row1_col3\" class=\"data row1 col3\" >544</td>\n",
       "                        <td id=\"T_49bb7bd4_92e9_11eb_833d_38c9861155e7row1_col4\" class=\"data row1 col4\" >1106</td>\n",
       "            </tr>\n",
       "            <tr>\n",
       "                        <th id=\"T_49bb7bd4_92e9_11eb_833d_38c9861155e7level0_row2\" class=\"row_heading level0 row2\" >2</th>\n",
       "                        <td id=\"T_49bb7bd4_92e9_11eb_833d_38c9861155e7row2_col0\" class=\"data row2 col0\" >Arizona</td>\n",
       "                        <td id=\"T_49bb7bd4_92e9_11eb_833d_38c9861155e7row2_col1\" class=\"data row2 col1\" >29%</td>\n",
       "                        <td id=\"T_49bb7bd4_92e9_11eb_833d_38c9861155e7row2_col2\" class=\"data row2 col2\" >577</td>\n",
       "                        <td id=\"T_49bb7bd4_92e9_11eb_833d_38c9861155e7row2_col3\" class=\"data row2 col3\" >572</td>\n",
       "                        <td id=\"T_49bb7bd4_92e9_11eb_833d_38c9861155e7row2_col4\" class=\"data row2 col4\" >1149</td>\n",
       "            </tr>\n",
       "            <tr>\n",
       "                        <th id=\"T_49bb7bd4_92e9_11eb_833d_38c9861155e7level0_row3\" class=\"row_heading level0 row3\" >3</th>\n",
       "                        <td id=\"T_49bb7bd4_92e9_11eb_833d_38c9861155e7row3_col0\" class=\"data row3 col0\" >Arkansas</td>\n",
       "                        <td id=\"T_49bb7bd4_92e9_11eb_833d_38c9861155e7row3_col1\" class=\"data row3 col1\" >5%</td>\n",
       "                        <td id=\"T_49bb7bd4_92e9_11eb_833d_38c9861155e7row3_col2\" class=\"data row3 col2\" >592</td>\n",
       "                        <td id=\"T_49bb7bd4_92e9_11eb_833d_38c9861155e7row3_col3\" class=\"data row3 col3\" >576</td>\n",
       "                        <td id=\"T_49bb7bd4_92e9_11eb_833d_38c9861155e7row3_col4\" class=\"data row3 col4\" >1169</td>\n",
       "            </tr>\n",
       "            <tr>\n",
       "                        <th id=\"T_49bb7bd4_92e9_11eb_833d_38c9861155e7level0_row4\" class=\"row_heading level0 row4\" >4</th>\n",
       "                        <td id=\"T_49bb7bd4_92e9_11eb_833d_38c9861155e7row4_col0\" class=\"data row4 col0\" >California</td>\n",
       "                        <td id=\"T_49bb7bd4_92e9_11eb_833d_38c9861155e7row4_col1\" class=\"data row4 col1\" >60%</td>\n",
       "                        <td id=\"T_49bb7bd4_92e9_11eb_833d_38c9861155e7row4_col2\" class=\"data row4 col2\" >540</td>\n",
       "                        <td id=\"T_49bb7bd4_92e9_11eb_833d_38c9861155e7row4_col3\" class=\"data row4 col3\" >536</td>\n",
       "                        <td id=\"T_49bb7bd4_92e9_11eb_833d_38c9861155e7row4_col4\" class=\"data row4 col4\" >1076</td>\n",
       "            </tr>\n",
       "    </tbody></table>"
      ],
      "text/plain": [
       "<pandas.io.formats.style.Styler at 0x7ff591187d30>"
      ]
     },
     "metadata": {},
     "output_type": "display_data"
    },
    {
     "data": {
      "text/html": [
       "<style  type=\"text/css\" >\n",
       "    #T_49bbf0aa_92e9_11eb_833d_38c9861155e7 caption {\n",
       "          color: black;\n",
       "          font-size: 14px;\n",
       "          weight: bold;\n",
       "    }</style><table id=\"T_49bbf0aa_92e9_11eb_833d_38c9861155e7\" ><caption>SAT 2019</caption><thead>    <tr>        <th class=\"blank level0\" ></th>        <th class=\"col_heading level0 col0\" >State</th>        <th class=\"col_heading level0 col1\" >Participation Rate</th>        <th class=\"col_heading level0 col2\" >EBRW</th>        <th class=\"col_heading level0 col3\" >Math</th>        <th class=\"col_heading level0 col4\" >Total</th>    </tr></thead><tbody>\n",
       "                <tr>\n",
       "                        <th id=\"T_49bbf0aa_92e9_11eb_833d_38c9861155e7level0_row0\" class=\"row_heading level0 row0\" >0</th>\n",
       "                        <td id=\"T_49bbf0aa_92e9_11eb_833d_38c9861155e7row0_col0\" class=\"data row0 col0\" >Alabama</td>\n",
       "                        <td id=\"T_49bbf0aa_92e9_11eb_833d_38c9861155e7row0_col1\" class=\"data row0 col1\" >7%</td>\n",
       "                        <td id=\"T_49bbf0aa_92e9_11eb_833d_38c9861155e7row0_col2\" class=\"data row0 col2\" >583</td>\n",
       "                        <td id=\"T_49bbf0aa_92e9_11eb_833d_38c9861155e7row0_col3\" class=\"data row0 col3\" >560</td>\n",
       "                        <td id=\"T_49bbf0aa_92e9_11eb_833d_38c9861155e7row0_col4\" class=\"data row0 col4\" >1143</td>\n",
       "            </tr>\n",
       "            <tr>\n",
       "                        <th id=\"T_49bbf0aa_92e9_11eb_833d_38c9861155e7level0_row1\" class=\"row_heading level0 row1\" >1</th>\n",
       "                        <td id=\"T_49bbf0aa_92e9_11eb_833d_38c9861155e7row1_col0\" class=\"data row1 col0\" >Alaska</td>\n",
       "                        <td id=\"T_49bbf0aa_92e9_11eb_833d_38c9861155e7row1_col1\" class=\"data row1 col1\" >41%</td>\n",
       "                        <td id=\"T_49bbf0aa_92e9_11eb_833d_38c9861155e7row1_col2\" class=\"data row1 col2\" >556</td>\n",
       "                        <td id=\"T_49bbf0aa_92e9_11eb_833d_38c9861155e7row1_col3\" class=\"data row1 col3\" >541</td>\n",
       "                        <td id=\"T_49bbf0aa_92e9_11eb_833d_38c9861155e7row1_col4\" class=\"data row1 col4\" >1097</td>\n",
       "            </tr>\n",
       "            <tr>\n",
       "                        <th id=\"T_49bbf0aa_92e9_11eb_833d_38c9861155e7level0_row2\" class=\"row_heading level0 row2\" >2</th>\n",
       "                        <td id=\"T_49bbf0aa_92e9_11eb_833d_38c9861155e7row2_col0\" class=\"data row2 col0\" >Arizona</td>\n",
       "                        <td id=\"T_49bbf0aa_92e9_11eb_833d_38c9861155e7row2_col1\" class=\"data row2 col1\" >31%</td>\n",
       "                        <td id=\"T_49bbf0aa_92e9_11eb_833d_38c9861155e7row2_col2\" class=\"data row2 col2\" >569</td>\n",
       "                        <td id=\"T_49bbf0aa_92e9_11eb_833d_38c9861155e7row2_col3\" class=\"data row2 col3\" >565</td>\n",
       "                        <td id=\"T_49bbf0aa_92e9_11eb_833d_38c9861155e7row2_col4\" class=\"data row2 col4\" >1134</td>\n",
       "            </tr>\n",
       "            <tr>\n",
       "                        <th id=\"T_49bbf0aa_92e9_11eb_833d_38c9861155e7level0_row3\" class=\"row_heading level0 row3\" >3</th>\n",
       "                        <td id=\"T_49bbf0aa_92e9_11eb_833d_38c9861155e7row3_col0\" class=\"data row3 col0\" >Arkansas</td>\n",
       "                        <td id=\"T_49bbf0aa_92e9_11eb_833d_38c9861155e7row3_col1\" class=\"data row3 col1\" >6%</td>\n",
       "                        <td id=\"T_49bbf0aa_92e9_11eb_833d_38c9861155e7row3_col2\" class=\"data row3 col2\" >582</td>\n",
       "                        <td id=\"T_49bbf0aa_92e9_11eb_833d_38c9861155e7row3_col3\" class=\"data row3 col3\" >559</td>\n",
       "                        <td id=\"T_49bbf0aa_92e9_11eb_833d_38c9861155e7row3_col4\" class=\"data row3 col4\" >1141</td>\n",
       "            </tr>\n",
       "            <tr>\n",
       "                        <th id=\"T_49bbf0aa_92e9_11eb_833d_38c9861155e7level0_row4\" class=\"row_heading level0 row4\" >4</th>\n",
       "                        <td id=\"T_49bbf0aa_92e9_11eb_833d_38c9861155e7row4_col0\" class=\"data row4 col0\" >California</td>\n",
       "                        <td id=\"T_49bbf0aa_92e9_11eb_833d_38c9861155e7row4_col1\" class=\"data row4 col1\" >63%</td>\n",
       "                        <td id=\"T_49bbf0aa_92e9_11eb_833d_38c9861155e7row4_col2\" class=\"data row4 col2\" >534</td>\n",
       "                        <td id=\"T_49bbf0aa_92e9_11eb_833d_38c9861155e7row4_col3\" class=\"data row4 col3\" >531</td>\n",
       "                        <td id=\"T_49bbf0aa_92e9_11eb_833d_38c9861155e7row4_col4\" class=\"data row4 col4\" >1065</td>\n",
       "            </tr>\n",
       "    </tbody></table>"
      ],
      "text/plain": [
       "<pandas.io.formats.style.Styler at 0x7ff591187e50>"
      ]
     },
     "metadata": {},
     "output_type": "display_data"
    },
    {
     "data": {
      "text/html": [
       "<style  type=\"text/css\" >\n",
       "    #T_49bc8b6e_92e9_11eb_833d_38c9861155e7 caption {\n",
       "          color: black;\n",
       "          font-size: 14px;\n",
       "          weight: bold;\n",
       "    }</style><table id=\"T_49bc8b6e_92e9_11eb_833d_38c9861155e7\" ><caption>States Info</caption><thead>    <tr>        <th class=\"blank level0\" ></th>        <th class=\"col_heading level0 col0\" >State</th>        <th class=\"col_heading level0 col1\" >State Code</th>        <th class=\"col_heading level0 col2\" >Region</th>        <th class=\"col_heading level0 col3\" >Division</th>    </tr></thead><tbody>\n",
       "                <tr>\n",
       "                        <th id=\"T_49bc8b6e_92e9_11eb_833d_38c9861155e7level0_row0\" class=\"row_heading level0 row0\" >0</th>\n",
       "                        <td id=\"T_49bc8b6e_92e9_11eb_833d_38c9861155e7row0_col0\" class=\"data row0 col0\" >Alaska</td>\n",
       "                        <td id=\"T_49bc8b6e_92e9_11eb_833d_38c9861155e7row0_col1\" class=\"data row0 col1\" >AK</td>\n",
       "                        <td id=\"T_49bc8b6e_92e9_11eb_833d_38c9861155e7row0_col2\" class=\"data row0 col2\" >West</td>\n",
       "                        <td id=\"T_49bc8b6e_92e9_11eb_833d_38c9861155e7row0_col3\" class=\"data row0 col3\" >Pacific</td>\n",
       "            </tr>\n",
       "            <tr>\n",
       "                        <th id=\"T_49bc8b6e_92e9_11eb_833d_38c9861155e7level0_row1\" class=\"row_heading level0 row1\" >1</th>\n",
       "                        <td id=\"T_49bc8b6e_92e9_11eb_833d_38c9861155e7row1_col0\" class=\"data row1 col0\" >Alabama</td>\n",
       "                        <td id=\"T_49bc8b6e_92e9_11eb_833d_38c9861155e7row1_col1\" class=\"data row1 col1\" >AL</td>\n",
       "                        <td id=\"T_49bc8b6e_92e9_11eb_833d_38c9861155e7row1_col2\" class=\"data row1 col2\" >South</td>\n",
       "                        <td id=\"T_49bc8b6e_92e9_11eb_833d_38c9861155e7row1_col3\" class=\"data row1 col3\" >East South Central</td>\n",
       "            </tr>\n",
       "            <tr>\n",
       "                        <th id=\"T_49bc8b6e_92e9_11eb_833d_38c9861155e7level0_row2\" class=\"row_heading level0 row2\" >2</th>\n",
       "                        <td id=\"T_49bc8b6e_92e9_11eb_833d_38c9861155e7row2_col0\" class=\"data row2 col0\" >Arkansas</td>\n",
       "                        <td id=\"T_49bc8b6e_92e9_11eb_833d_38c9861155e7row2_col1\" class=\"data row2 col1\" >AR</td>\n",
       "                        <td id=\"T_49bc8b6e_92e9_11eb_833d_38c9861155e7row2_col2\" class=\"data row2 col2\" >South</td>\n",
       "                        <td id=\"T_49bc8b6e_92e9_11eb_833d_38c9861155e7row2_col3\" class=\"data row2 col3\" >West South Central</td>\n",
       "            </tr>\n",
       "            <tr>\n",
       "                        <th id=\"T_49bc8b6e_92e9_11eb_833d_38c9861155e7level0_row3\" class=\"row_heading level0 row3\" >3</th>\n",
       "                        <td id=\"T_49bc8b6e_92e9_11eb_833d_38c9861155e7row3_col0\" class=\"data row3 col0\" >Arizona</td>\n",
       "                        <td id=\"T_49bc8b6e_92e9_11eb_833d_38c9861155e7row3_col1\" class=\"data row3 col1\" >AZ</td>\n",
       "                        <td id=\"T_49bc8b6e_92e9_11eb_833d_38c9861155e7row3_col2\" class=\"data row3 col2\" >West</td>\n",
       "                        <td id=\"T_49bc8b6e_92e9_11eb_833d_38c9861155e7row3_col3\" class=\"data row3 col3\" >Mountain</td>\n",
       "            </tr>\n",
       "            <tr>\n",
       "                        <th id=\"T_49bc8b6e_92e9_11eb_833d_38c9861155e7level0_row4\" class=\"row_heading level0 row4\" >4</th>\n",
       "                        <td id=\"T_49bc8b6e_92e9_11eb_833d_38c9861155e7row4_col0\" class=\"data row4 col0\" >California</td>\n",
       "                        <td id=\"T_49bc8b6e_92e9_11eb_833d_38c9861155e7row4_col1\" class=\"data row4 col1\" >CA</td>\n",
       "                        <td id=\"T_49bc8b6e_92e9_11eb_833d_38c9861155e7row4_col2\" class=\"data row4 col2\" >West</td>\n",
       "                        <td id=\"T_49bc8b6e_92e9_11eb_833d_38c9861155e7row4_col3\" class=\"data row4 col3\" >Pacific</td>\n",
       "            </tr>\n",
       "    </tbody></table>"
      ],
      "text/plain": [
       "<pandas.io.formats.style.Styler at 0x7ff591187c10>"
      ]
     },
     "metadata": {},
     "output_type": "display_data"
    }
   ],
   "source": [
    "df_previews(dfs_source);     # used a few custom functions and [dataframe].head() to return these"
   ]
  },
  {
   "cell_type": "markdown",
   "metadata": {
    "heading_collapsed": true
   },
   "source": [
    "### Initial Dataframe Survey"
   ]
  },
  {
   "cell_type": "markdown",
   "metadata": {
    "hidden": true
   },
   "source": [
    "I went through each dataframe using `.isnull()` and `.sum()` commands to identify the presence of nulls or otherwise missing data.\n",
    "\n",
    "| ACT Dataframes | Values | | | | SAT Dataframes | Values | | | | Other Dataframes | Values |\n",
    "| :-- | :-- | --- | --- | --- | :-- | :-- | --- | --- | --- | :-- | :-- |\n",
    "| **ACT 2017** |  52 non-nulls in all columns  | |  | |**SAT 2017** | 51 non-nulls in all columns  |  | | | **States** | 51 non-nulls in all columns |\n",
    "| **ACT 2018** |  52 non-nulls in all columns  | |  | |**SAT 2018** | 51 non-nulls in all columns  |\n",
    "| **ACT 2019** |  52 non-nulls in all columns  | |  | |**SAT 2019** | 53 non-nulls in all columns  |\n",
    "\n",
    "**Takeaways:**  \n",
    "No null values to fix, but there was some variance in the numbers of rows in each table. All tables should have an equal number of rows: 51 for all states and Washington D.C.\n",
    "\n",
    "<!-- | ACT Dataframes | Values |\n",
    "| :-- | :-- |\n",
    "| **act_17** |  52 non-nulls in all columns  |\n",
    "| **act_18** |  52 non-nulls in all columns  |\n",
    "| **act_19** |  52 non-nulls in all columns  |\n",
    "\n",
    "| SAT Dataframes | Values |\n",
    "| :-- | :-- |\n",
    "| **sat_17** | 51 non-nulls in all columns  |\n",
    "| **sat_18** | 51 non-nulls in all columns  |\n",
    "| **sat_19** | 53 non-nulls in all columns  |\n",
    "\n",
    "| States Dataframe | Values |\n",
    "| :-- | :-- |\n",
    "| **states** | 51 non-nulls in all columns | -->\n",
    "\n",
    "\n",
    "---"
   ]
  },
  {
   "cell_type": "code",
   "execution_count": 16,
   "metadata": {
    "ExecuteTime": {
     "end_time": "2021-04-01T12:53:43.139164Z",
     "start_time": "2021-04-01T12:53:43.137017Z"
    },
    "hidden": true
   },
   "outputs": [],
   "source": [
    "# print(\"\\n ACT 2017 \\n\", act_17.isnull().sum())       \n",
    "# print(\"\\n ACT 2018 \\n\", act_18.isnull().sum())       \n",
    "# print(\"\\n ACT 2019 \\n\", act_19.isnull().sum())        \n",
    "# print(\"\\n SAT 2017 \\n\", sat_17.isnull().sum())     \n",
    "# print(\"\\n SAT 2018 \\n\", sat_18.isnull().sum())       \n",
    "# print(\"\\n SAT 2019 \\n\", sat_19.isnull().sum())      \n",
    "# print(\"\\n States Info \\n\", states.isnull().sum())    "
   ]
  },
  {
   "cell_type": "markdown",
   "metadata": {
    "hidden": true
   },
   "source": [
    "9. Merge dataframes that can be merged.\n",
    "11. Save your cleaned and merged dataframes as csv files."
   ]
  },
  {
   "cell_type": "markdown",
   "metadata": {
    "heading_collapsed": true
   },
   "source": [
    "### Cleaning Overview"
   ]
  },
  {
   "cell_type": "markdown",
   "metadata": {
    "hidden": true
   },
   "source": [
    "Looking further into the contents of each table, there were a number of issues and several changes I wanted to make to simplify the Dataframes.\n",
    "\n",
    "I used `.dtypes`, `.sort()`, `.info()` <span style=\"color:red\">[FINISH NOTES HERE]</span>"
   ]
  },
  {
   "cell_type": "markdown",
   "metadata": {
    "ExecuteTime": {
     "end_time": "2021-03-31T01:52:52.197680Z",
     "start_time": "2021-03-31T01:52:52.182823Z"
    },
    "hidden": true
   },
   "source": [
    "**1. Column Removal**\n",
    "\n",
    "| |    |\n",
    "| :-- | :-- |\n",
    "| ACT 2017 |  `English`, `Math`, `Reading`, `Science` not needed |\n",
    "| SAT 2017 |  `Evidence-Based Reading and Writing`, `Math` not needed |\n",
    "| SAT 2018 |   `Evidence-Based Reading and Writing`, `Math` not needed|\n",
    "| SAT 2019 |   `EBRW`, `Math` not needed |\n",
    "\n",
    "**2. Row Removal**\n",
    "\n",
    "| |   |\n",
    "| :-- | :-- |\n",
    "| ACT 2017 |  `National` not needed |\n",
    "| ACT 2018 |  `Maine` has a duplicate row - only one needed |\t\n",
    "| ACT 2019 |  `National` not needed |\n",
    "| SAT 2019 |  `Puerto Rico` and and `Virgin Islands` not needed. Participation rates contain em dashes and no data exists from other years |\n",
    "\n",
    "**3. Strings**\n",
    "\n",
    "|  |   |\n",
    "| :-- | :-- |\n",
    "| ACT 2017 | \"20.2x\" in Row: `Wyoming`, Column: `Composite` contains extra character |\n",
    "| ACT 2018 | In the <span style=\"color:firebrick\">string</span> “District of columbia”, \"columbia\" needs capitalized|\n",
    "\n",
    "**4. Data Types**\n",
    "\n",
    "|  |  |  |\n",
    "| :-- | --- | :-- |\n",
    "| All dataframes | | Convert `Participation` (or `Participation Rate`) data type from <span style=\"color:firebrick\">String</span> to<span style=\"color:steelblue\"> Float</span>     |\n",
    "| ACT 2017 | | Convert `Composite` data types from <span style=\"color:firebrick\">String</span> to<span style=\"color:steelblue\"> Float</span> |"
   ]
  },
  {
   "cell_type": "markdown",
   "metadata": {
    "hidden": true
   },
   "source": [
    "---"
   ]
  },
  {
   "cell_type": "markdown",
   "metadata": {
    "ExecuteTime": {
     "end_time": "2021-03-31T23:50:02.920562Z",
     "start_time": "2021-03-31T23:50:02.908931Z"
    },
    "heading_collapsed": true
   },
   "source": [
    "### 1. Column Removal"
   ]
  },
  {
   "cell_type": "code",
   "execution_count": 17,
   "metadata": {
    "ExecuteTime": {
     "end_time": "2021-04-01T12:53:45.024713Z",
     "start_time": "2021-04-01T12:53:45.014687Z"
    },
    "hidden": true
   },
   "outputs": [],
   "source": [
    "for title, dataframe in dfs.items():         # dfs is the dictionary with all of my working dataframes\n",
    "        try:\n",
    "            dataframe.drop(columns = ['English', 'Math', 'Reading', 'Science'], inplace = True)\n",
    "        except:\n",
    "            pass\n",
    "        try:\n",
    "            dataframe.drop(columns = ['EBRW', 'Math'], inplace = True)\n",
    "        except:\n",
    "            pass\n",
    "        try:\n",
    "            dataframe.drop(columns = ['Evidence-Based Reading and Writing', 'Math'], inplace = True)\n",
    "        except:\n",
    "            pass\n"
   ]
  },
  {
   "cell_type": "markdown",
   "metadata": {
    "hidden": true
   },
   "source": [
    "I decided to start with Column removal, looping through my dictionary of dataframes to delete them all at once.\n",
    "\n",
    "I used `try` and `except` so that any dataframes without the specified names would be passed over without an issue. "
   ]
  },
  {
   "cell_type": "markdown",
   "metadata": {
    "hidden": true
   },
   "source": [
    "---"
   ]
  },
  {
   "cell_type": "markdown",
   "metadata": {
    "heading_collapsed": true
   },
   "source": [
    "### 2. Row Removal"
   ]
  },
  {
   "cell_type": "markdown",
   "metadata": {
    "hidden": true
   },
   "source": [
    "In order to avoid errors in future operations like datatype conversion, I decided to remove rows next."
   ]
  },
  {
   "cell_type": "code",
   "execution_count": 18,
   "metadata": {
    "ExecuteTime": {
     "end_time": "2021-04-01T12:53:46.243340Z",
     "start_time": "2021-04-01T12:53:46.238569Z"
    },
    "hidden": true
   },
   "outputs": [],
   "source": [
    "act_17 = act_17[act_17[\"State\"] != \"National\"] \n",
    "act_19 = act_19[act_19[\"State\"] != \"National\"]\n",
    "sat_19 = sat_19[(sat_19[\"State\"] != \"Puerto Rico\") & (sat_19[\"State\"] != \"Virgin Islands\")]"
   ]
  },
  {
   "cell_type": "markdown",
   "metadata": {
    "hidden": true
   },
   "source": [
    "I removed the rows above by simply assigning a filtered dataframe (excluding the rows I wanted to remove) to a dataframe of the same name. "
   ]
  },
  {
   "cell_type": "code",
   "execution_count": 19,
   "metadata": {
    "ExecuteTime": {
     "end_time": "2021-04-01T12:53:46.558705Z",
     "start_time": "2021-04-01T12:53:46.554936Z"
    },
    "hidden": true
   },
   "outputs": [],
   "source": [
    "act_18[act_18[\"State\"] == \"Maine\"]       # Filtered for the 2 'Maine' rows to find indices: 19 and 20 \n",
    "\n",
    "act_18.drop(index = 19, inplace = True)  # Used .drop() with a specified index (19)\n",
    "                                         \n",
    "# act_18                                   # and then verified that only 1 row remained for Maine"
   ]
  },
  {
   "cell_type": "markdown",
   "metadata": {
    "hidden": true
   },
   "source": [
    "The strategy I used for the three data frames wasn't going to work for the duplicate \"Maine\" row in the act_18 dataframe. So instead, I identified the index numbers for those two rows and removed one of them using its index.\n",
    "\n",
    "---"
   ]
  },
  {
   "cell_type": "markdown",
   "metadata": {
    "hidden": true
   },
   "source": [
    "<span style=\"color:lightslategray\"> \n",
    "<b>Resetting Indices After Row Removal</b> <br>\n",
    "After removing the rows, I checked my data frames and noticed the index numbers from the now-removed rows were missing. The indexing didn't update automatically, so I went online and found syntax for resetting the index of a data frame back to its correct sequencing.\n",
    "</span>"
   ]
  },
  {
   "cell_type": "code",
   "execution_count": 20,
   "metadata": {
    "ExecuteTime": {
     "end_time": "2021-04-01T12:53:47.181715Z",
     "start_time": "2021-04-01T12:53:47.178632Z"
    },
    "hidden": true
   },
   "outputs": [],
   "source": [
    "act_17.index = range(0,len(act_17))      # Reindexed after removing 'National' row\n",
    "act_18.index = range(0,len(act_19))      # Reindexed after removing 'Maine' row\n",
    "act_19.index = range(0,len(act_19))      # Reindexed after removing 'National' row\n",
    "sat_19.index = range(0,len(sat_19))      # Reindexed after removing 'Puerto Rico' and 'Virgin Islands' rows\n",
    "\n",
    "# found the syntax for the .index   \n",
    "# https://stackoverflow.com/questions/52484958/after-removal-of-a-row-in-a-dataframe-in-pandas-how-to-handle-the-missing-index"
   ]
  },
  {
   "cell_type": "markdown",
   "metadata": {
    "hidden": true
   },
   "source": [
    "<span style=\"color:lightslategray\"> \n",
    "<b>Dictionary Update</b> <br>\n",
    "Because I used a dictionary as a way to iterate through my data for fixes, I found that I needed to update the dictionary with the corrected dataframes. The dictionary had stored some things from the old dataframe objects in memory, but was directly referencing the updated dateframe objects for others. For example, the dictionary reflected the removed rows and columns, but when I ran my <b>df_infos()</b> function (which returned <b>.info()</b> for all 7 data frames at the same time via the dictionary), the counts of \"non-null\" values hadn't changed. So I updated the dictionary here: \n",
    "</span>"
   ]
  },
  {
   "cell_type": "code",
   "execution_count": 21,
   "metadata": {
    "ExecuteTime": {
     "end_time": "2021-04-01T12:53:47.512770Z",
     "start_time": "2021-04-01T12:53:47.510057Z"
    },
    "hidden": true
   },
   "outputs": [],
   "source": [
    "dfs = {'ACT 2017': act_17, \n",
    "       'ACT 2018': act_18, \n",
    "       'ACT 2019': act_19,\n",
    "       'SAT 2017': sat_17,\n",
    "       'SAT 2018': sat_18,\n",
    "       'SAT 2019': sat_19,\n",
    "       'States Info': states,\n",
    "      }"
   ]
  },
  {
   "cell_type": "markdown",
   "metadata": {
    "hidden": true
   },
   "source": [
    "---"
   ]
  },
  {
   "cell_type": "markdown",
   "metadata": {
    "heading_collapsed": true
   },
   "source": [
    "### 3. Strings"
   ]
  },
  {
   "cell_type": "markdown",
   "metadata": {
    "hidden": true
   },
   "source": [
    "The last thing to do before data conversion is to make two quick fixes to individual values. "
   ]
  },
  {
   "cell_type": "code",
   "execution_count": 22,
   "metadata": {
    "ExecuteTime": {
     "end_time": "2021-04-01T12:53:48.450553Z",
     "start_time": "2021-04-01T12:53:48.447675Z"
    },
    "hidden": true
   },
   "outputs": [],
   "source": [
    "# act_18\n",
    "# ROW: 'District of columbia'(8), COLUMN: 'State'(0) \n",
    "\n",
    "act_18.iloc[8,0] = 'District of Columbia'"
   ]
  },
  {
   "cell_type": "markdown",
   "metadata": {
    "hidden": true
   },
   "source": [
    "The first fix was a quick one, just a simple string variable assignment with .iloc after finding the row index to combine with the column number."
   ]
  },
  {
   "cell_type": "code",
   "execution_count": 23,
   "metadata": {
    "ExecuteTime": {
     "end_time": "2021-04-01T12:53:48.780205Z",
     "start_time": "2021-04-01T12:53:48.777134Z"
    },
    "hidden": true
   },
   "outputs": [],
   "source": [
    "# act_17\n",
    "# ROW: 'Wyoming'(50), COLUMN: 'Composite'(2) \n",
    "# “20.2x”\n",
    "\n",
    "act_17.iloc[50,2] = float(act_17.iloc[50,2][:-1])"
   ]
  },
  {
   "cell_type": "markdown",
   "metadata": {
    "hidden": true
   },
   "source": [
    "Second, I fixed the string value in the `Composite` column of the ACT 2017 dataframe. Due to the inclusion of the letter \"x\", a value that should be a float was a string. Using `.iloc`, I removed the \"x\" and converted \"20.2\" to a float."
   ]
  },
  {
   "cell_type": "markdown",
   "metadata": {},
   "source": [
    "### 4. Data Type Conversions"
   ]
  },
  {
   "cell_type": "markdown",
   "metadata": {},
   "source": [
    "Now that the data types of the columns are all consistent, I can run conversions without throwing data type exceptions.  "
   ]
  },
  {
   "cell_type": "code",
   "execution_count": 24,
   "metadata": {
    "ExecuteTime": {
     "end_time": "2021-04-01T12:53:49.772599Z",
     "start_time": "2021-04-01T12:53:49.765883Z"
    }
   },
   "outputs": [],
   "source": [
    "for title, df in dfs.items():\n",
    "    try:\n",
    "        df['Participation'] = df['Participation'].map(lambda x: percent_to_float(x))\n",
    "    except:\n",
    "        pass"
   ]
  },
  {
   "cell_type": "markdown",
   "metadata": {},
   "source": [
    "Since I haven't renamed my columns yet, I was able to use my \"dfs\" dictionary again. I looped through all of the `Participation` columns and used the `percent_to_float` conversion function I built in Part 1. "
   ]
  },
  {
   "cell_type": "code",
   "execution_count": 25,
   "metadata": {
    "ExecuteTime": {
     "end_time": "2021-04-01T12:53:50.113270Z",
     "start_time": "2021-04-01T12:53:50.110006Z"
    }
   },
   "outputs": [],
   "source": [
    "sat_19['Participation Rate'] = sat_19['Participation Rate'].map(lambda x: percent_to_float(x))"
   ]
  },
  {
   "cell_type": "markdown",
   "metadata": {},
   "source": [
    "The `Participation Rate` column in the SAT 2019 dataframe didn't get caught by my loop since it hasn't been renamed yet, so I dealt with it separately. If I changed the name prior to running the loop above, I'd just have to change the name again shortly after."
   ]
  },
  {
   "cell_type": "code",
   "execution_count": 26,
   "metadata": {
    "ExecuteTime": {
     "end_time": "2021-04-01T12:53:50.489716Z",
     "start_time": "2021-04-01T12:53:50.486757Z"
    }
   },
   "outputs": [],
   "source": [
    "act_17['Composite'] = act_17['Composite'].astype(float)"
   ]
  },
  {
   "cell_type": "markdown",
   "metadata": {},
   "source": [
    "And after fixing the \"20.2x\" value above, I was able to convert the `Composite` column in the ACT 2017 dataframe to float."
   ]
  },
  {
   "cell_type": "code",
   "execution_count": 27,
   "metadata": {
    "ExecuteTime": {
     "end_time": "2021-04-01T12:53:50.817862Z",
     "start_time": "2021-04-01T12:53:50.815441Z"
    }
   },
   "outputs": [],
   "source": [
    "dfs = {'ACT 2017': act_17, \n",
    "       'ACT 2018': act_18, \n",
    "       'ACT 2019': act_19,\n",
    "       'SAT 2017': sat_17,\n",
    "       'SAT 2018': sat_18,\n",
    "       'SAT 2019': sat_19,\n",
    "       'States Info': states,\n",
    "      }"
   ]
  },
  {
   "cell_type": "markdown",
   "metadata": {
    "ExecuteTime": {
     "end_time": "2021-04-01T12:02:12.465403Z",
     "start_time": "2021-04-01T12:02:12.461574Z"
    }
   },
   "source": [
    "Ran another dictionary update before moving on just to avoid any potential mistakes down the line."
   ]
  },
  {
   "cell_type": "markdown",
   "metadata": {
    "heading_collapsed": true
   },
   "source": [
    "### Column Renaming"
   ]
  },
  {
   "cell_type": "markdown",
   "metadata": {
    "hidden": true
   },
   "source": [
    "**Testing Data - Common Column Name (State)**"
   ]
  },
  {
   "cell_type": "code",
   "execution_count": 28,
   "metadata": {
    "ExecuteTime": {
     "end_time": "2021-04-01T12:53:51.801369Z",
     "start_time": "2021-04-01T12:53:51.797216Z"
    },
    "hidden": true
   },
   "outputs": [],
   "source": [
    "for title, df in dfs.items():\n",
    "    try:\n",
    "        df.rename(columns={'State': 'state'}, inplace=True)\n",
    "    except:\n",
    "        pass"
   ]
  },
  {
   "cell_type": "markdown",
   "metadata": {
    "hidden": true
   },
   "source": [
    "\n",
    "**Unique Column Names**"
   ]
  },
  {
   "cell_type": "code",
   "execution_count": 29,
   "metadata": {
    "ExecuteTime": {
     "end_time": "2021-04-01T12:53:52.150484Z",
     "start_time": "2021-04-01T12:53:52.144768Z"
    },
    "hidden": true
   },
   "outputs": [],
   "source": [
    "act_17.rename(columns={\n",
    "            'Participation': 'act_17_part',\n",
    "            'Composite': 'act_17_score',\n",
    "        }, inplace=True)\n",
    "\n",
    "act_18.rename(columns={\n",
    "            'Participation': 'act_18_part',\n",
    "            'Composite': 'act_18_score',\n",
    "        }, inplace=True)\n",
    "\n",
    "act_19.rename(columns={\n",
    "            'Participation': 'act_19_part',\n",
    "            'Composite': 'act_19_score',\n",
    "        }, inplace=True)\n",
    "\n",
    "sat_17.rename(columns={\n",
    "            'Participation': 'sat_17_part',\n",
    "            'Total': 'sat_17_score',\n",
    "        }, inplace=True)\n",
    "\n",
    "sat_18.rename(columns={\n",
    "            'Participation': 'sat_18_part',\n",
    "            'Total': 'sat_18_score',\n",
    "        }, inplace=True)\n",
    "\n",
    "sat_19.rename(columns={\n",
    "            'Participation Rate': 'sat_19_part',\n",
    "            'Total': 'sat_19_score',\n",
    "        }, inplace=True)"
   ]
  },
  {
   "cell_type": "markdown",
   "metadata": {
    "hidden": true
   },
   "source": [
    "**States Dataframe**"
   ]
  },
  {
   "cell_type": "code",
   "execution_count": 30,
   "metadata": {
    "ExecuteTime": {
     "end_time": "2021-04-01T12:53:52.487961Z",
     "start_time": "2021-04-01T12:53:52.484969Z"
    },
    "hidden": true
   },
   "outputs": [],
   "source": [
    "states.rename(columns={\n",
    "            'State Code': 'code',\n",
    "            'Region': 'region',\n",
    "            'Division': 'division'\n",
    "        }, inplace=True)"
   ]
  },
  {
   "cell_type": "markdown",
   "metadata": {
    "hidden": true
   },
   "source": [
    "I couldn't easily use my `dfs` dictionary to rename the columns simultaneously because I ultimately wanted to merge my tables into one. Which meant I needed to make all column names unique."
   ]
  },
  {
   "cell_type": "markdown",
   "metadata": {},
   "source": [
    "### Sorting and Re-indexing"
   ]
  },
  {
   "cell_type": "markdown",
   "metadata": {},
   "source": [
    "**For States Table**"
   ]
  },
  {
   "cell_type": "code",
   "execution_count": 31,
   "metadata": {
    "ExecuteTime": {
     "end_time": "2021-04-01T12:53:53.493218Z",
     "start_time": "2021-04-01T12:53:53.486833Z"
    }
   },
   "outputs": [],
   "source": [
    "for title, dataframe in dfs.items():\n",
    "        dataframe.sort_values('state', inplace=True)       # Sort by state column and save over dataframe \n",
    "        dataframe.index = range(0,len(df))               # Create a new range from 0-max and set that as the row index"
   ]
  },
  {
   "cell_type": "code",
   "execution_count": null,
   "metadata": {
    "ExecuteTime": {
     "end_time": "2021-04-01T13:03:23.591859Z",
     "start_time": "2021-04-01T13:03:23.582559Z"
    }
   },
   "outputs": [],
   "source": [
    "# Set state names as index for all tables\n",
    "for title, dataframe in dfs.items():\n",
    "        dataframe.set_index('state', inplace = True)\n",
    "\n",
    "## Return state names to column 0 and number range becomes index        \n",
    "# for title, dataframe in dfs.items():        \n",
    "#         dataframe.reset_index(inplace = True)"
   ]
  },
  {
   "cell_type": "code",
   "execution_count": 82,
   "metadata": {
    "ExecuteTime": {
     "end_time": "2021-04-01T13:27:53.715457Z",
     "start_time": "2021-04-01T13:27:53.712918Z"
    }
   },
   "outputs": [],
   "source": [
    "merge_dataframes = [states, act_17, act_18, act_19, sat_17, sat_18, sat_19]\n",
    "\n",
    "pd.concat(merge_dataframes,axis=1,join=\"outer\")"
   ]
  },
  {
   "cell_type": "code",
   "execution_count": 83,
   "metadata": {
    "ExecuteTime": {
     "end_time": "2021-04-01T13:28:12.802998Z",
     "start_time": "2021-04-01T13:28:12.771510Z"
    }
   },
   "outputs": [
    {
     "data": {
      "text/html": [
       "<div>\n",
       "<style scoped>\n",
       "    .dataframe tbody tr th:only-of-type {\n",
       "        vertical-align: middle;\n",
       "    }\n",
       "\n",
       "    .dataframe tbody tr th {\n",
       "        vertical-align: top;\n",
       "    }\n",
       "\n",
       "    .dataframe thead th {\n",
       "        text-align: right;\n",
       "    }\n",
       "</style>\n",
       "<table border=\"1\" class=\"dataframe\">\n",
       "  <thead>\n",
       "    <tr style=\"text-align: right;\">\n",
       "      <th></th>\n",
       "      <th>code</th>\n",
       "      <th>region</th>\n",
       "      <th>division</th>\n",
       "      <th>act_17_part</th>\n",
       "      <th>act_17_score</th>\n",
       "      <th>act_18_part</th>\n",
       "      <th>act_18_score</th>\n",
       "      <th>act_19_part</th>\n",
       "      <th>act_19_score</th>\n",
       "      <th>sat_17_part</th>\n",
       "      <th>sat_17_score</th>\n",
       "      <th>sat_18_part</th>\n",
       "      <th>sat_18_score</th>\n",
       "      <th>sat_19_part</th>\n",
       "      <th>sat_19_score</th>\n",
       "    </tr>\n",
       "    <tr>\n",
       "      <th>state</th>\n",
       "      <th></th>\n",
       "      <th></th>\n",
       "      <th></th>\n",
       "      <th></th>\n",
       "      <th></th>\n",
       "      <th></th>\n",
       "      <th></th>\n",
       "      <th></th>\n",
       "      <th></th>\n",
       "      <th></th>\n",
       "      <th></th>\n",
       "      <th></th>\n",
       "      <th></th>\n",
       "      <th></th>\n",
       "      <th></th>\n",
       "    </tr>\n",
       "  </thead>\n",
       "  <tbody>\n",
       "    <tr>\n",
       "      <th>Alabama</th>\n",
       "      <td>AL</td>\n",
       "      <td>South</td>\n",
       "      <td>East South Central</td>\n",
       "      <td>1.00</td>\n",
       "      <td>19.2</td>\n",
       "      <td>1.00</td>\n",
       "      <td>19.1</td>\n",
       "      <td>1.00</td>\n",
       "      <td>18.9</td>\n",
       "      <td>0.05</td>\n",
       "      <td>1165</td>\n",
       "      <td>0.06</td>\n",
       "      <td>1166</td>\n",
       "      <td>0.07</td>\n",
       "      <td>1143</td>\n",
       "    </tr>\n",
       "    <tr>\n",
       "      <th>Alaska</th>\n",
       "      <td>AK</td>\n",
       "      <td>West</td>\n",
       "      <td>Pacific</td>\n",
       "      <td>0.65</td>\n",
       "      <td>19.8</td>\n",
       "      <td>0.33</td>\n",
       "      <td>20.8</td>\n",
       "      <td>0.38</td>\n",
       "      <td>20.1</td>\n",
       "      <td>0.38</td>\n",
       "      <td>1080</td>\n",
       "      <td>0.43</td>\n",
       "      <td>1106</td>\n",
       "      <td>0.41</td>\n",
       "      <td>1097</td>\n",
       "    </tr>\n",
       "    <tr>\n",
       "      <th>Arizona</th>\n",
       "      <td>AZ</td>\n",
       "      <td>West</td>\n",
       "      <td>Mountain</td>\n",
       "      <td>0.62</td>\n",
       "      <td>19.7</td>\n",
       "      <td>0.66</td>\n",
       "      <td>19.2</td>\n",
       "      <td>0.73</td>\n",
       "      <td>19.0</td>\n",
       "      <td>0.30</td>\n",
       "      <td>1116</td>\n",
       "      <td>0.29</td>\n",
       "      <td>1149</td>\n",
       "      <td>0.31</td>\n",
       "      <td>1134</td>\n",
       "    </tr>\n",
       "    <tr>\n",
       "      <th>Arkansas</th>\n",
       "      <td>AR</td>\n",
       "      <td>South</td>\n",
       "      <td>West South Central</td>\n",
       "      <td>1.00</td>\n",
       "      <td>19.4</td>\n",
       "      <td>1.00</td>\n",
       "      <td>19.4</td>\n",
       "      <td>1.00</td>\n",
       "      <td>19.3</td>\n",
       "      <td>0.03</td>\n",
       "      <td>1208</td>\n",
       "      <td>0.05</td>\n",
       "      <td>1169</td>\n",
       "      <td>0.06</td>\n",
       "      <td>1141</td>\n",
       "    </tr>\n",
       "    <tr>\n",
       "      <th>California</th>\n",
       "      <td>CA</td>\n",
       "      <td>West</td>\n",
       "      <td>Pacific</td>\n",
       "      <td>0.31</td>\n",
       "      <td>22.8</td>\n",
       "      <td>0.27</td>\n",
       "      <td>22.7</td>\n",
       "      <td>0.23</td>\n",
       "      <td>22.6</td>\n",
       "      <td>0.53</td>\n",
       "      <td>1055</td>\n",
       "      <td>0.60</td>\n",
       "      <td>1076</td>\n",
       "      <td>0.63</td>\n",
       "      <td>1065</td>\n",
       "    </tr>\n",
       "    <tr>\n",
       "      <th>Colorado</th>\n",
       "      <td>CO</td>\n",
       "      <td>West</td>\n",
       "      <td>Mountain</td>\n",
       "      <td>1.00</td>\n",
       "      <td>20.8</td>\n",
       "      <td>0.30</td>\n",
       "      <td>23.9</td>\n",
       "      <td>0.27</td>\n",
       "      <td>23.8</td>\n",
       "      <td>0.11</td>\n",
       "      <td>1201</td>\n",
       "      <td>1.00</td>\n",
       "      <td>1025</td>\n",
       "      <td>1.00</td>\n",
       "      <td>1024</td>\n",
       "    </tr>\n",
       "    <tr>\n",
       "      <th>Connecticut</th>\n",
       "      <td>CT</td>\n",
       "      <td>Northeast</td>\n",
       "      <td>New England</td>\n",
       "      <td>0.31</td>\n",
       "      <td>25.2</td>\n",
       "      <td>0.26</td>\n",
       "      <td>25.6</td>\n",
       "      <td>0.22</td>\n",
       "      <td>25.5</td>\n",
       "      <td>1.00</td>\n",
       "      <td>1041</td>\n",
       "      <td>1.00</td>\n",
       "      <td>1053</td>\n",
       "      <td>1.00</td>\n",
       "      <td>1046</td>\n",
       "    </tr>\n",
       "    <tr>\n",
       "      <th>Delaware</th>\n",
       "      <td>DE</td>\n",
       "      <td>South</td>\n",
       "      <td>South Atlantic</td>\n",
       "      <td>0.18</td>\n",
       "      <td>24.1</td>\n",
       "      <td>0.17</td>\n",
       "      <td>23.8</td>\n",
       "      <td>0.13</td>\n",
       "      <td>24.1</td>\n",
       "      <td>1.00</td>\n",
       "      <td>996</td>\n",
       "      <td>1.00</td>\n",
       "      <td>998</td>\n",
       "      <td>1.00</td>\n",
       "      <td>985</td>\n",
       "    </tr>\n",
       "    <tr>\n",
       "      <th>District of Columbia</th>\n",
       "      <td>DC</td>\n",
       "      <td>South</td>\n",
       "      <td>South Atlantic</td>\n",
       "      <td>0.32</td>\n",
       "      <td>24.2</td>\n",
       "      <td>0.32</td>\n",
       "      <td>23.6</td>\n",
       "      <td>0.32</td>\n",
       "      <td>23.5</td>\n",
       "      <td>1.00</td>\n",
       "      <td>950</td>\n",
       "      <td>0.92</td>\n",
       "      <td>977</td>\n",
       "      <td>0.94</td>\n",
       "      <td>975</td>\n",
       "    </tr>\n",
       "    <tr>\n",
       "      <th>Florida</th>\n",
       "      <td>FL</td>\n",
       "      <td>South</td>\n",
       "      <td>South Atlantic</td>\n",
       "      <td>0.73</td>\n",
       "      <td>19.8</td>\n",
       "      <td>0.66</td>\n",
       "      <td>19.9</td>\n",
       "      <td>0.54</td>\n",
       "      <td>20.1</td>\n",
       "      <td>0.83</td>\n",
       "      <td>1017</td>\n",
       "      <td>0.56</td>\n",
       "      <td>1099</td>\n",
       "      <td>1.00</td>\n",
       "      <td>999</td>\n",
       "    </tr>\n",
       "    <tr>\n",
       "      <th>Georgia</th>\n",
       "      <td>GA</td>\n",
       "      <td>South</td>\n",
       "      <td>South Atlantic</td>\n",
       "      <td>0.55</td>\n",
       "      <td>21.4</td>\n",
       "      <td>0.53</td>\n",
       "      <td>21.4</td>\n",
       "      <td>0.49</td>\n",
       "      <td>21.4</td>\n",
       "      <td>0.61</td>\n",
       "      <td>1050</td>\n",
       "      <td>0.70</td>\n",
       "      <td>1064</td>\n",
       "      <td>0.71</td>\n",
       "      <td>1058</td>\n",
       "    </tr>\n",
       "    <tr>\n",
       "      <th>Hawaii</th>\n",
       "      <td>HI</td>\n",
       "      <td>West</td>\n",
       "      <td>Pacific</td>\n",
       "      <td>0.90</td>\n",
       "      <td>19.0</td>\n",
       "      <td>0.89</td>\n",
       "      <td>18.9</td>\n",
       "      <td>0.80</td>\n",
       "      <td>19.0</td>\n",
       "      <td>0.55</td>\n",
       "      <td>1085</td>\n",
       "      <td>0.56</td>\n",
       "      <td>1010</td>\n",
       "      <td>0.54</td>\n",
       "      <td>1100</td>\n",
       "    </tr>\n",
       "    <tr>\n",
       "      <th>Idaho</th>\n",
       "      <td>ID</td>\n",
       "      <td>West</td>\n",
       "      <td>Mountain</td>\n",
       "      <td>0.38</td>\n",
       "      <td>22.3</td>\n",
       "      <td>0.36</td>\n",
       "      <td>22.3</td>\n",
       "      <td>0.31</td>\n",
       "      <td>22.5</td>\n",
       "      <td>0.93</td>\n",
       "      <td>1005</td>\n",
       "      <td>1.00</td>\n",
       "      <td>1001</td>\n",
       "      <td>1.00</td>\n",
       "      <td>993</td>\n",
       "    </tr>\n",
       "    <tr>\n",
       "      <th>Illinois</th>\n",
       "      <td>IL</td>\n",
       "      <td>Midwest</td>\n",
       "      <td>East North Central</td>\n",
       "      <td>0.93</td>\n",
       "      <td>21.4</td>\n",
       "      <td>0.43</td>\n",
       "      <td>23.9</td>\n",
       "      <td>0.35</td>\n",
       "      <td>24.3</td>\n",
       "      <td>0.09</td>\n",
       "      <td>1115</td>\n",
       "      <td>0.99</td>\n",
       "      <td>1019</td>\n",
       "      <td>1.00</td>\n",
       "      <td>1013</td>\n",
       "    </tr>\n",
       "    <tr>\n",
       "      <th>Indiana</th>\n",
       "      <td>IN</td>\n",
       "      <td>Midwest</td>\n",
       "      <td>East North Central</td>\n",
       "      <td>0.35</td>\n",
       "      <td>22.6</td>\n",
       "      <td>0.32</td>\n",
       "      <td>22.5</td>\n",
       "      <td>0.29</td>\n",
       "      <td>22.5</td>\n",
       "      <td>0.63</td>\n",
       "      <td>1074</td>\n",
       "      <td>0.63</td>\n",
       "      <td>1074</td>\n",
       "      <td>0.66</td>\n",
       "      <td>1080</td>\n",
       "    </tr>\n",
       "    <tr>\n",
       "      <th>Iowa</th>\n",
       "      <td>IA</td>\n",
       "      <td>Midwest</td>\n",
       "      <td>West North Central</td>\n",
       "      <td>0.67</td>\n",
       "      <td>21.9</td>\n",
       "      <td>0.68</td>\n",
       "      <td>21.8</td>\n",
       "      <td>0.66</td>\n",
       "      <td>21.6</td>\n",
       "      <td>0.02</td>\n",
       "      <td>1275</td>\n",
       "      <td>0.03</td>\n",
       "      <td>1265</td>\n",
       "      <td>0.03</td>\n",
       "      <td>1244</td>\n",
       "    </tr>\n",
       "    <tr>\n",
       "      <th>Kansas</th>\n",
       "      <td>KS</td>\n",
       "      <td>Midwest</td>\n",
       "      <td>West North Central</td>\n",
       "      <td>0.73</td>\n",
       "      <td>21.7</td>\n",
       "      <td>0.71</td>\n",
       "      <td>21.6</td>\n",
       "      <td>0.72</td>\n",
       "      <td>21.2</td>\n",
       "      <td>0.04</td>\n",
       "      <td>1260</td>\n",
       "      <td>0.04</td>\n",
       "      <td>1265</td>\n",
       "      <td>0.04</td>\n",
       "      <td>1241</td>\n",
       "    </tr>\n",
       "    <tr>\n",
       "      <th>Kentucky</th>\n",
       "      <td>KY</td>\n",
       "      <td>South</td>\n",
       "      <td>East South Central</td>\n",
       "      <td>1.00</td>\n",
       "      <td>20.0</td>\n",
       "      <td>1.00</td>\n",
       "      <td>20.2</td>\n",
       "      <td>1.00</td>\n",
       "      <td>19.8</td>\n",
       "      <td>0.04</td>\n",
       "      <td>1247</td>\n",
       "      <td>0.04</td>\n",
       "      <td>1248</td>\n",
       "      <td>0.04</td>\n",
       "      <td>1232</td>\n",
       "    </tr>\n",
       "    <tr>\n",
       "      <th>Louisiana</th>\n",
       "      <td>LA</td>\n",
       "      <td>South</td>\n",
       "      <td>West South Central</td>\n",
       "      <td>1.00</td>\n",
       "      <td>19.5</td>\n",
       "      <td>1.00</td>\n",
       "      <td>19.2</td>\n",
       "      <td>1.00</td>\n",
       "      <td>18.8</td>\n",
       "      <td>0.04</td>\n",
       "      <td>1198</td>\n",
       "      <td>0.04</td>\n",
       "      <td>1210</td>\n",
       "      <td>0.05</td>\n",
       "      <td>1200</td>\n",
       "    </tr>\n",
       "    <tr>\n",
       "      <th>Maine</th>\n",
       "      <td>ME</td>\n",
       "      <td>Northeast</td>\n",
       "      <td>New England</td>\n",
       "      <td>0.08</td>\n",
       "      <td>24.3</td>\n",
       "      <td>0.07</td>\n",
       "      <td>24.0</td>\n",
       "      <td>0.06</td>\n",
       "      <td>24.3</td>\n",
       "      <td>0.95</td>\n",
       "      <td>1012</td>\n",
       "      <td>0.99</td>\n",
       "      <td>1013</td>\n",
       "      <td>0.99</td>\n",
       "      <td>1013</td>\n",
       "    </tr>\n",
       "    <tr>\n",
       "      <th>Maryland</th>\n",
       "      <td>MD</td>\n",
       "      <td>South</td>\n",
       "      <td>South Atlantic</td>\n",
       "      <td>0.28</td>\n",
       "      <td>23.6</td>\n",
       "      <td>0.31</td>\n",
       "      <td>22.5</td>\n",
       "      <td>0.28</td>\n",
       "      <td>22.3</td>\n",
       "      <td>0.69</td>\n",
       "      <td>1060</td>\n",
       "      <td>0.76</td>\n",
       "      <td>1080</td>\n",
       "      <td>0.82</td>\n",
       "      <td>1058</td>\n",
       "    </tr>\n",
       "    <tr>\n",
       "      <th>Massachusetts</th>\n",
       "      <td>MA</td>\n",
       "      <td>Northeast</td>\n",
       "      <td>New England</td>\n",
       "      <td>0.29</td>\n",
       "      <td>25.4</td>\n",
       "      <td>0.25</td>\n",
       "      <td>25.5</td>\n",
       "      <td>0.21</td>\n",
       "      <td>25.5</td>\n",
       "      <td>0.76</td>\n",
       "      <td>1107</td>\n",
       "      <td>0.80</td>\n",
       "      <td>1125</td>\n",
       "      <td>0.81</td>\n",
       "      <td>1120</td>\n",
       "    </tr>\n",
       "    <tr>\n",
       "      <th>Michigan</th>\n",
       "      <td>MI</td>\n",
       "      <td>Midwest</td>\n",
       "      <td>East North Central</td>\n",
       "      <td>0.29</td>\n",
       "      <td>24.1</td>\n",
       "      <td>0.22</td>\n",
       "      <td>24.2</td>\n",
       "      <td>0.19</td>\n",
       "      <td>24.4</td>\n",
       "      <td>1.00</td>\n",
       "      <td>1005</td>\n",
       "      <td>1.00</td>\n",
       "      <td>1011</td>\n",
       "      <td>1.00</td>\n",
       "      <td>1003</td>\n",
       "    </tr>\n",
       "    <tr>\n",
       "      <th>Minnesota</th>\n",
       "      <td>MN</td>\n",
       "      <td>Midwest</td>\n",
       "      <td>West North Central</td>\n",
       "      <td>1.00</td>\n",
       "      <td>21.5</td>\n",
       "      <td>0.99</td>\n",
       "      <td>21.3</td>\n",
       "      <td>0.95</td>\n",
       "      <td>21.4</td>\n",
       "      <td>0.03</td>\n",
       "      <td>1295</td>\n",
       "      <td>0.04</td>\n",
       "      <td>1298</td>\n",
       "      <td>0.04</td>\n",
       "      <td>1284</td>\n",
       "    </tr>\n",
       "    <tr>\n",
       "      <th>Mississippi</th>\n",
       "      <td>MS</td>\n",
       "      <td>South</td>\n",
       "      <td>East South Central</td>\n",
       "      <td>1.00</td>\n",
       "      <td>18.6</td>\n",
       "      <td>1.00</td>\n",
       "      <td>18.6</td>\n",
       "      <td>1.00</td>\n",
       "      <td>18.4</td>\n",
       "      <td>0.02</td>\n",
       "      <td>1242</td>\n",
       "      <td>0.03</td>\n",
       "      <td>1236</td>\n",
       "      <td>0.03</td>\n",
       "      <td>1237</td>\n",
       "    </tr>\n",
       "    <tr>\n",
       "      <th>Missouri</th>\n",
       "      <td>MO</td>\n",
       "      <td>Midwest</td>\n",
       "      <td>West North Central</td>\n",
       "      <td>1.00</td>\n",
       "      <td>20.4</td>"
      ],
      "text/plain": [
       "                     code     region            division  act_17_part  \\\n",
       "state                                                                   \n",
       "Alabama                AL      South  East South Central         1.00   \n",
       "Alaska                 AK       West             Pacific         0.65   \n",
       "Arizona                AZ       West            Mountain         0.62   \n",
       "Arkansas               AR      South  West South Central         1.00   \n",
       "California             CA       West             Pacific         0.31   \n",
       "Colorado               CO       West            Mountain         1.00   \n",
       "Connecticut            CT  Northeast         New England         0.31   \n",
       "Delaware               DE      South      South Atlantic         0.18   \n",
       "District of Columbia   DC      South      South Atlantic         0.32   \n",
       "Florida                FL      South      South Atlantic         0.73   \n",
       "Georgia                GA      South      South Atlantic         0.55   \n",
       "Hawaii                 HI       West             Pacific         0.90   \n",
       "Idaho                  ID       West            Mountain         0.38   \n",
       "Illinois               IL    Midwest  East North Central         0.93   \n",
       "Indiana                IN    Midwest  East North Central         0.35   \n",
       "Iowa                   IA    Midwest  West North Central         0.67   \n",
       "Kansas                 KS    Midwest  West North Central         0.73   \n",
       "Kentucky               KY      South  East South Central         1.00   \n",
       "Louisiana              LA      South  West South Central         1.00   \n",
       "Maine                  ME  Northeast         New England         0.08   \n",
       "Maryland               MD      South      South Atlantic         0.28   \n",
       "Massachusetts          MA  Northeast         New England         0.29   \n",
       "Michigan               MI    Midwest  East North Central         0.29   \n",
       "Minnesota              MN    Midwest  West North Central         1.00   \n",
       "Mississippi            MS      South  East South Central         1.00   \n",
       "Missouri               MO    Midwest  West North Central         1.00   \n",
       "Montana                MT       West            Mountain         1.00   \n",
       "Nebraska               NE    Midwest  West North Central         0.84   \n",
       "Nevada                 NV       West            Mountain         1.00   \n",
       "New Hampshire          NH  Northeast         New England         0.18   \n",
       "New Jersey             NJ  Northeast     Middle Atlantic         0.34   \n",
       "New Mexico             NM       West            Mountain         0.66   \n",
       "New York               NY  Northeast     Middle Atlantic         0.31   \n",
       "North Carolina         NC      South      South Atlantic         1.00   \n",
       "North Dakota           ND    Midwest  West North Central         0.98   \n",
       "Ohio                   OH    Midwest  East North Central         0.75   \n",
       "Oklahoma               OK      South  West South Central         1.00   \n",
       "Oregon                 OR       West             Pacific         0.40   \n",
       "Pennsylvania           PA  Northeast     Middle Atlantic         0.23   \n",
       "Rhode Island           RI  Northeast         New England         0.21   \n",
       "South Carolina         SC      South      South Atlantic         1.00   \n",
       "South Dakota           SD    Midwest  West North Central         0.80   \n",
       "Tennessee              TN      South  East South Central         1.00   \n",
       "Texas                  TX      South  West South Central         0.45   \n",
       "Utah                   UT       West            Mountain         1.00   \n",
       "Vermont                VT  Northeast         New England         0.29   \n",
       "Virginia               VA      South      South Atlantic         0.29   \n",
       "Washington             WA       West             Pacific         0.29   \n",
       "West Virginia          WV      South      South Atlantic         0.69   \n",
       "Wisconsin              WI    Midwest  East North Central         1.00   \n",
       "Wyoming                WY       West            Mountain         1.00   \n",
       "\n",
       "                      act_17_score  act_18_part  act_18_score  act_19_part  \\\n",
       "state                                                                        \n",
       "Alabama                       19.2         1.00          19.1         1.00   \n",
       "Alaska                        19.8         0.33          20.8         0.38   \n",
       "Arizona                       19.7         0.66          19.2         0.73   \n",
       "Arkansas                      19.4         1.00          19.4         1.00   \n",
       "California                    22.8         0.27          22.7         0.23   \n",
       "Colorado                      20.8         0.30          23.9         0.27   \n",
       "Connecticut                   25.2         0.26          25.6         0.22   \n",
       "Delaware                      24.1         0.17          23.8         0.13   \n",
       "District of Columbia          24.2         0.32          23.6         0.32   \n",
       "Florida                       19.8         0.66          19.9         0.54   \n",
       "Georgia                       21.4         0.53          21.4         0.49   \n",
       "Hawaii                        19.0         0.89          18.9         0.80   \n",
       "Idaho                         22.3         0.36          22.3         0.31   \n",
       "Illinois                      21.4         0.43          23.9         0.35   \n",
       "Indiana                       22.6         0.32          22.5         0.29   \n",
       "Iowa                          21.9         0.68          21.8         0.66   \n",
       "Kansas                        21.7         0.71          21.6         0.72   \n",
       "Kentucky                      20.0         1.00          20.2         1.00   \n",
       "Louisiana                     19.5         1.00          19.2         1.00   \n",
       "Maine                         24.3         0.07          24.0         0.06   \n",
       "Maryland                      23.6         0.31          22.5         0.28   \n",
       "Massachusetts                 25.4         0.25          25.5         0.21   \n",
       "Michigan                      24.1         0.22          24.2         0.19   \n",
       "Minnesota                     21.5         0.99          21.3         0.95   \n",
       "Mississippi                   18.6         1.00          18.6         1.00   \n",
       "Missouri                      20.4         1.00          20.0         0.82   \n",
       "Montana                       20.3         1.00          20.0         1.00   \n",
       "Nebraska                      21.4         1.00          20.1         1.00   \n",
       "Nevada                        17.8         1.00          17.7         1.00   \n",
       "New Hampshire                 25.5         0.16          25.1         0.14   \n",
       "New Jersey                    23.9         0.31          23.7         0.25   \n",
       "New Mexico                    19.7         0.67          19.4         0.63   \n",
       "New York                      24.2         0.27          24.5         0.22   \n",
       "North Carolina                19.1         1.00          19.1         1.00   \n",
       "North Dakota                  20.3         0.98          20.3         0.96   \n",
       "Ohio                          22.0         1.00          20.3         1.00   \n",
       "Oklahoma                      19.4         1.00          19.3         1.00   \n",
       "Oregon                        21.8         0.42          21.3         0.42   \n",
       "Pennsylvania                  23.7         0.20          23.5         0.17   \n",
       "Rhode Island                  24.0         0.15          24.2         0.12   \n",
       "South Carolina                18.7         1.00          18.3         0.78   \n",
       "South Dakota                  21.8         0.77          21.9         0.75   \n",
       "Tennessee                     19.8         1.00          19.6         1.00   \n",
       "Texas                         20.7         0.45          20.7         0.39   \n",
       "Utah                          20.3         1.00          20.4         1.00   \n",
       "Vermont                       23.6         0.24          24.1         0.20   \n",
       "Virginia                      23.8         0.24          23.9         0.21   \n",
       "Washington                    21.9         0.24          22.2         0.24   \n",
       "West Virginia                 20.4         0.65          20.3         0.49   \n",
       "Wisconsin                     20.5         1.00          20.5         1.00   \n",
       "Wyoming                       20.2         1.00          20.0         1.00   \n",
       "\n",
       "                      act_19_score  sat_17_part  sat_17_score  sat_18_part  \\\n",
       "state                                                                        \n",
       "Alabama                       18.9         0.05          1165         0.06   \n",
       "Alaska                        20.1         0.38          1080         0.43   \n",
       "Arizona                       19.0         0.30          1116         0.29   \n",
       "Arkansas                      19.3         0.03          1208         0.05   \n",
       "California                    22.6         0.53          1055         0.60   \n",
       "Colorado                      23.8         0.11          1201         1.00   \n",
       "Connecticut                   25.5         1.00          1041         1.00   \n",
       "Delaware                      24.1         1.00           996         1.00   \n",
       "District of Columbia          23.5         1.00           950         0.92   \n",
       "Florida                       20.1         0.83          1017         0.56   \n",
       "Georgia                       21.4         0.61          1050         0.70   \n",
       "Hawaii                        19.0         0.55          1085         0.56   \n",
       "Idaho                         22.5         0.93          1005         1.00   \n",
       "Illinois                      24.3         0.09          1115         0.99   \n",
       "Indiana                       22.5         0.63          1074         0.63   \n",
       "Iowa                          21.6         0.02          1275         0.03   \n",
       "Kansas                        21.2         0.04          1260         0.04   \n",
       "Kentucky                      19.8         0.04          1247         0.04   \n",
       "Louisiana                     18.8         0.04          1198         0.04   \n",
       "Maine                         24.3         0.95          1012         0.99   \n",
       "Maryland                      22.3         0.69          1060         0.76   \n",
       "Massachusetts                 25.5         0.76          1107         0.80   \n",
       "Michigan                      24.4         1.00          1005         1.00   \n",
       "Minnesota                     21.4         0."
      ]
     },
     "execution_count": 83,
     "metadata": {},
     "output_type": "execute_result"
    },
    {
     "data": {
      "text/html": [
       "<b>limit_output extension: Maximum message size of 10000 exceeded with 19070 characters</b>"
      ]
     },
     "metadata": {},
     "output_type": "display_data"
    }
   ],
   "source": []
  },
  {
   "cell_type": "markdown",
   "metadata": {},
   "source": [
    "## Merging and Exporting Composite Dataframes"
   ]
  },
  {
   "cell_type": "code",
   "execution_count": null,
   "metadata": {
    "ExecuteTime": {
     "end_time": "2021-04-01T11:05:03.612193Z",
     "start_time": "2021-04-01T11:05:03.601223Z"
    }
   },
   "outputs": [],
   "source": []
  },
  {
   "cell_type": "code",
   "execution_count": null,
   "metadata": {
    "ExecuteTime": {
     "end_time": "2021-04-01T11:28:53.935201Z",
     "start_time": "2021-04-01T11:28:53.915921Z"
    }
   },
   "outputs": [],
   "source": []
  },
  {
   "cell_type": "code",
   "execution_count": 34,
   "metadata": {
    "ExecuteTime": {
     "end_time": "2021-04-01T12:53:53.917912Z",
     "start_time": "2021-04-01T12:53:53.915840Z"
    }
   },
   "outputs": [],
   "source": [
    "# MASKING\n",
    "\n",
    "# act_17['act_17_part'] == 1           # Produces a vector of Booleans based on the conditions, \n",
    "# act_17[act_17['act_17_part'] == 1]   # which is used as a filter to then display a dataframe\n",
    "#                                      # with only True values"
   ]
  },
  {
   "cell_type": "markdown",
   "metadata": {
    "heading_collapsed": true
   },
   "source": [
    "## <span style=\"color:red\">Data Dictionary"
   ]
  },
  {
   "cell_type": "markdown",
   "metadata": {
    "hidden": true
   },
   "source": [
    "Now that we've fixed our data, and given it appropriate names, let's create a [data dictionary](http://library.ucmerced.edu/node/10249). \n",
    "\n",
    "A data dictionary provides a quick overview of features/variables/columns, alongside data types and descriptions. The more descriptive you can be, the more useful this document is.\n",
    "\n",
    "Example of a Fictional Data Dictionary Entry: \n",
    "\n",
    "|Feature|Type|Dataset|Description|\n",
    "|---|---|---|---|\n",
    "|**county_pop**|*integer*|2010 census|The population of the county (units in thousands, where 2.5 represents 2500 people).| \n",
    "|**per_poverty**|*float*|2010 census|The percent of the county over the age of 18 living below the 200% of official US poverty rate (units percent to two decimal places 98.10 means 98.1%)|\n",
    "\n",
    "[Here's a quick link to a short guide for formatting markdown in Jupyter notebooks](https://jupyter-notebook.readthedocs.io/en/stable/examples/Notebook/Working%20With%20Markdown%20Cells.html).\n",
    "\n",
    "Provided is the skeleton for formatting a markdown table, with columns headers that will help you create a data dictionary to quickly summarize your data, as well as some examples. **This would be a great thing to copy and paste into your custom README for this project.**\n",
    "\n",
    "*Note*: if you are unsure of what a feature is, check the source of the data! This can be found in the README."
   ]
  },
  {
   "cell_type": "markdown",
   "metadata": {
    "hidden": true
   },
   "source": [
    "<span style=\"color:red\">**To-Do:**</span> *Edit the table below to create your own data dictionary for the datasets you chose.*\n",
    "\n",
    "|Feature|Type|Dataset|Description|\n",
    "|---|---|---|---|\n",
    "|column name|int/float/object|ACT/SAT|This is an example| \n"
   ]
  },
  {
   "cell_type": "markdown",
   "metadata": {
    "heading_collapsed": true
   },
   "source": [
    "## <span style=\"color:red\">Exploratory Data Analysis </span>"
   ]
  },
  {
   "cell_type": "markdown",
   "metadata": {
    "hidden": true
   },
   "source": [
    "Complete the following steps to explore your data. You are welcome to do more EDA than the steps outlined here as you feel necessary:\n",
    "1. Summary Statistics.\n",
    "2. Use a **dictionary comprehension** to apply the standard deviation function you create in part 1 to each numeric column in the dataframe.  **No loops**.\n",
    "    - Assign the output to variable `sd` as a dictionary where: \n",
    "        - Each column name is now a key \n",
    "        - That standard deviation of the column is the value \n",
    "        - *Example Output :* `{'ACT_Math': 120, 'ACT_Reading': 120, ...}`\n",
    "3. Investigate trends in the data.\n",
    "    - Using sorting and/or masking (along with the `.head()` method to avoid printing our entire dataframe), consider questions relevant to your problem statement. Some examples are provided below (but feel free to change these questions for your specific problem):\n",
    "        - Which states have the highest and lowest participation rates for the 2017, 2019, or 2019 SAT and ACT?\n",
    "        - Which states have the highest and lowest mean total/composite scores for the 2017, 2019, or 2019 SAT and ACT?\n",
    "        - Do any states with 100% participation on a given test have a rate change year-to-year?\n",
    "        - Do any states show have >50% participation on *both* tests each year?\n",
    "        - Which colleges have the highest median SAT and ACT scores for admittance?\n",
    "        - Which California school districts have the highest and lowest mean test scores?\n",
    "    - **You should comment on your findings at each step in a markdown cell below your code block**. Make sure you include at least one example of sorting your dataframe by a column, and one example of using boolean filtering (i.e., masking) to select a subset of the dataframe."
   ]
  },
  {
   "cell_type": "code",
   "execution_count": 35,
   "metadata": {
    "ExecuteTime": {
     "end_time": "2021-04-01T12:53:55.647722Z",
     "start_time": "2021-04-01T12:53:55.645880Z"
    },
    "hidden": true
   },
   "outputs": [],
   "source": [
    "#Code:"
   ]
  },
  {
   "cell_type": "markdown",
   "metadata": {
    "hidden": true
   },
   "source": [
    "[Analysis]"
   ]
  },
  {
   "cell_type": "code",
   "execution_count": 36,
   "metadata": {
    "ExecuteTime": {
     "end_time": "2021-04-01T12:53:56.007382Z",
     "start_time": "2021-04-01T12:53:56.001140Z"
    },
    "hidden": true
   },
   "outputs": [],
   "source": [
    "#Code:"
   ]
  },
  {
   "cell_type": "markdown",
   "metadata": {
    "hidden": true
   },
   "source": [
    "[Analysis]"
   ]
  },
  {
   "cell_type": "code",
   "execution_count": 37,
   "metadata": {
    "ExecuteTime": {
     "end_time": "2021-04-01T12:53:56.373522Z",
     "start_time": "2021-04-01T12:53:56.370381Z"
    },
    "hidden": true
   },
   "outputs": [],
   "source": [
    "#Code:"
   ]
  },
  {
   "cell_type": "markdown",
   "metadata": {
    "hidden": true
   },
   "source": [
    "[Analysis]"
   ]
  },
  {
   "cell_type": "code",
   "execution_count": 38,
   "metadata": {
    "ExecuteTime": {
     "end_time": "2021-04-01T12:53:56.730313Z",
     "start_time": "2021-04-01T12:53:56.728241Z"
    },
    "hidden": true
   },
   "outputs": [],
   "source": [
    "#Code:"
   ]
  },
  {
   "cell_type": "markdown",
   "metadata": {
    "hidden": true
   },
   "source": [
    "[Analysis]"
   ]
  },
  {
   "cell_type": "code",
   "execution_count": 39,
   "metadata": {
    "ExecuteTime": {
     "end_time": "2021-04-01T12:53:57.091358Z",
     "start_time": "2021-04-01T12:53:57.089178Z"
    },
    "hidden": true
   },
   "outputs": [],
   "source": [
    "#Code:"
   ]
  },
  {
   "cell_type": "markdown",
   "metadata": {
    "hidden": true
   },
   "source": [
    "[Analysis]"
   ]
  },
  {
   "cell_type": "markdown",
   "metadata": {
    "heading_collapsed": true
   },
   "source": [
    "## <span style=\"color:red\">Visualize the Data"
   ]
  },
  {
   "cell_type": "markdown",
   "metadata": {
    "hidden": true
   },
   "source": [
    "There's not a magic bullet recommendation for the right number of plots to understand a given dataset, but visualizing your data is *always* a good idea. Not only does it allow you to quickly convey your findings (even if you have a non-technical audience), it will often reveal trends in your data that escaped you when you were looking only at numbers. It is important to not only create visualizations, but to **interpret your visualizations** as well.\n",
    "\n",
    "**Every plot should**:\n",
    "- Have a title\n",
    "- Have axis labels\n",
    "- Have appropriate tick labels\n",
    "- Text is legible in a plot\n",
    "- Plots demonstrate meaningful and valid relationships\n",
    "- Have an interpretation to aid understanding\n",
    "\n",
    "Here is an example of what your plots should look like following the above guidelines. Note that while the content of this example is unrelated, the principles of visualization hold:\n",
    "\n",
    "![](https://snag.gy/hCBR1U.jpg)\n",
    "*Interpretation: The above image shows that as we increase our spending on advertising, our sales numbers also tend to increase. There is a positive correlation between advertising spending and sales.*\n",
    "\n",
    "---\n",
    "\n",
    "Here are some prompts to get you started with visualizations. Feel free to add additional visualizations as you see fit:\n",
    "1. Use Seaborn's heatmap with pandas `.corr()` to visualize correlations between all numeric features.\n",
    "    - Heatmaps are generally not appropriate for presentations, and should often be excluded from reports as they can be visually overwhelming. **However**, they can be extremely useful in identify relationships of potential interest (as well as identifying potential collinearity before modeling).\n",
    "    - Please take time to format your output, adding a title. Look through some of the additional arguments and options. (Axis labels aren't really necessary, as long as the title is informative).\n",
    "2. Visualize distributions using histograms. If you have a lot, consider writing a custom function and use subplots.\n",
    "    - *OPTIONAL*: Summarize the underlying distributions of your features (in words & statistics)\n",
    "         - Be thorough in your verbal description of these distributions.\n",
    "         - Be sure to back up these summaries with statistics.\n",
    "         - We generally assume that data we sample from a population will be normally distributed. Do we observe this trend? Explain your answers for each distribution and how you think this will affect estimates made from these data.\n",
    "3. Plot and interpret boxplots. \n",
    "    - Boxplots demonstrate central tendency and spread in variables. In a certain sense, these are somewhat redundant with histograms, but you may be better able to identify clear outliers or differences in IQR, etc.\n",
    "    - Multiple values can be plotted to a single boxplot as long as they are of the same relative scale (meaning they have similar min/max values).\n",
    "    - Each boxplot should:\n",
    "        - Only include variables of a similar scale\n",
    "        - Have clear labels for each variable\n",
    "        - Have appropriate titles and labels\n",
    "4. Plot and interpret scatter plots to view relationships between features. Feel free to write a custom function, and subplot if you'd like. Functions save both time and space.\n",
    "    - Your plots should have:\n",
    "        - Two clearly labeled axes\n",
    "        - A proper title\n",
    "        - Colors and symbols that are clear and unmistakable\n",
    "5. Additional plots of your choosing.\n",
    "    - Are there any additional trends or relationships you haven't explored? Was there something interesting you saw that you'd like to dive further into? It's likely that there are a few more plots you might want to generate to support your narrative and recommendations that you are building toward. **As always, make sure you're interpreting your plots as you go**."
   ]
  },
  {
   "cell_type": "code",
   "execution_count": 40,
   "metadata": {
    "ExecuteTime": {
     "end_time": "2021-04-01T12:53:58.208011Z",
     "start_time": "2021-04-01T12:53:58.205794Z"
    },
    "hidden": true
   },
   "outputs": [],
   "source": [
    "# Code"
   ]
  },
  {
   "cell_type": "markdown",
   "metadata": {
    "hidden": true
   },
   "source": [
    "[Analysis]"
   ]
  },
  {
   "cell_type": "code",
   "execution_count": 41,
   "metadata": {
    "ExecuteTime": {
     "end_time": "2021-04-01T12:53:58.572502Z",
     "start_time": "2021-04-01T12:53:58.569982Z"
    },
    "hidden": true
   },
   "outputs": [],
   "source": [
    "# Code"
   ]
  },
  {
   "cell_type": "markdown",
   "metadata": {
    "hidden": true
   },
   "source": [
    "[Analysis]"
   ]
  },
  {
   "cell_type": "code",
   "execution_count": 42,
   "metadata": {
    "ExecuteTime": {
     "end_time": "2021-04-01T12:53:58.937506Z",
     "start_time": "2021-04-01T12:53:58.935068Z"
    },
    "hidden": true
   },
   "outputs": [],
   "source": [
    "# Code"
   ]
  },
  {
   "cell_type": "markdown",
   "metadata": {
    "hidden": true
   },
   "source": [
    "[Analysis]"
   ]
  },
  {
   "cell_type": "code",
   "execution_count": 43,
   "metadata": {
    "ExecuteTime": {
     "end_time": "2021-04-01T12:53:59.308950Z",
     "start_time": "2021-04-01T12:53:59.306465Z"
    },
    "hidden": true
   },
   "outputs": [],
   "source": [
    "# Code"
   ]
  },
  {
   "cell_type": "markdown",
   "metadata": {
    "hidden": true
   },
   "source": [
    "[Analysis]"
   ]
  },
  {
   "cell_type": "markdown",
   "metadata": {
    "heading_collapsed": true
   },
   "source": [
    "## <span style=\"color:red\">Conclusions and Recommendations"
   ]
  },
  {
   "cell_type": "markdown",
   "metadata": {
    "hidden": true
   },
   "source": [
    "Based on your exploration of the data, what are you key takeaways and recommendations? Make sure to answer your question of interest or address your problem statement here."
   ]
  },
  {
   "cell_type": "markdown",
   "metadata": {
    "hidden": true
   },
   "source": [
    "<span style=\"color:red\">**To-Do:**</span> *Edit this cell with your conclusions and recommendations.*"
   ]
  },
  {
   "cell_type": "markdown",
   "metadata": {},
   "source": [
    "## Citations"
   ]
  },
  {
   "cell_type": "markdown",
   "metadata": {},
   "source": [
    "**Category**  \n",
    "Topic"
   ]
  },
  {
   "cell_type": "markdown",
   "metadata": {},
   "source": [
    "**Category**  \n",
    "Topic"
   ]
  },
  {
   "cell_type": "markdown",
   "metadata": {},
   "source": [
    "**Category**  \n",
    "Topic"
   ]
  },
  {
   "cell_type": "markdown",
   "metadata": {},
   "source": [
    "**Category**  \n",
    "Topic"
   ]
  },
  {
   "cell_type": "markdown",
   "metadata": {},
   "source": [
    "**Category**  \n",
    "Topic"
   ]
  },
  {
   "cell_type": "markdown",
   "metadata": {},
   "source": [
    "**Markdown Formatting:**  \n",
    "Adding Color: https://stackoverflow.com/questions/35465557/how-to-apply-color-in-markdown"
   ]
  },
  {
   "cell_type": "markdown",
   "metadata": {},
   "source": [
    "**Category**  \n",
    "Topic"
   ]
  }
 ],
 "metadata": {
  "anaconda-cloud": {},
  "kernelspec": {
   "display_name": "Python 3",
   "language": "python",
   "name": "python3"
  },
  "language_info": {
   "codemirror_mode": {
    "name": "ipython",
    "version": 3
   },
   "file_extension": ".py",
   "mimetype": "text/x-python",
   "name": "python",
   "nbconvert_exporter": "python",
   "pygments_lexer": "ipython3",
   "version": "3.8.5"
  },
  "toc": {
   "base_numbering": 1,
   "nav_menu": {
    "height": "323px",
    "width": "418px"
   },
   "number_sections": false,
   "sideBar": true,
   "skip_h1_title": false,
   "title_cell": "Contents",
   "title_sidebar": "Contents",
   "toc_cell": false,
   "toc_position": {
    "height": "calc(100% - 180px)",
    "left": "10px",
    "top": "150px",
    "width": "302.59375px"
   },
   "toc_section_display": true,
   "toc_window_display": true
  },
  "varInspector": {
   "cols": {
    "lenName": 16,
    "lenType": 16,
    "lenVar": 40
   },
   "kernels_config": {
    "python": {
     "delete_cmd_postfix": "",
     "delete_cmd_prefix": "del ",
     "library": "var_list.py",
     "varRefreshCmd": "print(var_dic_list())"
    },
    "r": {
     "delete_cmd_postfix": ") ",
     "delete_cmd_prefix": "rm(",
     "library": "var_list.r",
     "varRefreshCmd": "cat(var_dic_list()) "
    }
   },
   "oldHeight": 520,
   "position": {
    "height": "542px",
    "left": "1933px",
    "right": "20px",
    "top": "134px",
    "width": "490px"
   },
   "types_to_exclude": [
    "module",
    "function",
    "builtin_function_or_method",
    "instance",
    "_Feature"
   ],
   "varInspector_section_display": "block",
   "window_display": true
  }
 },
 "nbformat": 4,
 "nbformat_minor": 4
}
