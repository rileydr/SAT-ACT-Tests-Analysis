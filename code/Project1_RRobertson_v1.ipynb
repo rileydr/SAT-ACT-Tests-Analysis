{
 "cells": [
  {
   "cell_type": "markdown",
   "metadata": {},
   "source": [
    "<img src=\"http://imgur.com/1ZcRyrc.png\" style=\"float: left; margin: 20px; height: 55px\">\n",
    "\n",
    "# Project 1:  Standardized Test Analysis"
   ]
  },
  {
   "cell_type": "markdown",
   "metadata": {},
   "source": [
    "## Contents"
   ]
  },
  {
   "cell_type": "markdown",
   "metadata": {
    "toc": true
   },
   "source": [
    "<h1>Contents<span class=\"tocSkip\"></span></h1>\n",
    "<div class=\"toc\"><ul class=\"toc-item\"><li><span><a href=\"#Project-1:--Standardized-Test-Analysis\" data-toc-modified-id=\"Project-1:--Standardized-Test-Analysis-1\">Project 1:  Standardized Test Analysis</a></span><ul class=\"toc-item\"><li><span><a href=\"#Contents\" data-toc-modified-id=\"Contents-1.1\">Contents</a></span></li></ul></li><li><span><a href=\"#Part-1---Prep\" data-toc-modified-id=\"Part-1---Prep-2\">Part 1 - Prep</a></span><ul class=\"toc-item\"><li><span><a href=\"#Problem-Statement\" data-toc-modified-id=\"Problem-Statement-2.1\">Problem Statement</a></span></li><li><span><a href=\"#Background\" data-toc-modified-id=\"Background-2.2\">Background</a></span></li><li><span><a href=\"#Outside-Research\" data-toc-modified-id=\"Outside-Research-2.3\">Outside Research</a></span></li><li><span><a href=\"#Data\" data-toc-modified-id=\"Data-2.4\">Data</a></span><ul class=\"toc-item\"><li><span><a href=\"#Imports-and-assignments\" data-toc-modified-id=\"Imports-and-assignments-2.4.1\">Imports and assignments</a></span></li></ul></li><li><span><a href=\"#Custom-Functions\" data-toc-modified-id=\"Custom-Functions-2.5\">Custom Functions</a></span><ul class=\"toc-item\"><li><span><a href=\"#Mean-Function\" data-toc-modified-id=\"Mean-Function-2.5.1\">Mean Function</a></span></li><li><span><a href=\"#Standard-Deviation-Function\" data-toc-modified-id=\"Standard-Deviation-Function-2.5.2\">Standard Deviation Function</a></span></li><li><span><a href=\"#Data-Cleaning-Function\" data-toc-modified-id=\"Data-Cleaning-Function-2.5.3\">Data Cleaning Function</a></span></li><li><span><a href=\"#Miscellaneous-Functions\" data-toc-modified-id=\"Miscellaneous-Functions-2.5.4\">Miscellaneous Functions</a></span></li></ul></li></ul></li><li><span><a href=\"#Part-2---Analysis\" data-toc-modified-id=\"Part-2---Analysis-3\">Part 2 - Analysis</a></span><ul class=\"toc-item\"><li><span><a href=\"#Imports\" data-toc-modified-id=\"Imports-3.1\">Imports</a></span></li><li><span><a href=\"#Data-Cleaning\" data-toc-modified-id=\"Data-Cleaning-3.2\">Data Cleaning</a></span><ul class=\"toc-item\"><li><span><a href=\"#Dataframe-Previews-and-Cleaning-Overview\" data-toc-modified-id=\"Dataframe-Previews-and-Cleaning-Overview-3.2.1\">Dataframe Previews and Cleaning Overview</a></span><ul class=\"toc-item\"><li><span><a href=\"#Previews-and-Initial-Survey\" data-toc-modified-id=\"Previews-and-Initial-Survey-3.2.1.1\">Previews and Initial Survey</a></span></li><li><span><a href=\"#Changes-to-make:\" data-toc-modified-id=\"Changes-to-make:-3.2.1.2\">Changes to make:</a></span></li></ul></li><li><span><a href=\"#1.-Column-Removal\" data-toc-modified-id=\"1.-Column-Removal-3.2.2\">1. Column Removal</a></span></li><li><span><a href=\"#2.-Row-Removal\" data-toc-modified-id=\"2.-Row-Removal-3.2.3\">2. Row Removal</a></span><ul class=\"toc-item\"><li><span><a href=\"#Resetting-Indices-After-Row-Removal\" data-toc-modified-id=\"Resetting-Indices-After-Row-Removal-3.2.3.1\">Resetting Indices After Row Removal</a></span></li><li><span><a href=\"#Dictionary-Update\" data-toc-modified-id=\"Dictionary-Update-3.2.3.2\">Dictionary Update</a></span></li></ul></li><li><span><a href=\"#3.-Strings\" data-toc-modified-id=\"3.-Strings-3.2.4\">3. Strings</a></span></li><li><span><a href=\"#4.-Data-Type-Conversions\" data-toc-modified-id=\"4.-Data-Type-Conversions-3.2.5\">4. Data Type Conversions</a></span></li><li><span><a href=\"#5.-Column-Renaming\" data-toc-modified-id=\"5.-Column-Renaming-3.2.6\">5. Column Renaming</a></span></li><li><span><a href=\"#6.-Sorting-and-Re-indexing\" data-toc-modified-id=\"6.-Sorting-and-Re-indexing-3.2.7\">6. Sorting and Re-indexing</a></span></li><li><span><a href=\"#Note:-History-Dataframe\" data-toc-modified-id=\"Note:-History-Dataframe-3.2.8\">Note: History Dataframe</a></span></li></ul></li><li><span><a href=\"#Merging-and-Exporting-Composite-Dataframes\" data-toc-modified-id=\"Merging-and-Exporting-Composite-Dataframes-3.3\">Merging and Exporting Composite Dataframes</a></span></li><li><span><a href=\"#Creating-Aggregate-Columns-to-Primary-Dataframe\" data-toc-modified-id=\"Creating-Aggregate-Columns-to-Primary-Dataframe-3.4\">Creating Aggregate Columns to Primary Dataframe</a></span></li><li><span><a href=\"#Data-Dictionary\" data-toc-modified-id=\"Data-Dictionary-3.5\">Data Dictionary</a></span></li><li><span><a href=\"#Exploratory-Data-Analysis\" data-toc-modified-id=\"Exploratory-Data-Analysis-3.6\">Exploratory Data Analysis</a></span></li><li><span><a href=\"#Visualizations\" data-toc-modified-id=\"Visualizations-3.7\">Visualizations</a></span><ul class=\"toc-item\"><li><span><a href=\"#Test-Scores-and-Participation-Rates-by-State---Scatter-Plots\" data-toc-modified-id=\"Test-Scores-and-Participation-Rates-by-State---Scatter-Plots-3.7.1\">Test Scores and Participation Rates by State - Scatter Plots</a></span></li><li><span><a href=\"#3-Year-Participation-Rate-Histograms\" data-toc-modified-id=\"3-Year-Participation-Rate-Histograms-3.7.2\">3-Year Participation Rate Histograms</a></span></li><li><span><a href=\"#Participation-Rates-of-the-SAT-and-ACT-over-35-years\" data-toc-modified-id=\"Participation-Rates-of-the-SAT-and-ACT-over-35-years-3.7.3\">Participation Rates of the SAT and ACT over 35 years</a></span></li></ul></li><li><span><a href=\"#Conclusions-and-Recommendations\" data-toc-modified-id=\"Conclusions-and-Recommendations-3.8\">Conclusions and Recommendations</a></span></li></ul></li></ul></div>"
   ]
  },
  {
   "cell_type": "markdown",
   "metadata": {},
   "source": [
    "# Part 1 - Prep\n",
    "---"
   ]
  },
  {
   "cell_type": "markdown",
   "metadata": {},
   "source": [
    "## Problem Statement"
   ]
  },
  {
   "cell_type": "markdown",
   "metadata": {},
   "source": [
    "For college admissions testing, the SAT and the ACT are THE standard. But there’s a lot of debate over these tests, policies are changing due to Covid-19, and the question is being asked: Is there a better way? A special interest group wants a brief overview of the current state of US college admissions so they can begin trying to answer that larger question. I'll look at overall average scores and participation rates by state from 2017 through 2019 to get a sense for the landscape. \n",
    " "
   ]
  },
  {
   "cell_type": "markdown",
   "metadata": {},
   "source": [
    "## Background"
   ]
  },
  {
   "cell_type": "markdown",
   "metadata": {},
   "source": [
    "The SAT and ACT are standardized tests that many colleges and universities in the United States require for their admissions process. This score is used along with other materials such as grade point average (GPA) and essay responses to determine whether or not a potential student will be accepted to the university.\n",
    "\n",
    "They have different score ranges and categories, which you can read more about on their websites or additional outside sources:\n",
    "* [SAT - CollegeBoard](https://collegereadiness.collegeboard.org/sat/inside-the-test)\n",
    "* [Additional info](https://www.princetonreview.com/college/sat-sections)\n",
    "\n",
    "\n",
    "* [ACT](https://www.act.org/content/act/en.html)\n",
    "* [Additional info](https://www.act.org/content/act/en/products-and-services/the-act/scores/understanding-your-scores.html)"
   ]
  },
  {
   "cell_type": "markdown",
   "metadata": {},
   "source": [
    "## Outside Research"
   ]
  },
  {
   "cell_type": "markdown",
   "metadata": {},
   "source": [
    "**FairTest**\n",
    "\n",
    "I found this report from FairTest that provided me with data to get an idea for  \n",
    "the historical popularity of the ACT and SAT over time: [ACT SAT Annual Test Takers Chart](https://www.fairtest.org/sites/default/files/ACT-SAT-Annual-Test-Takers-Chart.pdf)  \n",
    "\n",
    "[About FairTest](http://fairtest.org/about)\n",
    "\n",
    "---\n",
    "\n",
    "**Misunderstanding SAT data**\n",
    "\n",
    "[This Forbes article](https://www.forbes.com/sites/bentaylor/2014/07/17/why-the-midwest-dominates-the-sat/?sh=4fef1722f372) is a great example of how SAT data can be misunderstood and/or misrepresented. Though it's possible that SAT participation rates were statistically significant in 2014, it seems unlikely. The map the author shows coincides with the data we have from 2017-2019 for average SAT scores, but he makes large claims \n",
    "about average scores with no mention of participation rates whatsoever."
   ]
  },
  {
   "cell_type": "markdown",
   "metadata": {},
   "source": [
    "## Data"
   ]
  },
  {
   "cell_type": "markdown",
   "metadata": {},
   "source": [
    "**Primary DataSets** \n",
    "\n",
    "| **ACT scores and participation by state** | | | |**SAT scores and participation by state** |\n",
    "| :-- | --- | --- |--- | :-- |\n",
    "| **2017** [`act_2017.csv`](./data/act_2017.csv) | | |  | **2017** [`sat_2017.csv`](./data/sat_2017.csv)  \n",
    "| **2018** [`sat_2018.csv`](./data/sat_2018.csv) | | |  | **2018** [`act_2018.csv`](./data/act_2018.csv)\n",
    "| **2019** [`act_2019.csv`](./data/act_2019.csv) | | |  | **2019** [`sat_2019.csv`](./data/sat_2019.csv)  \n",
    "\n",
    "The provided data will provide the bulk of what I need for my analysis.\n",
    "\n",
    "---\n",
    "\n",
    "**State regional designations used by the US Census Bureau:**  \n",
    "\n",
    "[`census_regions.csv`](./data/census_regions.csv)\n",
    "\n",
    "This table contains 2 letter state codes and regional information from the US Census Bureau that will allow me to organize states according to their geographical regions. \n",
    "\n",
    "Source: [GitHub user Chris Halpert (cphalpert)](https://github.com/cphalpert/census-regions/blob/master/us%20census%20bureau%20regions%20and%20divisions.csv)  \n",
    "Chris sited his source, a file in cenus.gov's document library: [reg_div.txt](https://www2.census.gov/geo/docs/maps-data/maps/reg_div.txt)  \n",
    "I found corroboration from another census.gov document ([all-geocodes-v2016.xlsx](https://https://www2.census.gov/programs-surveys/popest/geographies/2016/all-geocodes-v2016.xlsx)) and on NOAA.gov ([U.S. Census Divisions](https://www.ncdc.noaa.gov/monitoring-references/maps/us-census-divisions.php))\n",
    "\n",
    "---\n",
    "\n",
    "**SAT and ACT Participation from 1986-2020:**  \n",
    "\n",
    "[`history_fairtest.csv`](./data/history_fairtest.csv)\n",
    "\n",
    "From FairTest.com, I found a report with numbers of participants for each test over the last 35 years, which can give us a look at a longer history of relative participation."
   ]
  },
  {
   "cell_type": "markdown",
   "metadata": {},
   "source": [
    "### Imports and assignments"
   ]
  },
  {
   "cell_type": "code",
   "execution_count": 1,
   "metadata": {
    "ExecuteTime": {
     "end_time": "2021-04-03T06:33:17.182329Z",
     "start_time": "2021-04-03T06:33:16.721969Z"
    }
   },
   "outputs": [],
   "source": [
    "import pandas as pd\n",
    "\n",
    "# Working dataframes for cleaning, processing, and analysis\n",
    "\n",
    "act_17 = pd.read_csv('data/act_2017.csv')\n",
    "act_18 = pd.read_csv('data/act_2018.csv')\n",
    "act_19 = pd.read_csv('data/act_2019.csv')\n",
    "sat_17 = pd.read_csv('data/sat_2017.csv')\n",
    "sat_18 = pd.read_csv('data/sat_2018.csv')\n",
    "sat_19 = pd.read_csv('data/sat_2019.csv')\n",
    "states = pd.read_csv('data/census_regions.csv')\n",
    "history = pd.read_csv('data/history_fairtest.csv')\n",
    "\n",
    "dfs = {'ACT 2017': act_17, \n",
    "       'ACT 2018': act_18, \n",
    "       'ACT 2019': act_19,\n",
    "       'SAT 2017': sat_17,\n",
    "       'SAT 2018': sat_18,\n",
    "       'SAT 2019': sat_19,\n",
    "       'States Info': states,\n",
    "       'Testing History' : history,\n",
    "      }"
   ]
  },
  {
   "cell_type": "markdown",
   "metadata": {},
   "source": [
    "Based on your problem statement and your chosen datasets, spend some time doing outside research on state policies or additional information that might be relevant. Summarize your findings below. If you bring in any outside tables or charts, make sure you are explicit about having borrowed them. If you quote any text, make sure that it renders as being quoted. **Make sure that you cite your sources.**"
   ]
  },
  {
   "cell_type": "markdown",
   "metadata": {
    "ExecuteTime": {
     "end_time": "2021-03-30T11:39:30.700912Z",
     "start_time": "2021-03-30T11:39:30.698787Z"
    }
   },
   "source": [
    "## Custom Functions"
   ]
  },
  {
   "cell_type": "markdown",
   "metadata": {},
   "source": [
    "###   Mean Function"
   ]
  },
  {
   "cell_type": "code",
   "execution_count": 2,
   "metadata": {
    "ExecuteTime": {
     "end_time": "2021-04-03T06:33:18.582307Z",
     "start_time": "2021-04-03T06:33:18.579712Z"
    }
   },
   "outputs": [],
   "source": [
    "def find_mean(numbers):\n",
    "    return sum(numbers)/len(numbers)"
   ]
  },
  {
   "cell_type": "code",
   "execution_count": 3,
   "metadata": {
    "ExecuteTime": {
     "end_time": "2021-04-03T06:33:18.589225Z",
     "start_time": "2021-04-03T06:33:18.587155Z"
    }
   },
   "outputs": [],
   "source": [
    "# test_list0 = [5, 6, 7]\n",
    "# test_list1 = [1, 2, 3, 4, 5, 6, 7 ,8 , 9]\n",
    "# test_list2 = [73, 40, 53, 90, 57, 3, 5]\n",
    "\n",
    "# print(f'test_list0: {find_mean(test_list0)}')\n",
    "# print(f'test_list1: {find_mean(test_list1)}')\n",
    "# print(f'test_list2: {find_mean(test_list2)}')"
   ]
  },
  {
   "cell_type": "markdown",
   "metadata": {},
   "source": [
    "### Standard Deviation Function"
   ]
  },
  {
   "cell_type": "markdown",
   "metadata": {},
   "source": [
    " $\\sigma = \\sqrt{\\frac{1}{n}\\sum_{i=1}^n(x_i - \\mu)^2}$$"
   ]
  },
  {
   "cell_type": "code",
   "execution_count": 4,
   "metadata": {
    "ExecuteTime": {
     "end_time": "2021-04-03T06:33:19.830613Z",
     "start_time": "2021-04-03T06:33:19.827675Z"
    }
   },
   "outputs": [],
   "source": [
    "def find_stdv(data):\n",
    "    avg = find_mean(data)\n",
    "    n = len(data)\n",
    "    t = 0\n",
    "    \n",
    "    for i in data:\n",
    "        t += ((i - avg) ** 2)\n",
    "    \n",
    "    return ((t/(n)) ** .5)"
   ]
  },
  {
   "cell_type": "code",
   "execution_count": 5,
   "metadata": {
    "ExecuteTime": {
     "end_time": "2021-04-03T06:33:19.837947Z",
     "start_time": "2021-04-03T06:33:19.836171Z"
    }
   },
   "outputs": [],
   "source": [
    "# test_list0 = [5, 6, 7]                                \n",
    "# test_list1 = [1, 2, 3, 4, 5, 6, 7 ,8 , 9]\n",
    "# test_list2 = [73, 40, 53, 90, 57, 3, 5]\n",
    "\n",
    "# print(f'test_list0: {find_stdv(test_list0)}')            \n",
    "# print(f'test_list1: {find_stdv(test_list1)}')\n",
    "# print(f'test_list2: {find_stdv(test_list2)}')"
   ]
  },
  {
   "cell_type": "markdown",
   "metadata": {},
   "source": [
    "### Data Cleaning Function"
   ]
  },
  {
   "cell_type": "code",
   "execution_count": 6,
   "metadata": {
    "ExecuteTime": {
     "end_time": "2021-04-03T06:33:20.449344Z",
     "start_time": "2021-04-03T06:33:20.446698Z"
    }
   },
   "outputs": [],
   "source": [
    "def percent_to_float(percent):\n",
    "    number = percent[:-1]\n",
    "    temp = float(number)\n",
    "    return temp / 100"
   ]
  },
  {
   "cell_type": "code",
   "execution_count": 7,
   "metadata": {
    "ExecuteTime": {
     "end_time": "2021-04-03T06:33:20.456867Z",
     "start_time": "2021-04-03T06:33:20.454335Z"
    }
   },
   "outputs": [],
   "source": [
    "# print(f\"test1: {percent_to_float('50%')}\")\n",
    "# print(f\"test1: {percent_to_float('30.5%')}\")\n",
    "# print(f\"test2: {percent_to_float('41.2671%')}\")"
   ]
  },
  {
   "cell_type": "markdown",
   "metadata": {},
   "source": [
    "### Miscellaneous Functions"
   ]
  },
  {
   "cell_type": "markdown",
   "metadata": {},
   "source": [
    "For setting markdown tables to align left rather than center on the page:"
   ]
  },
  {
   "cell_type": "code",
   "execution_count": 8,
   "metadata": {
    "ExecuteTime": {
     "end_time": "2021-04-03T06:33:21.690604Z",
     "start_time": "2021-04-03T06:33:21.681474Z"
    }
   },
   "outputs": [
    {
     "data": {
      "text/html": [
       "<style>\n",
       "table {align:left;display:block}\n",
       "</style>\n",
       "\n",
       "# Based on comments here: \n",
       "# https://stackoverflow.com/questions/21892570/ipython-notebook-align-table-to-the-left-of-cell\n"
      ],
      "text/plain": [
       "<IPython.core.display.HTML object>"
      ]
     },
     "metadata": {},
     "output_type": "display_data"
    }
   ],
   "source": [
    "%%html\n",
    "<style>\n",
    "table {align:left;display:block}\n",
    "</style>\n",
    "\n",
    "# Based on comments here: \n",
    "# https://stackoverflow.com/questions/21892570/ipython-notebook-align-table-to-the-left-of-cell"
   ]
  },
  {
   "cell_type": "markdown",
   "metadata": {},
   "source": [
    "---"
   ]
  },
  {
   "cell_type": "markdown",
   "metadata": {},
   "source": [
    "For simultaneously displaying multiple data frames with Pandas' table formatting:"
   ]
  },
  {
   "cell_type": "code",
   "execution_count": 9,
   "metadata": {
    "ExecuteTime": {
     "end_time": "2021-04-03T06:33:22.999325Z",
     "start_time": "2021-04-03T06:33:22.996960Z"
    }
   },
   "outputs": [],
   "source": [
    "from IPython.core import display as ICD \n",
    "\n",
    "# Huge thanks to Amanda Khairunnisa for help finding this package and building these functions!\n",
    "# I used all of following functions frequently throughout my cleaning, manipulation, and analysis\n",
    "# We found code and the necessary package in these threads:  \n",
    "# https://stackoverflow.com/questions/59535426/can-you-change-the-caption-font-size-using-pandas-styling  \n",
    "# https://stackoverflow.com/questions/58864672/how-can-i-set-the-font-of-the-caption-of-a-pandas-datafrane"
   ]
  },
  {
   "cell_type": "code",
   "execution_count": 10,
   "metadata": {
    "ExecuteTime": {
     "end_time": "2021-04-03T06:33:23.010579Z",
     "start_time": "2021-04-03T06:33:23.007694Z"
    }
   },
   "outputs": [],
   "source": [
    "# for returning a single dataframe preview with a formatted caption above to serve as a title \n",
    "\n",
    "def titled_df(dataframe, title):\n",
    "    return ICD.display(dataframe.head().style.set_caption(title).set_table_styles([{\n",
    "            'selector': 'caption',\n",
    "            'props': [('color', 'black'), ('font-size', '14px'), ('weight', 'bold')]}]))  "
   ]
  },
  {
   "cell_type": "code",
   "execution_count": 11,
   "metadata": {
    "ExecuteTime": {
     "end_time": "2021-04-03T06:33:23.019613Z",
     "start_time": "2021-04-03T06:33:23.013210Z"
    }
   },
   "outputs": [],
   "source": [
    "# for returning multiple dataframe previews with titles    \n",
    "\n",
    "def df_previews(dataframe_dict):                     # Assuming input of dictionary where:\n",
    "    tables = []                                      # key=[title_string], value=[dataframe object]\n",
    "    for key, df in dataframe_dict.items():           # loops through dicitonary\n",
    "        tables.append(titled_df(df, key));           # appends titled tables to list\n",
    "            \n",
    "    return tables                                    # returns list of tables"
   ]
  },
  {
   "cell_type": "markdown",
   "metadata": {},
   "source": [
    "---"
   ]
  },
  {
   "cell_type": "markdown",
   "metadata": {},
   "source": [
    "For quickly displaying `.info()` for all 7 dataframes simultaneously:"
   ]
  },
  {
   "cell_type": "code",
   "execution_count": 12,
   "metadata": {
    "ExecuteTime": {
     "end_time": "2021-04-03T06:33:24.316817Z",
     "start_time": "2021-04-03T06:33:24.312121Z"
    }
   },
   "outputs": [],
   "source": [
    "def df_infos(dataframe_dict):                  \n",
    "     for key, df in dataframe_dict.items():\n",
    "            print(key)\n",
    "            print(df.info())\n",
    "            print()\n",
    "            print()"
   ]
  },
  {
   "cell_type": "markdown",
   "metadata": {},
   "source": [
    "# Part 2 - Analysis\n",
    "\n",
    "---"
   ]
  },
  {
   "cell_type": "markdown",
   "metadata": {
    "ExecuteTime": {
     "end_time": "2021-03-30T11:59:41.541378Z",
     "start_time": "2021-03-30T11:59:41.539208Z"
    }
   },
   "source": [
    "## Imports"
   ]
  },
  {
   "cell_type": "code",
   "execution_count": 13,
   "metadata": {
    "ExecuteTime": {
     "end_time": "2021-04-03T06:33:26.360809Z",
     "start_time": "2021-04-03T06:33:25.614849Z"
    }
   },
   "outputs": [],
   "source": [
    "# import pandas as pd                     # pandas(pd) imported with source data in \n",
    "import numpy as np                        # [Part 1 > Data] section above\n",
    "import matplotlib.pyplot as plt\n",
    "import seaborn as sns\n",
    "\n",
    "from IPython.core import display as ICD    # see [Custom Functions > 4. Misc Code] \n",
    "                                           # for purpose and citation "
   ]
  },
  {
   "cell_type": "markdown",
   "metadata": {},
   "source": [
    "## Data Cleaning"
   ]
  },
  {
   "cell_type": "markdown",
   "metadata": {},
   "source": [
    "### Dataframe Previews and Cleaning Overview"
   ]
  },
  {
   "cell_type": "markdown",
   "metadata": {},
   "source": [
    "#### Previews and Initial Survey"
   ]
  },
  {
   "cell_type": "code",
   "execution_count": 14,
   "metadata": {
    "ExecuteTime": {
     "end_time": "2021-04-03T06:33:27.564177Z",
     "start_time": "2021-04-03T06:33:27.561861Z"
    },
    "code_folding": [],
    "scrolled": false
   },
   "outputs": [],
   "source": [
    "# df_previews(dfs);     # A custom function I used to return [dataframe].head() for all tables"
   ]
  },
  {
   "cell_type": "code",
   "execution_count": 15,
   "metadata": {
    "ExecuteTime": {
     "end_time": "2021-04-03T06:33:27.570453Z",
     "start_time": "2021-04-03T06:33:27.568589Z"
    }
   },
   "outputs": [],
   "source": [
    "#df_infos(dfs)         # Another custom function for returning these [dataframe].info() for all tables"
   ]
  },
  {
   "cell_type": "code",
   "execution_count": 16,
   "metadata": {
    "ExecuteTime": {
     "end_time": "2021-04-03T06:33:27.577559Z",
     "start_time": "2021-04-03T06:33:27.574844Z"
    }
   },
   "outputs": [],
   "source": [
    "# print(\"\\n ACT 2017 \\n\", act_17.isnull().sum())       "
   ]
  },
  {
   "cell_type": "markdown",
   "metadata": {},
   "source": [
    "I went through each dataframe using `.head()` `.info()` and `.isnull().sum()` commands to preview the data and do a survery for nulls or otherwise missing data.\n",
    "\n",
    "| ACT Dataframes | Values | | | | SAT Dataframes | Values | | | | Other Dataframes | Values |\n",
    "| :-- | :-- | --- | --- | --- | :-- | :-- | --- | --- | --- | :-- | :-- |\n",
    "| **ACT 2017** |  52 non-nulls in all columns  | |  | |**SAT 2017** | 51 non-nulls in all columns  |  | | | **States** | 51 non-nulls in all columns |\n",
    "| **ACT 2018** |  52 non-nulls in all columns  | |  | |**SAT 2018** | 51 non-nulls in all columns  |  | | | **History** | 35 non-nulls in all columns |\n",
    "| **ACT 2019** |  52 non-nulls in all columns  | |  | |**SAT 2019** | 53 non-nulls in all columns  |\n",
    "\n",
    "There were no null values to fix, but there was some variance in the numbers of rows in each table. With the exception of the `history` dataframe, all tables should have an equal number of rows: 51 for all states and Washington D.C.\n",
    "\n",
    "<!-- | ACT Dataframes | Values |\n",
    "| :-- | :-- |\n",
    "| **act_17** |  52 non-nulls in all columns  |\n",
    "| **act_18** |  52 non-nulls in all columns  |\n",
    "| **act_19** |  52 non-nulls in all columns  |\n",
    "\n",
    "| SAT Dataframes | Values |\n",
    "| :-- | :-- |\n",
    "| **sat_17** | 51 non-nulls in all columns  |\n",
    "| **sat_18** | 51 non-nulls in all columns  |\n",
    "| **sat_19** | 53 non-nulls in all columns  |\n",
    "\n",
    "| States Dataframe | Values |\n",
    "| :-- | :-- |\n",
    "| **states** | 51 non-nulls in all columns | -->\n"
   ]
  },
  {
   "cell_type": "markdown",
   "metadata": {},
   "source": [
    "---"
   ]
  },
  {
   "cell_type": "code",
   "execution_count": 17,
   "metadata": {
    "ExecuteTime": {
     "end_time": "2021-04-03T06:33:28.804953Z",
     "start_time": "2021-04-03T06:33:28.802608Z"
    }
   },
   "outputs": [],
   "source": [
    "# act_17.sort_values(by = 'State')         # 'National' (index 0) gets moved to the middle of the table "
   ]
  },
  {
   "cell_type": "code",
   "execution_count": 18,
   "metadata": {
    "ExecuteTime": {
     "end_time": "2021-04-03T06:33:28.811218Z",
     "start_time": "2021-04-03T06:33:28.809499Z"
    }
   },
   "outputs": [],
   "source": [
    "# sat_19.dtypes                            # To find problem cells in the SAT 2019 table   \n",
    "# sat_19.sort_values(by = 'Participation Rate', ascending = False).head() "
   ]
  },
  {
   "cell_type": "markdown",
   "metadata": {},
   "source": [
    "Using `.sort_values()` `.dtypes` and simply returning entire tables, I looked further into the dataframes. There were a number of issues and several changes I wanted to make to simplify before moving forward."
   ]
  },
  {
   "cell_type": "markdown",
   "metadata": {},
   "source": [
    "#### Changes to make: "
   ]
  },
  {
   "cell_type": "markdown",
   "metadata": {
    "ExecuteTime": {
     "end_time": "2021-03-31T01:52:52.197680Z",
     "start_time": "2021-03-31T01:52:52.182823Z"
    }
   },
   "source": [
    "**1. Column Removal**\n",
    "\n",
    "| |    |\n",
    "| :-- | :-- |\n",
    "| ACT 2017 |  `English`, `Math`, `Reading`, `Science` not needed |\n",
    "| SAT 2017 |  `Evidence-Based Reading and Writing`, `Math` not needed |\n",
    "| SAT 2018 |   `Evidence-Based Reading and Writing`, `Math` not needed|\n",
    "| SAT 2019 |   `EBRW`, `Math` not needed |\n",
    "\n",
    "**2. Row Removal**\n",
    "\n",
    "| |   |\n",
    "| :-- | :-- |\n",
    "| ACT 2017 |  `National` not needed |\n",
    "| ACT 2018 |  `Maine` has a duplicate row - only one needed |\t\n",
    "| ACT 2019 |  `National` not needed |\n",
    "| SAT 2019 |  `Puerto Rico` and and `Virgin Islands` not needed. Participation rates contain em dashes and no data exists from other years |\n",
    "\n",
    "**3. Strings**\n",
    "\n",
    "|  |   |\n",
    "| :-- | :-- |\n",
    "| ACT 2017 | \"20.2x\" in Row: `Wyoming`, Column: `Composite` contains extra character |\n",
    "| ACT 2018 | In the <span style=\"color:firebrick\">string</span> “District of columbia”, \"columbia\" needs capitalized|\n",
    "\n",
    "**4. Data Types**\n",
    "\n",
    "|  |  |  |\n",
    "| :-- | --- | :-- |\n",
    "| All dataframes | | Convert `Participation` (or `Participation Rate`) data type from <span style=\"color:firebrick\">String</span> to<span style=\"color:steelblue\"> Float</span>     |\n",
    "| ACT 2017 | | Convert `Composite` data types from <span style=\"color:firebrick\">String</span> to<span style=\"color:steelblue\"> Float</span> |"
   ]
  },
  {
   "cell_type": "markdown",
   "metadata": {},
   "source": [
    "---"
   ]
  },
  {
   "cell_type": "markdown",
   "metadata": {
    "ExecuteTime": {
     "end_time": "2021-03-31T23:50:02.920562Z",
     "start_time": "2021-03-31T23:50:02.908931Z"
    }
   },
   "source": [
    "### 1. Column Removal"
   ]
  },
  {
   "cell_type": "code",
   "execution_count": 19,
   "metadata": {
    "ExecuteTime": {
     "end_time": "2021-04-03T06:33:31.854758Z",
     "start_time": "2021-04-03T06:33:31.845028Z"
    }
   },
   "outputs": [],
   "source": [
    "for title, dataframe in dfs.items():         # dfs is the dictionary with all of my working dataframes\n",
    "        try:\n",
    "            dataframe.drop(columns = ['English', 'Math', 'Reading', 'Science'], inplace = True)\n",
    "        except:\n",
    "            pass\n",
    "        try:\n",
    "            dataframe.drop(columns = ['EBRW', 'Math'], inplace = True)\n",
    "        except:\n",
    "            pass\n",
    "        try:\n",
    "            dataframe.drop(columns = ['Evidence-Based Reading and Writing', 'Math'], inplace = True)\n",
    "        except:\n",
    "            pass\n"
   ]
  },
  {
   "cell_type": "markdown",
   "metadata": {},
   "source": [
    "I decided to start with Column removal, looping through my dictionary of dataframes to delete columns all at once.\n",
    "\n",
    "I used `try` and `except` so that any dataframes without the specified names would be passed over without an issue. \n",
    "\n",
    "After, I used my custom functions `df_preivews()` and `df_infos` to verify changes."
   ]
  },
  {
   "cell_type": "markdown",
   "metadata": {},
   "source": [
    "### 2. Row Removal"
   ]
  },
  {
   "cell_type": "markdown",
   "metadata": {},
   "source": [
    "In order to avoid errors in future operations like datatype conversion, I decided to remove rows next."
   ]
  },
  {
   "cell_type": "code",
   "execution_count": 20,
   "metadata": {
    "ExecuteTime": {
     "end_time": "2021-04-03T06:33:33.681908Z",
     "start_time": "2021-04-03T06:33:33.677419Z"
    }
   },
   "outputs": [],
   "source": [
    "act_17 = act_17[act_17[\"State\"] != \"National\"] \n",
    "act_19 = act_19[act_19[\"State\"] != \"National\"]\n",
    "sat_19 = sat_19[(sat_19[\"State\"] != \"Puerto Rico\") & (sat_19[\"State\"] != \"Virgin Islands\")]"
   ]
  },
  {
   "cell_type": "markdown",
   "metadata": {},
   "source": [
    "I removed the rows above by simply assigning a filtered dataframe (excluding the rows I wanted to remove) to a dataframe of the same name. "
   ]
  },
  {
   "cell_type": "code",
   "execution_count": 21,
   "metadata": {
    "ExecuteTime": {
     "end_time": "2021-04-03T06:33:34.296289Z",
     "start_time": "2021-04-03T06:33:34.292003Z"
    }
   },
   "outputs": [],
   "source": [
    "act_18[act_18[\"State\"] == \"Maine\"]       # Filtered for the 2 'Maine' rows to find indices: 19 and 20 \n",
    "\n",
    "act_18.drop(index = 19, inplace = True)  # Used .drop() with a specified index (19)\n",
    "                                         \n",
    "# act_18                                   # and then verified that only 1 row remained for Maine"
   ]
  },
  {
   "cell_type": "markdown",
   "metadata": {},
   "source": [
    "The strategy I used for the three data frames wasn't going to work for the duplicate \"Maine\" row in the act_18 dataframe. So instead, I identified the index numbers for those two rows and removed one of them using its index."
   ]
  },
  {
   "cell_type": "markdown",
   "metadata": {},
   "source": [
    "####  Resetting Indices After Row Removal"
   ]
  },
  {
   "cell_type": "markdown",
   "metadata": {},
   "source": [
    "After removing the rows, I checked my data frames and noticed the index numbers from the now-removed rows were missing. The indexing didn't update automatically, so I went online and found syntax for resetting the index of a data frame back to its correct sequencing.\n",
    "</span>"
   ]
  },
  {
   "cell_type": "code",
   "execution_count": 22,
   "metadata": {
    "ExecuteTime": {
     "end_time": "2021-04-03T06:33:36.131164Z",
     "start_time": "2021-04-03T06:33:36.128078Z"
    }
   },
   "outputs": [],
   "source": [
    "act_17.index = range(0,len(act_17))      # Reindexed after removing 'National' row\n",
    "act_18.index = range(0,len(act_19))      # Reindexed after removing 'Maine' row\n",
    "act_19.index = range(0,len(act_19))      # Reindexed after removing 'National' row\n",
    "sat_19.index = range(0,len(sat_19))      # Reindexed after removing 'Puerto Rico' and 'Virgin Islands' rows\n",
    "\n",
    "# found the syntax for the .index   \n",
    "# https://stackoverflow.com/questions/52484958/after-removal-of-a-row-in-a-dataframe-in-pandas-how-to-handle-the-missing-index"
   ]
  },
  {
   "cell_type": "markdown",
   "metadata": {},
   "source": [
    "#### Dictionary Update"
   ]
  },
  {
   "cell_type": "markdown",
   "metadata": {},
   "source": [
    "Because I used a dictionary as a way to iterate through my data for fixes, I found that I needed to update the dictionary with the corrected dataframes. The dictionary had stored some things from the old dataframe objects in memory, but was directly referencing the updated dateframe objects for others. For example, the dictionary reflected the removed rows and columns, but when I ran my <b>df_infos()</b> function (which returned <b>.info()</b> for all 7 data frames at the same time via the dictionary), the counts of \"non-null\" values hadn't changed. So I updated the dictionary here: \n",
    "</span>"
   ]
  },
  {
   "cell_type": "code",
   "execution_count": 23,
   "metadata": {
    "ExecuteTime": {
     "end_time": "2021-04-03T06:33:37.367076Z",
     "start_time": "2021-04-03T06:33:37.364708Z"
    }
   },
   "outputs": [],
   "source": [
    "dfs = {'ACT 2017': act_17, \n",
    "       'ACT 2018': act_18, \n",
    "       'ACT 2019': act_19,\n",
    "       'SAT 2017': sat_17,\n",
    "       'SAT 2018': sat_18,\n",
    "       'SAT 2019': sat_19,\n",
    "       'States Info': states,\n",
    "      }"
   ]
  },
  {
   "cell_type": "markdown",
   "metadata": {},
   "source": [
    "---"
   ]
  },
  {
   "cell_type": "markdown",
   "metadata": {},
   "source": [
    "### 3. Strings"
   ]
  },
  {
   "cell_type": "markdown",
   "metadata": {},
   "source": [
    "The last thing to do before data conversion is to make two quick fixes to individual values. "
   ]
  },
  {
   "cell_type": "code",
   "execution_count": 24,
   "metadata": {
    "ExecuteTime": {
     "end_time": "2021-04-03T06:33:39.266257Z",
     "start_time": "2021-04-03T06:33:39.263274Z"
    }
   },
   "outputs": [],
   "source": [
    "# act_18\n",
    "# ROW: 'District of columbia'(8), COLUMN: 'State'(0) \n",
    "\n",
    "act_18.iloc[8,0] = 'District of Columbia'"
   ]
  },
  {
   "cell_type": "markdown",
   "metadata": {},
   "source": [
    "The first fix was a quick one, just a simple string variable assignment with .iloc after finding the row index to combine with the column number."
   ]
  },
  {
   "cell_type": "code",
   "execution_count": 25,
   "metadata": {
    "ExecuteTime": {
     "end_time": "2021-04-03T06:33:39.885197Z",
     "start_time": "2021-04-03T06:33:39.882673Z"
    }
   },
   "outputs": [],
   "source": [
    "# act_17\n",
    "# ROW: 'Wyoming'(50), COLUMN: 'Composite'(2) \n",
    "# “20.2x”\n",
    "\n",
    "act_17.iloc[50,2] = float(act_17.iloc[50,2][:-1])"
   ]
  },
  {
   "cell_type": "markdown",
   "metadata": {},
   "source": [
    "Second, I fixed the string value in the `Composite` column of the ACT 2017 dataframe. Due to the inclusion of the letter \"x\", a value that should be a float was a string. Using `.iloc`, I removed the \"x\" and converted \"20.2\" to a float."
   ]
  },
  {
   "cell_type": "markdown",
   "metadata": {},
   "source": [
    "### 4. Data Type Conversions"
   ]
  },
  {
   "cell_type": "markdown",
   "metadata": {},
   "source": [
    "Now that the data types of the columns are all consistent, I can run conversions without throwing data type exceptions.  "
   ]
  },
  {
   "cell_type": "code",
   "execution_count": 26,
   "metadata": {
    "ExecuteTime": {
     "end_time": "2021-04-03T06:33:41.730815Z",
     "start_time": "2021-04-03T06:33:41.725590Z"
    }
   },
   "outputs": [],
   "source": [
    "for title, df in dfs.items():\n",
    "    try:\n",
    "        df['Participation'] = df['Participation'].map(lambda x: percent_to_float(x))\n",
    "    except:\n",
    "        pass\n",
    "\n"
   ]
  },
  {
   "cell_type": "markdown",
   "metadata": {},
   "source": [
    "Since I haven't renamed my columns yet, I was able to use my \"dfs\" dictionary again. I looped through all of the `Participation` columns and used the `percent_to_float` conversion function I built in Part 1. "
   ]
  },
  {
   "cell_type": "code",
   "execution_count": 27,
   "metadata": {
    "ExecuteTime": {
     "end_time": "2021-04-03T06:33:42.373529Z",
     "start_time": "2021-04-03T06:33:42.370419Z"
    }
   },
   "outputs": [],
   "source": [
    "sat_19['Participation Rate'] = sat_19['Participation Rate'].map(lambda x: percent_to_float(x))"
   ]
  },
  {
   "cell_type": "markdown",
   "metadata": {},
   "source": [
    "The `Participation Rate` column in the SAT 2019 dataframe didn't get caught by my loop since it hasn't been renamed yet, so I dealt with it separately. If I changed the name prior to running the loop above, I'd just have to change the name again shortly after."
   ]
  },
  {
   "cell_type": "code",
   "execution_count": 28,
   "metadata": {
    "ExecuteTime": {
     "end_time": "2021-04-03T06:33:43.044587Z",
     "start_time": "2021-04-03T06:33:43.041564Z"
    }
   },
   "outputs": [],
   "source": [
    "act_17['Composite'] = act_17['Composite'].astype(float)"
   ]
  },
  {
   "cell_type": "markdown",
   "metadata": {},
   "source": [
    "And after fixing the \"20.2x\" value above, I was able to convert the `Composite` column in the ACT 2017 dataframe to float."
   ]
  },
  {
   "cell_type": "code",
   "execution_count": 29,
   "metadata": {
    "ExecuteTime": {
     "end_time": "2021-04-03T06:33:43.700768Z",
     "start_time": "2021-04-03T06:33:43.698371Z"
    }
   },
   "outputs": [],
   "source": [
    "dfs = {'ACT 2017': act_17, \n",
    "       'ACT 2018': act_18, \n",
    "       'ACT 2019': act_19,\n",
    "       'SAT 2017': sat_17,\n",
    "       'SAT 2018': sat_18,\n",
    "       'SAT 2019': sat_19,\n",
    "       'States Info': states,\n",
    "      }"
   ]
  },
  {
   "cell_type": "markdown",
   "metadata": {
    "ExecuteTime": {
     "end_time": "2021-04-01T12:02:12.465403Z",
     "start_time": "2021-04-01T12:02:12.461574Z"
    }
   },
   "source": [
    "Ran another dictionary update before moving on just to avoid any potential mistakes down the line."
   ]
  },
  {
   "cell_type": "markdown",
   "metadata": {},
   "source": [
    "### 5. Column Renaming"
   ]
  },
  {
   "cell_type": "markdown",
   "metadata": {},
   "source": [
    "**Testing Data - Common Column Name (State)**"
   ]
  },
  {
   "cell_type": "code",
   "execution_count": 30,
   "metadata": {
    "ExecuteTime": {
     "end_time": "2021-04-03T06:33:45.593133Z",
     "start_time": "2021-04-03T06:33:45.588627Z"
    }
   },
   "outputs": [],
   "source": [
    "for title, df in dfs.items():\n",
    "    try:\n",
    "        df.rename(columns={'State': 'state'}, inplace=True)\n",
    "    except:\n",
    "        pass"
   ]
  },
  {
   "cell_type": "markdown",
   "metadata": {},
   "source": [
    "\n",
    "**Unique Column Names**"
   ]
  },
  {
   "cell_type": "code",
   "execution_count": 31,
   "metadata": {
    "ExecuteTime": {
     "end_time": "2021-04-03T06:33:46.223595Z",
     "start_time": "2021-04-03T06:33:46.217947Z"
    }
   },
   "outputs": [],
   "source": [
    "act_17.rename(columns={\n",
    "            'Participation': 'act_17_part',\n",
    "            'Composite': 'act_17_score',\n",
    "        }, inplace=True)\n",
    "\n",
    "act_18.rename(columns={\n",
    "            'Participation': 'act_18_part',\n",
    "            'Composite': 'act_18_score',\n",
    "        }, inplace=True)\n",
    "\n",
    "act_19.rename(columns={\n",
    "            'Participation': 'act_19_part',\n",
    "            'Composite': 'act_19_score',\n",
    "        }, inplace=True)\n",
    "\n",
    "sat_17.rename(columns={\n",
    "            'Participation': 'sat_17_part',\n",
    "            'Total': 'sat_17_score',\n",
    "        }, inplace=True)\n",
    "\n",
    "sat_18.rename(columns={\n",
    "            'Participation': 'sat_18_part',\n",
    "            'Total': 'sat_18_score',\n",
    "        }, inplace=True)\n",
    "\n",
    "sat_19.rename(columns={\n",
    "            'Participation Rate': 'sat_19_part',\n",
    "            'Total': 'sat_19_score',\n",
    "        }, inplace=True)"
   ]
  },
  {
   "cell_type": "markdown",
   "metadata": {},
   "source": [
    "**States Dataframe**"
   ]
  },
  {
   "cell_type": "code",
   "execution_count": 32,
   "metadata": {
    "ExecuteTime": {
     "end_time": "2021-04-03T06:33:46.853275Z",
     "start_time": "2021-04-03T06:33:46.850518Z"
    }
   },
   "outputs": [],
   "source": [
    "states.rename(columns={\n",
    "            'State Code': 'code',\n",
    "            'Region': 'region',\n",
    "            'Division': 'division'\n",
    "        }, inplace=True)"
   ]
  },
  {
   "cell_type": "markdown",
   "metadata": {},
   "source": [
    "I couldn't easily use my `dfs` dictionary to rename the columns simultaneously because I ultimately wanted to merge my tables into one. Which meant I needed to make all column names unique."
   ]
  },
  {
   "cell_type": "markdown",
   "metadata": {},
   "source": [
    "### 6. Sorting and Re-indexing"
   ]
  },
  {
   "cell_type": "markdown",
   "metadata": {},
   "source": [
    "**For States Table**"
   ]
  },
  {
   "cell_type": "code",
   "execution_count": 33,
   "metadata": {
    "ExecuteTime": {
     "end_time": "2021-04-03T06:33:48.733949Z",
     "start_time": "2021-04-03T06:33:48.728218Z"
    }
   },
   "outputs": [],
   "source": [
    "# Sort by state column and save over dataframe\n",
    "# Create a new range from 0-max and map that range to recreate the row index\n",
    "\n",
    "for title, dataframe in dfs.items():\n",
    "    dataframe.sort_values('state', inplace=True)\n",
    "    dataframe.index = range(0, len(df))\n",
    "\n",
    "# https://pandas.pydata.org/pandas-docs/stable/reference/api/pandas.DataFrame.reset_index.html"
   ]
  },
  {
   "cell_type": "code",
   "execution_count": 34,
   "metadata": {
    "ExecuteTime": {
     "end_time": "2021-04-03T06:33:48.742390Z",
     "start_time": "2021-04-03T06:33:48.736617Z"
    }
   },
   "outputs": [],
   "source": [
    "# Set state names as index for all tables\n",
    "for title, dataframe in dfs.items():\n",
    "    dataframe.set_index('state', inplace=True)\n",
    "\n",
    "# # Return state names to column 0 and number range becomes index\n",
    "# for title, dataframe in dfs.items():\n",
    "#    dataframe.reset_index(inplace=True)"
   ]
  },
  {
   "cell_type": "markdown",
   "metadata": {},
   "source": [
    "### Note: History Dataframe"
   ]
  },
  {
   "cell_type": "markdown",
   "metadata": {},
   "source": [
    "I copy/pasted the information for this dataframe from a .pdf document myself so I brought it all in well formatted.\n",
    "\n",
    "When I pasted it into Excel, though, the formatting was no good. The main issue was that there were long strings of numbers in single cells. Thankfully, the values were separated by spaces, so I was able to quickly separate them out using the function below."
   ]
  },
  {
   "cell_type": "code",
   "execution_count": 35,
   "metadata": {
    "ExecuteTime": {
     "end_time": "2021-04-03T06:33:50.029208Z",
     "start_time": "2021-04-03T06:33:50.025504Z"
    }
   },
   "outputs": [],
   "source": [
    "def string_to_csv(string):\n",
    "    temp_list = string.split(' ')\n",
    "    new_table = pd.DataFrame(temp_list)\n",
    "    new_table.to_csv('../output/strings_output.csv')"
   ]
  },
  {
   "cell_type": "code",
   "execution_count": 36,
   "metadata": {
    "ExecuteTime": {
     "end_time": "2021-04-03T06:33:50.042986Z",
     "start_time": "2021-04-03T06:33:50.035614Z"
    }
   },
   "outputs": [],
   "source": [
    "string_to_csv(' ')"
   ]
  },
  {
   "cell_type": "markdown",
   "metadata": {},
   "source": [
    "## Merging and Exporting Composite Dataframes"
   ]
  },
  {
   "cell_type": "code",
   "execution_count": 37,
   "metadata": {
    "ExecuteTime": {
     "end_time": "2021-04-03T06:33:50.677667Z",
     "start_time": "2021-04-03T06:33:50.673063Z"
    }
   },
   "outputs": [],
   "source": [
    "merge_dataframes = [states, act_17, act_18, act_19, sat_17, sat_18, sat_19]\n",
    "\n",
    "df = pd.concat(merge_dataframes, axis=1, join=\"outer\")\n",
    "\n",
    "# https://pandas.pydata.org/docs/user_guide/merging.html"
   ]
  },
  {
   "cell_type": "code",
   "execution_count": 38,
   "metadata": {
    "ExecuteTime": {
     "end_time": "2021-04-03T06:33:50.683558Z",
     "start_time": "2021-04-03T06:33:50.681551Z"
    }
   },
   "outputs": [],
   "source": [
    "# df.to_csv(path_or_buf='data/merged_dataframes.csv')            # Export to CSV"
   ]
  },
  {
   "cell_type": "markdown",
   "metadata": {},
   "source": [
    "## Creating Aggregate Columns to Primary Dataframe"
   ]
  },
  {
   "cell_type": "code",
   "execution_count": 39,
   "metadata": {
    "ExecuteTime": {
     "end_time": "2021-04-03T06:33:51.321096Z",
     "start_time": "2021-04-03T06:33:51.306999Z"
    },
    "scrolled": false
   },
   "outputs": [],
   "source": [
    "df['act_avg_part'] = (df['act_17_part'] + df['act_18_part'] + df['act_19_part'])/3\n",
    "df['sat_avg_part'] = (df['sat_17_part'] + df['sat_18_part'] + df['sat_19_part'])/3\n",
    "df['act_avg_score'] = (df['act_17_score'] + df['act_18_score'] + df['act_19_score'])/3\n",
    "df['sat_avg_score'] = (df['sat_17_score'] + df['sat_18_score'] + df['sat_19_score'])/3\n",
    "\n",
    "# df.to_csv(path_or_buf='data/merged_dataframes_with_aggs.csv')        # Export to CSV"
   ]
  },
  {
   "cell_type": "markdown",
   "metadata": {},
   "source": [
    "Taking the mean of the averages from each year, I created these 4 columns so that I could look at data for all 3 years simultaneously."
   ]
  },
  {
   "cell_type": "markdown",
   "metadata": {},
   "source": [
    "## Data Dictionary"
   ]
  },
  {
   "cell_type": "markdown",
   "metadata": {},
   "source": [
    "| Feature       | Type   | Dataframe | Dataset              | Description                                                                        |\n",
    "|---------------|--------|-----------|----------------------|------------------------------------------------------------------------------------|\n",
    "| [state]       | index  | df        | census_regions.csv   | Full state name (all 50 states and the District of Columbia)                       |\n",
    "| code          | object | df        | census_regions.csv   | 2-letter upper-case abbreviation of the State's name                               |\n",
    "| region        | object | df        | census_regions.csv   | Region designated by US Census Bureau - Total of 4 Regions                         |\n",
    "| division      | object | df        | census_regions.csv   | Divisions of each Region designated by US Census Bureau - Total of 9 Divisions     |\n",
    "| act_17_part   | float  | df        | act_2017.csv         | ACT 2017 - Participation % of high school seniors                                  |\n",
    "| act_17_score  | float  | df        | act_2017.csv         | ACT 2017 - Overall mean score - AVG of sub-sections                                |\n",
    "| act_18_part   | float  | df        | act_2018.csv         | ACT 2018 - Participation % of high school seniors                                  |\n",
    "| act_18_score  | float  | df        | act_2018.csv         | ACT 2018 - Overall mean score - AVG of sub-sections                                |\n",
    "| act_19_part   | float  | df        | act_2019.csv         | ACT 2019 - Participation % of high school seniors                                  |\n",
    "| act_19_score  | float  | df        | act_2019.csv         | ACT 2019 - Overall mean score - AVG of sub-sections                                |\n",
    "| sat_17_part   | float  | df        | sat_2017.csv         | SAT 2017 - Participation % of high school seniors                                  |\n",
    "| sat_17_score  | int    | df        | sat_2017.csv         | SAT 2017 - Overall mean score - SUM of sub-sections                                |\n",
    "| sat_18_part   | float  | df        | sat_2018.csv         | SAT 2018 - Participation % of high school seniors                                  |\n",
    "| sat_18_score  | int    | df        | sat_2018.csv         | SAT 2018 - Overall mean score - SUM of sub-sections                                |\n",
    "| sat_19_part   | float  | df        | sat_2019.csv         | SAT 2019 - Participation % of high school seniors                                  |\n",
    "| sat_19_score  | int    | df        | sat_2019.csv         | SAT 2019 - Overall mean score - SUM of sub-sections                                |\n",
    "| act_avg_part  | float  | df        | calculated field     | ACT AVG - Mean Participation % of all 3 years                                      |\n",
    "| sat_avg_part  | float  | df        | calculated field     | SAT AVG - Participation % of high school seniors                                   |\n",
    "| act_avg_score | float  | df        | calculated field     | ACT AVG - Mean Participation % of all 3 years                                      |\n",
    "| sat_avg_score | float  | df        | calculated field     | SAT AVG - Participation % of high school seniors                                   |\n",
    "| class_of      | int    | history   | history_fairtest.csv | Refers to the graduating class of the listed year                                  |\n",
    "| act           | int    | history   | history_fairtest.csv | Number of ACT Test-takers in the US                                                |\n",
    "| sat           | int    | history   | history_fairtest.csv | Number of SAT Test-takers in the US                                                |\n",
    "| act_over_sat  | float  | history   | history_fairtest.csv | Number of ACT Test-takers divided by the number of SAT Test-takers (as percentage) |"
   ]
  },
  {
   "cell_type": "markdown",
   "metadata": {},
   "source": [
    "## Exploratory Data Analysis "
   ]
  },
  {
   "cell_type": "code",
   "execution_count": 40,
   "metadata": {
    "ExecuteTime": {
     "end_time": "2021-04-03T06:33:53.805614Z",
     "start_time": "2021-04-03T06:33:53.801877Z"
    }
   },
   "outputs": [],
   "source": [
    "# Filtering columns with df.filter()\n",
    "\n",
    "key_columns = ['code', 'region', 'division', 'act_avg_part', 'sat_avg_part', 'act_avg_score', 'sat_avg_score']\n",
    "df_core = df.filter(items=key_columns, axis=1)\n",
    "\n",
    "#df_core.head()\n",
    "\n",
    "# https://pandas.pydata.org/docs/reference/api/pandas.DataFrame.filter.html"
   ]
  },
  {
   "cell_type": "markdown",
   "metadata": {},
   "source": [
    "So that I can focus on the aggregate columns I created, I've filtered my dataframe and assigned it to a new variable."
   ]
  },
  {
   "cell_type": "markdown",
   "metadata": {},
   "source": [
    "---"
   ]
  },
  {
   "cell_type": "markdown",
   "metadata": {},
   "source": [
    "**Summary Statistics**"
   ]
  },
  {
   "cell_type": "code",
   "execution_count": 41,
   "metadata": {
    "ExecuteTime": {
     "end_time": "2021-04-03T06:33:55.736479Z",
     "start_time": "2021-04-03T06:33:55.717759Z"
    },
    "scrolled": true
   },
   "outputs": [
    {
     "data": {
      "text/html": [
       "<div>\n",
       "<style scoped>\n",
       "    .dataframe tbody tr th:only-of-type {\n",
       "        vertical-align: middle;\n",
       "    }\n",
       "\n",
       "    .dataframe tbody tr th {\n",
       "        vertical-align: top;\n",
       "    }\n",
       "\n",
       "    .dataframe thead th {\n",
       "        text-align: right;\n",
       "    }\n",
       "</style>\n",
       "<table border=\"1\" class=\"dataframe\">\n",
       "  <thead>\n",
       "    <tr style=\"text-align: right;\">\n",
       "      <th></th>\n",
       "      <th>act_avg_part</th>\n",
       "      <th>sat_avg_part</th>\n",
       "      <th>act_avg_score</th>\n",
       "      <th>sat_avg_score</th>\n",
       "    </tr>\n",
       "  </thead>\n",
       "  <tbody>\n",
       "    <tr>\n",
       "      <th>count</th>\n",
       "      <td>51.000000</td>\n",
       "      <td>51.000000</td>\n",
       "      <td>51.000000</td>\n",
       "      <td>51.000000</td>\n",
       "    </tr>\n",
       "    <tr>\n",
       "      <th>mean</th>\n",
       "      <td>0.618824</td>\n",
       "      <td>0.448693</td>\n",
       "      <td>21.493464</td>\n",
       "      <td>1119.732026</td>\n",
       "    </tr>\n",
       "    <tr>\n",
       "      <th>std</th>\n",
       "      <td>0.328698</td>\n",
       "      <td>0.357529</td>\n",
       "      <td>2.078130</td>\n",
       "      <td>90.974771</td>\n",
       "    </tr>\n",
       "    <tr>\n",
       "      <th>min</th>\n",
       "      <td>0.070000</td>\n",
       "      <td>0.020000</td>\n",
       "      <td>17.800000</td>\n",
       "      <td>967.333333</td>\n",
       "    </tr>\n",
       "    <tr>\n",
       "      <th>25%</th>\n",
       "      <td>0.280000</td>\n",
       "      <td>0.045000</td>\n",
       "      <td>19.966667</td>\n",
       "      <td>1056.000000</td>\n",
       "    </tr>\n",
       "    <tr>\n",
       "      <th>50%</th>\n",
       "      <td>0.643333</td>\n",
       "      <td>0.506667</td>\n",
       "      <td>21.400000</td>\n",
       "      <td>1094.333333</td>\n",
       "    </tr>\n",
       "    <tr>\n",
       "      <th>75%</th>\n",
       "      <td>0.990000</td>\n",
       "      <td>0.726667</td>\n",
       "      <td>23.400000</td>\n",
       "      <td>1200.166667</td>\n",
       "    </tr>\n",
       "    <tr>\n",
       "      <th>max</th>\n",
       "      <td>1.000000</td>\n",
       "      <td>1.000000</td>\n",
       "      <td>25.466667</td>\n",
       "      <td>1292.333333</td>\n",
       "    </tr>\n",
       "  </tbody>\n",
       "</table>\n",
       "</div>"
      ],
      "text/plain": [
       "       act_avg_part  sat_avg_part  act_avg_score  sat_avg_score\n",
       "count     51.000000     51.000000      51.000000      51.000000\n",
       "mean       0.618824      0.448693      21.493464    1119.732026\n",
       "std        0.328698      0.357529       2.078130      90.974771\n",
       "min        0.070000      0.020000      17.800000     967.333333\n",
       "25%        0.280000      0.045000      19.966667    1056.000000\n",
       "50%        0.643333      0.506667      21.400000    1094.333333\n",
       "75%        0.990000      0.726667      23.400000    1200.166667\n",
       "max        1.000000      1.000000      25.466667    1292.333333"
      ]
     },
     "execution_count": 41,
     "metadata": {},
     "output_type": "execute_result"
    }
   ],
   "source": [
    "df_core.describe()"
   ]
  },
  {
   "cell_type": "markdown",
   "metadata": {},
   "source": [
    "---"
   ]
  },
  {
   "cell_type": "markdown",
   "metadata": {},
   "source": [
    "**Dictionary Comprehension**"
   ]
  },
  {
   "cell_type": "code",
   "execution_count": 42,
   "metadata": {
    "ExecuteTime": {
     "end_time": "2021-04-03T06:33:57.093237Z",
     "start_time": "2021-04-03T06:33:57.088637Z"
    },
    "scrolled": true
   },
   "outputs": [
    {
     "data": {
      "text/plain": [
       "{'act_avg_part': 0.32545983794169353,\n",
       " 'sat_avg_part': 0.35400606719772265,\n",
       " 'act_avg_score': 2.057655026842954,\n",
       " 'sat_avg_score': 90.0784460739249}"
      ]
     },
     "execution_count": 42,
     "metadata": {},
     "output_type": "execute_result"
    }
   ],
   "source": [
    "{x: find_stdv(df_core[x]) for x in df_core.columns if x.startswith('act') or x.startswith('sat')}"
   ]
  },
  {
   "cell_type": "markdown",
   "metadata": {},
   "source": [
    "---"
   ]
  },
  {
   "cell_type": "markdown",
   "metadata": {},
   "source": [
    "**The 100% Clubs**"
   ]
  },
  {
   "cell_type": "code",
   "execution_count": 44,
   "metadata": {
    "ExecuteTime": {
     "end_time": "2021-04-03T06:34:00.303645Z",
     "start_time": "2021-04-03T06:34:00.292294Z"
    }
   },
   "outputs": [
    {
     "data": {
      "text/html": [
       "<div>\n",
       "<style scoped>\n",
       "    .dataframe tbody tr th:only-of-type {\n",
       "        vertical-align: middle;\n",
       "    }\n",
       "\n",
       "    .dataframe tbody tr th {\n",
       "        vertical-align: top;\n",
       "    }\n",
       "\n",
       "    .dataframe thead th {\n",
       "        text-align: right;\n",
       "    }\n",
       "</style>\n",
       "<table border=\"1\" class=\"dataframe\">\n",
       "  <thead>\n",
       "    <tr style=\"text-align: right;\">\n",
       "      <th></th>\n",
       "      <th>code</th>\n",
       "      <th>region</th>\n",
       "      <th>division</th>\n",
       "      <th>act_avg_part</th>\n",
       "      <th>sat_avg_part</th>\n",
       "      <th>act_avg_score</th>\n",
       "      <th>sat_avg_score</th>\n",
       "    </tr>\n",
       "    <tr>\n",
       "      <th>state</th>\n",
       "      <th></th>\n",
       "      <th></th>\n",
       "      <th></th>\n",
       "      <th></th>\n",
       "      <th></th>\n",
       "      <th></th>\n",
       "      <th></th>\n",
       "    </tr>\n",
       "  </thead>\n",
       "  <tbody>\n",
       "    <tr>\n",
       "      <th>Kentucky</th>\n",
       "      <td>KY</td>\n",
       "      <td>South</td>\n",
       "      <td>East South Central</td>\n",
       "      <td>1.0</td>\n",
       "      <td>0.040000</td>\n",
       "      <td>20.000000</td>\n",
       "      <td>1242.333333</td>\n",
       "    </tr>\n",
       "    <tr>\n",
       "      <th>Arkansas</th>\n",
       "      <td>AR</td>\n",
       "      <td>South</td>\n",
       "      <td>West South Central</td>\n",
       "      <td>1.0</td>\n",
       "      <td>0.046667</td>\n",
       "      <td>19.366667</td>\n",
       "      <td>1172.666667</td>\n",
       "    </tr>\n",
       "    <tr>\n",
       "      <th>Louisiana</th>\n",
       "      <td>LA</td>\n",
       "      <td>South</td>\n",
       "      <td>West South Central</td>\n",
       "      <td>1.0</td>\n",
       "      <td>0.043333</td>\n",
       "      <td>19.166667</td>\n",
       "      <td>1202.666667</td>\n",
       "    </tr>\n",
       "    <tr>\n",
       "      <th>Alabama</th>\n",
       "      <td>AL</td>\n",
       "      <td>South</td>\n",
       "      <td>East South Central</td>\n",
       "      <td>1.0</td>\n",
       "      <td>0.060000</td>\n",
       "      <td>19.066667</td>\n",
       "      <td>1158.000000</td>\n",
       "    </tr>\n",
       "    <tr>\n",
       "      <th>Mississippi</th>\n",
       "      <td>MS</td>\n",
       "      <td>South</td>\n",
       "      <td>East South Central</td>\n",
       "      <td>1.0</td>\n",
       "      <td>0.026667</td>\n",
       "      <td>18.533333</td>\n",
       "      <td>1238.333333</td>\n",
       "    </tr>\n",
       "  </tbody>\n",
       "</table>\n",
       "</div>"
      ],
      "text/plain": [
       "            code region            division  act_avg_part  sat_avg_part  \\\n",
       "state                                                                     \n",
       "Kentucky      KY  South  East South Central           1.0      0.040000   \n",
       "Arkansas      AR  South  West South Central           1.0      0.046667   \n",
       "Louisiana     LA  South  West South Central           1.0      0.043333   \n",
       "Alabama       AL  South  East South Central           1.0      0.060000   \n",
       "Mississippi   MS  South  East South Central           1.0      0.026667   \n",
       "\n",
       "             act_avg_score  sat_avg_score  \n",
       "state                                      \n",
       "Kentucky         20.000000    1242.333333  \n",
       "Arkansas         19.366667    1172.666667  \n",
       "Louisiana        19.166667    1202.666667  \n",
       "Alabama          19.066667    1158.000000  \n",
       "Mississippi      18.533333    1238.333333  "
      ]
     },
     "execution_count": 44,
     "metadata": {},
     "output_type": "execute_result"
    }
   ],
   "source": [
    "# States with 100% ACT participation rate over the 3 years\n",
    "act100part = df_core['act_avg_part'] == 1         \n",
    "act_100_part = df_core[act100part]    \n",
    "\n",
    "act_100_part[:5].sort_values('act_avg_score', ascending=False)"
   ]
  },
  {
   "cell_type": "markdown",
   "metadata": {},
   "source": [
    "Of the states with 100% ACT participation in all 3 years, even the top 5 scorers are all falling well below the mean of 21.49"
   ]
  },
  {
   "cell_type": "code",
   "execution_count": 45,
   "metadata": {
    "ExecuteTime": {
     "end_time": "2021-04-03T06:34:01.020391Z",
     "start_time": "2021-04-03T06:34:01.007685Z"
    }
   },
   "outputs": [
    {
     "data": {
      "text/html": [
       "<div>\n",
       "<style scoped>\n",
       "    .dataframe tbody tr th:only-of-type {\n",
       "        vertical-align: middle;\n",
       "    }\n",
       "\n",
       "    .dataframe tbody tr th {\n",
       "        vertical-align: top;\n",
       "    }\n",
       "\n",
       "    .dataframe thead th {\n",
       "        text-align: right;\n",
       "    }\n",
       "</style>\n",
       "<table border=\"1\" class=\"dataframe\">\n",
       "  <thead>\n",
       "    <tr style=\"text-align: right;\">\n",
       "      <th></th>\n",
       "      <th>code</th>\n",
       "      <th>region</th>\n",
       "      <th>division</th>\n",
       "      <th>act_avg_part</th>\n",
       "      <th>sat_avg_part</th>\n",
       "      <th>act_avg_score</th>\n",
       "      <th>sat_avg_score</th>\n",
       "    </tr>\n",
       "    <tr>\n",
       "      <th>state</th>\n",
       "      <th></th>\n",
       "      <th></th>\n",
       "      <th></th>\n",
       "      <th></th>\n",
       "      <th></th>\n",
       "      <th></th>\n",
       "      <th></th>\n",
       "    </tr>\n",
       "  </thead>\n",
       "  <tbody>\n",
       "    <tr>\n",
       "      <th>Connecticut</th>\n",
       "      <td>CT</td>\n",
       "      <td>Northeast</td>\n",
       "      <td>New England</td>\n",
       "      <td>0.263333</td>\n",
       "      <td>1.0</td>\n",
       "      <td>25.433333</td>\n",
       "      <td>1046.666667</td>\n",
       "    </tr>\n",
       "    <tr>\n",
       "      <th>Delaware</th>\n",
       "      <td>DE</td>\n",
       "      <td>South</td>\n",
       "      <td>South Atlantic</td>\n",
       "      <td>0.160000</td>\n",
       "      <td>1.0</td>\n",
       "      <td>24.000000</td>\n",
       "      <td>993.000000</td>\n",
       "    </tr>\n",
       "    <tr>\n",
       "      <th>Michigan</th>\n",
       "      <td>MI</td>\n",
       "      <td>Midwest</td>\n",
       "      <td>East North Central</td>\n",
       "      <td>0.233333</td>\n",
       "      <td>1.0</td>\n",
       "      <td>24.233333</td>\n",
       "      <td>1006.333333</td>\n",
       "    </tr>\n",
       "  </tbody>\n",
       "</table>\n",
       "</div>"
      ],
      "text/plain": [
       "            code     region            division  act_avg_part  sat_avg_part  \\\n",
       "state                                                                         \n",
       "Connecticut   CT  Northeast         New England      0.263333           1.0   \n",
       "Delaware      DE      South      South Atlantic      0.160000           1.0   \n",
       "Michigan      MI    Midwest  East North Central      0.233333           1.0   \n",
       "\n",
       "             act_avg_score  sat_avg_score  \n",
       "state                                      \n",
       "Connecticut      25.433333    1046.666667  \n",
       "Delaware         24.000000     993.000000  \n",
       "Michigan         24.233333    1006.333333  "
      ]
     },
     "execution_count": 45,
     "metadata": {},
     "output_type": "execute_result"
    }
   ],
   "source": [
    "# States with 100% SAT participation rate over the 3 years\n",
    "sat100part = df_core['sat_avg_part'] == 1         \n",
    "sat_100_part = df_core[sat100part]                  \n",
    "\n",
    "sat_100_part"
   ]
  },
  {
   "cell_type": "markdown",
   "metadata": {},
   "source": [
    "The only 3 states with 100% SAT Participation \n",
    "\n",
    "It would be great to do more research to find out what led to the 100% rate. \n",
    "- What goes into that statistic?  \n",
    "- how are students counted (or excluded) from the count?)\n",
    "- Is it a result of mandatory testing? or because States pay for the testing?"
   ]
  },
  {
   "cell_type": "markdown",
   "metadata": {},
   "source": [
    "## Visualizations"
   ]
  },
  {
   "cell_type": "code",
   "execution_count": 79,
   "metadata": {
    "ExecuteTime": {
     "end_time": "2021-04-03T06:54:16.199063Z",
     "start_time": "2021-04-03T06:54:16.194726Z"
    }
   },
   "outputs": [],
   "source": [
    "sns.set_style(\"darkgrid\")"
   ]
  },
  {
   "cell_type": "markdown",
   "metadata": {
    "ExecuteTime": {
     "end_time": "2021-04-02T08:21:57.809192Z",
     "start_time": "2021-04-02T08:21:57.637529Z"
    }
   },
   "source": [
    "### Test Scores and Participation Rates by State - Scatter Plots"
   ]
  },
  {
   "cell_type": "markdown",
   "metadata": {},
   "source": [
    "I was really excited to get my data onto scatter plots so I started with them first and the negative correlation is clear in in the plots for both the ACT (Green) and the SAT (Blue)."
   ]
  },
  {
   "cell_type": "code",
   "execution_count": 80,
   "metadata": {
    "ExecuteTime": {
     "end_time": "2021-04-03T06:54:18.293565Z",
     "start_time": "2021-04-03T06:54:18.096216Z"
    },
    "scrolled": false
   },
   "outputs": [
    {
     "data": {
      "image/png": "[encoded data removed]",
      "text/plain": [
       "<Figure size 576x432 with 1 Axes>"
      ]
     },
     "metadata": {},
     "output_type": "display_data"
    }
   ],
   "source": [
    "plt.figure(figsize = (8,6))\n",
    "\n",
    "plt.scatter(x = df_core['act_avg_score'], y = df_core['act_avg_part'], \n",
    "            alpha = 1, color = \"mediumseagreen\")\n",
    "\n",
    "plt.title('US ACT Average Test Scores and Participation Rates 2017-2019', size = '18', pad = '14')\n",
    "\n",
    "plt.xlabel('Average Test Score By State', size = 16)\n",
    "plt.xticks(size = 12)\n",
    "# plt.axhline(y=.01, color='grey')\n",
    "# plt.axhline(y=1.195, color='grey')\n",
    "\n",
    "plt.ylabel('ACT State Participation Rate', size = 16)\n",
    "plt.yticks(size = 12);\n",
    "# plt.axvline(x=17.04, color='grey')\n",
    "# plt.axvline(x=25.95, color='grey')"
   ]
  },
  {
   "cell_type": "markdown",
   "metadata": {},
   "source": [
    "As average test scores increase, participation decreases significantly. The strong negative correlation is very similar to the one shown in the SAT. One of the notable differences being that, unlike the SAT, the states with the highest average scores all had greater than 10% participation (with the single exception of Maine at 7%)."
   ]
  },
  {
   "cell_type": "code",
   "execution_count": 81,
   "metadata": {
    "ExecuteTime": {
     "end_time": "2021-04-03T06:54:21.603471Z",
     "start_time": "2021-04-03T06:54:21.417351Z"
    }
   },
   "outputs": [
    {
     "data": {
      "image/png": "[encoded data removed]",
      "text/plain": [
       "<Figure size 576x432 with 1 Axes>"
      ]
     },
     "metadata": {},
     "output_type": "display_data"
    }
   ],
   "source": [
    "plt.figure(figsize = (8,6))\n",
    "\n",
    "plt.scatter(x = df_core['sat_avg_score'], \n",
    "            y = df_core['sat_avg_part'], \n",
    "            alpha = 1)\n",
    "\n",
    "plt.title('US SAT Average Test Scores and Participation Rates 2017-2019', \n",
    "          size = '18', pad = '14')\n",
    "plt.xlabel('Average Test Score By State', size = 16)\n",
    "plt.ylabel('SAT State Participation Rate', size = 16)\n",
    "plt.xticks(size = 12)\n",
    "plt.yticks(size = 12)\n",
    "plt.ylim([-.005, 1.2]);"
   ]
  },
  {
   "cell_type": "markdown",
   "metadata": {},
   "source": [
    "Just like the ACT scatterplot, as average test scores increase, participation decreases significantly. The main difference here being the steeper slope and the participation rates under 10% for the states with the highest averages."
   ]
  },
  {
   "cell_type": "markdown",
   "metadata": {},
   "source": [
    "### 3-Year Participation Rate Histograms"
   ]
  },
  {
   "cell_type": "code",
   "execution_count": 82,
   "metadata": {
    "ExecuteTime": {
     "end_time": "2021-04-03T06:54:24.096032Z",
     "start_time": "2021-04-03T06:54:23.879109Z"
    }
   },
   "outputs": [
    {
     "data": {
      "image/png": "[encoded data removed]",
      "text/plain": [
       "<Figure size 576x432 with 1 Axes>"
      ]
     },
     "metadata": {},
     "output_type": "display_data"
    }
   ],
   "source": [
    "plt.figure(figsize = (8,6))\n",
    "\n",
    "plt.hist(df_core['act_avg_part'], bins = 30, color = \"mediumseagreen\")\n",
    "plt.title('US ACT Average Participation Rates 2017-2019', size = '18', pad = '14')\n",
    "\n",
    "plt.xlabel('ACT State Participation Rate', size = 16)\n",
    "plt.xticks(size = 12)\n",
    "\n",
    "plt.ylabel('Number of States', size = 16)\n",
    "plt.yticks(size = 12);"
   ]
  },
  {
   "cell_type": "markdown",
   "metadata": {},
   "source": [
    "This plot and the next one reveal something pretty interesting that I hadn't noticed yet. In the scatterplots, I was largely focused on the clusters of high scoring, low participation states, and didn't realize how many states were clustered at the top relative to the rest of the chart."
   ]
  },
  {
   "cell_type": "code",
   "execution_count": 83,
   "metadata": {
    "ExecuteTime": {
     "end_time": "2021-04-03T06:54:26.119851Z",
     "start_time": "2021-04-03T06:54:25.904219Z"
    }
   },
   "outputs": [
    {
     "data": {
      "image/png": "[encoded data removed]",
      "text/plain": [
       "<Figure size 576x432 with 1 Axes>"
      ]
     },
     "metadata": {},
     "output_type": "display_data"
    }
   ],
   "source": [
    "plt.figure(figsize = (8,6))\n",
    "\n",
    "plt.hist(df_core['sat_avg_part'], bins = 30)\n",
    "plt.title('US SAT Average Participation Rates 2017-2019', size = '18', pad = '14')\n",
    "\n",
    "plt.xlabel('SAT State Participation Rate', size = 16)\n",
    "plt.xticks(size = 12)\n",
    "\n",
    "plt.ylabel('Number of States', size = 16)\n",
    "plt.yticks(size = 12);"
   ]
  },
  {
   "cell_type": "markdown",
   "metadata": {},
   "source": [
    "And then seeing this one show as the exact opposite of the ACT histogram is fascinating. With an almost equal amount of states clustered at 0% participation, It makes the SAT look far less popular than even I had noticed from the scatterplots."
   ]
  },
  {
   "cell_type": "markdown",
   "metadata": {},
   "source": [
    "### Participation Rates of the SAT and ACT over 35 years"
   ]
  },
  {
   "cell_type": "code",
   "execution_count": 84,
   "metadata": {
    "ExecuteTime": {
     "end_time": "2021-04-03T06:54:28.414787Z",
     "start_time": "2021-04-03T06:54:28.215633Z"
    }
   },
   "outputs": [
    {
     "data": {
      "image/png": "[encoded data removed]",
      "text/plain": [
       "<Figure size 864x360 with 1 Axes>"
      ]
     },
     "metadata": {},
     "output_type": "display_data"
    }
   ],
   "source": [
    "# dates = pd.date_range('1-1-1986', '1-1-2021', 35)\n",
    "\n",
    "plt.figure(figsize = (12, 5))\n",
    "\n",
    "plt.plot(history['class_of'],\n",
    "         history['act'], 'g-',\n",
    "         history['class_of'],\n",
    "         history['sat'], 'b-'\n",
    "        )\n",
    "\n",
    "plt.title('SAT and ACT Participation from 1986-2020', size = '18', pad = '14')\n",
    "\n",
    "plt.xlabel('Year', size = 16)\n",
    "plt.xticks(size = 12)\n",
    "\n",
    "plt.ylabel('Number of participants (Millions)', size = 16)\n",
    "plt.yticks(size = 12);\n",
    "\n",
    "# https://pandas.pydata.org/docs/reference/api/pandas.date_range.html"
   ]
  },
  {
   "cell_type": "markdown",
   "metadata": {},
   "source": [
    "The line graph showed a smaller gap in the late 1900s than I expected and in recent years, it's definitely clear that there's competition."
   ]
  },
  {
   "cell_type": "markdown",
   "metadata": {},
   "source": [
    "## Conclusions and Recommendations"
   ]
  },
  {
   "cell_type": "markdown",
   "metadata": {},
   "source": [
    "1. The SAT and ACT are the standard bearers and they really share the space. Though in recent years, their trajectories are pretty different.\n",
    "\n",
    "2. Average scores can be deceptive due to low participation rates in the states with the highest average scores.\n",
    "\n",
    "3. Much more research and analysis is justified to more fully understand the reasons behind the patterns discussed.\n"
   ]
  },
  {
   "cell_type": "markdown",
   "metadata": {},
   "source": [
    "<span style=\"color:red\">**To-Do:**</span> *Edit this cell with your conclusions and recommendations.*"
   ]
  }
 ],
 "metadata": {
  "anaconda-cloud": {},
  "kernelspec": {
   "display_name": "Python 3",
   "language": "python",
   "name": "python3"
  },
  "language_info": {
   "codemirror_mode": {
    "name": "ipython",
    "version": 3
   },
   "file_extension": ".py",
   "mimetype": "text/x-python",
   "name": "python",
   "nbconvert_exporter": "python",
   "pygments_lexer": "ipython3",
   "version": "3.8.5"
  },
  "toc": {
   "base_numbering": 1,
   "nav_menu": {
    "height": "323px",
    "width": "418px"
   },
   "number_sections": false,
   "sideBar": true,
   "skip_h1_title": false,
   "title_cell": "Contents",
   "title_sidebar": "Contents",
   "toc_cell": true,
   "toc_position": {
    "height": "calc(100% - 180px)",
    "left": "10px",
    "top": "150px",
    "width": "302.59375px"
   },
   "toc_section_display": true,
   "toc_window_display": true
  },
  "varInspector": {
   "cols": {
    "lenName": 16,
    "lenType": 16,
    "lenVar": 40
   },
   "kernels_config": {
    "python": {
     "delete_cmd_postfix": "",
     "delete_cmd_prefix": "del ",
     "library": "var_list.py",
     "varRefreshCmd": "print(var_dic_list())"
    },
    "r": {
     "delete_cmd_postfix": ") ",
     "delete_cmd_prefix": "rm(",
     "library": "var_list.r",
     "varRefreshCmd": "cat(var_dic_list()) "
    }
   },
   "oldHeight": 520,
   "position": {
    "height": "40px",
    "left": "1545px",
    "right": "20px",
    "top": "124px",
    "width": "490px"
   },
   "types_to_exclude": [
    "module",
    "function",
    "builtin_function_or_method",
    "instance",
    "_Feature"
   ],
   "varInspector_section_display": "none",
   "window_display": true
  }
 },
 "nbformat": 4,
 "nbformat_minor": 4
}
